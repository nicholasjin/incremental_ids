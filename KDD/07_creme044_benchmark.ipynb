{
 "cells": [
  {
   "cell_type": "markdown",
   "metadata": {
    "ExecuteTime": {
     "end_time": "2020-03-11T14:19:00.593682Z",
     "start_time": "2020-03-11T14:19:00.589691Z"
    }
   },
   "source": [
    "# HST benchmark\n",
    "In this notebook, we attempt to replicate the results presented in the [paper introducing Half-Space Trees](https://www.ijcai.org/Proceedings/11/Papers/254.pdf). The authors claim a .996 ROCAUC on the [KDD99HTTP dataset](http://odds.cs.stonybrook.edu/http-kddcup99-dataset/). We use `creme`'s implementation and attempt to replicate their results. We find that these results are only possible when the dataset is _prescaled_ and _shuffled,_ both options that invalidate the online learning paradigm."
   ]
  },
  {
   "cell_type": "code",
   "execution_count": 1,
   "metadata": {
    "ExecuteTime": {
     "end_time": "2020-03-17T23:42:09.207315Z",
     "start_time": "2020-03-17T23:42:07.174757Z"
    }
   },
   "outputs": [],
   "source": [
    "import numpy as np\n",
    "import pandas as pd\n",
    "import matplotlib\n",
    "import matplotlib.pyplot as plt\n",
    "import seaborn as sns\n",
    "\n",
    "import time\n",
    "\n",
    "from creme import datasets\n",
    "from creme import anomaly\n",
    "from creme import stream\n",
    "\n",
    "from sklearn.metrics import roc_auc_score\n",
    "from sklearn.ensemble import IsolationForest\n",
    "from sklearn.model_selection import train_test_split"
   ]
  },
  {
   "cell_type": "markdown",
   "metadata": {},
   "source": [
    "This notebook runs using the API of `creme 0.4.4`"
   ]
  },
  {
   "cell_type": "code",
   "execution_count": 2,
   "metadata": {
    "ExecuteTime": {
     "end_time": "2020-03-17T23:42:09.214148Z",
     "start_time": "2020-03-17T23:42:09.209269Z"
    }
   },
   "outputs": [],
   "source": [
    "import creme\n",
    "assert creme.__version__ == \"0.4.4\""
   ]
  },
  {
   "cell_type": "code",
   "execution_count": 3,
   "metadata": {
    "ExecuteTime": {
     "end_time": "2020-03-18T00:22:06.101242Z",
     "start_time": "2020-03-17T23:42:09.217076Z"
    },
    "scrolled": true
   },
   "outputs": [
    {
     "name": "stdout",
     "output_type": "stream",
     "text": [
      "iteration: 10000; time elapsed: 54.25441861152649\n",
      "rocauc: have only encountered one class\n",
      "iteration: 20000; time elapsed: 95.78404021263123\n",
      "rocauc: have only encountered one class\n",
      "iteration: 30000; time elapsed: 137.49432349205017\n",
      "rocauc: have only encountered one class\n",
      "iteration: 40000; time elapsed: 180.1520709991455\n",
      "rocauc: have only encountered one class\n",
      "iteration: 50000; time elapsed: 221.4606146812439\n",
      "rocauc: have only encountered one class\n",
      "iteration: 60000; time elapsed: 265.7636981010437\n",
      "rocauc: have only encountered one class\n",
      "iteration: 70000; time elapsed: 308.3105869293213\n",
      "rocauc: have only encountered one class\n",
      "iteration: 80000; time elapsed: 350.1188282966614\n",
      "rocauc: have only encountered one class\n",
      "iteration: 90000; time elapsed: 392.0654225349426\n",
      "rocauc: have only encountered one class\n",
      "iteration: 100000; time elapsed: 436.07345271110535\n",
      "rocauc: have only encountered one class\n",
      "iteration: 110000; time elapsed: 478.143785238266\n",
      "rocauc: have only encountered one class\n",
      "iteration: 120000; time elapsed: 519.4983854293823\n",
      "rocauc: have only encountered one class\n",
      "iteration: 130000; time elapsed: 560.6037511825562\n",
      "rocauc: have only encountered one class\n",
      "iteration: 140000; time elapsed: 605.1723637580872\n",
      "rocauc: have only encountered one class\n",
      "iteration: 150000; time elapsed: 648.6531302928925\n",
      "rocauc: have only encountered one class\n",
      "iteration: 160000; time elapsed: 691.6669476032257\n",
      "rocauc: have only encountered one class\n",
      "iteration: 170000; time elapsed: 734.2044470310211\n",
      "rocauc: have only encountered one class\n",
      "iteration: 180000; time elapsed: 776.9052894115448\n",
      "rocauc: have only encountered one class\n",
      "iteration: 190000; time elapsed: 818.5938990116119\n",
      "rocauc: have only encountered one class\n",
      "iteration: 200000; time elapsed: 859.8733425140381\n",
      "rocauc: have only encountered one class\n",
      "iteration: 210000; time elapsed: 902.5299184322357\n",
      "rocauc: 0.4991418273356599\n",
      "iteration: 220000; time elapsed: 944.2029132843018\n",
      "rocauc: 0.4991467499135373\n",
      "iteration: 230000; time elapsed: 987.377699136734\n",
      "rocauc: 0.49914471507913016\n",
      "iteration: 240000; time elapsed: 1030.2725512981415\n",
      "rocauc: 0.49916579074695094\n",
      "iteration: 250000; time elapsed: 1072.9066624641418\n",
      "rocauc: 0.49914714031743995\n",
      "iteration: 260000; time elapsed: 1116.1083533763885\n",
      "rocauc: 0.4991741996088517\n",
      "iteration: 270000; time elapsed: 1157.938537120819\n",
      "rocauc: 0.4991640345804232\n",
      "iteration: 280000; time elapsed: 1201.415730714798\n",
      "rocauc: 0.4989990991892703\n",
      "iteration: 290000; time elapsed: 1244.4734499454498\n",
      "rocauc: 0.49898014826676973\n",
      "iteration: 300000; time elapsed: 1285.8461120128632\n",
      "rocauc: 0.4989541214620281\n",
      "iteration: 310000; time elapsed: 1329.70378780365\n",
      "rocauc: 0.49895721683432986\n",
      "iteration: 320000; time elapsed: 1374.3730471134186\n",
      "rocauc: 0.49859635429779947\n",
      "iteration: 330000; time elapsed: 1417.3512923717499\n",
      "rocauc: 0.4984683167350127\n",
      "iteration: 340000; time elapsed: 1460.8564026355743\n",
      "rocauc: 0.4986083621210697\n",
      "iteration: 350000; time elapsed: 1504.082997560501\n",
      "rocauc: 0.49860088799549485\n",
      "iteration: 360000; time elapsed: 1550.0236942768097\n",
      "rocauc: 0.4986162080756944\n",
      "iteration: 370000; time elapsed: 1593.269103050232\n",
      "rocauc: 0.4985395722996534\n",
      "iteration: 380000; time elapsed: 1634.4940347671509\n",
      "rocauc: 0.4985398120608934\n",
      "iteration: 390000; time elapsed: 1678.0723974704742\n",
      "rocauc: 0.49850262105213033\n",
      "iteration: 400000; time elapsed: 1720.518166065216\n",
      "rocauc: 0.49847849693983926\n",
      "iteration: 410000; time elapsed: 1762.811644077301\n",
      "rocauc: 0.4984483187888454\n",
      "iteration: 420000; time elapsed: 1804.2743582725525\n",
      "rocauc: 0.4984746660288485\n",
      "iteration: 430000; time elapsed: 1846.0478873252869\n",
      "rocauc: 0.4984857472104877\n",
      "iteration: 440000; time elapsed: 1885.113620519638\n",
      "rocauc: 0.49836924273446426\n",
      "iteration: 450000; time elapsed: 1921.16024851799\n",
      "rocauc: 0.49832966718778765\n",
      "iteration: 460000; time elapsed: 1962.4934639930725\n",
      "rocauc: 0.4983464646996499\n",
      "iteration: 470000; time elapsed: 2003.0071399211884\n",
      "rocauc: 0.5053329922565842\n",
      "iteration: 480000; time elapsed: 2041.972731590271\n",
      "rocauc: 0.5053094204114911\n",
      "iteration: 490000; time elapsed: 2083.2390055656433\n",
      "rocauc: 0.5053210828821014\n",
      "iteration: 500000; time elapsed: 2124.4492309093475\n",
      "rocauc: 0.5052254289780038\n",
      "iteration: 510000; time elapsed: 2162.2767531871796\n",
      "rocauc: 0.5052619985719653\n",
      "iteration: 520000; time elapsed: 2202.6344995498657\n",
      "rocauc: 0.5048906251347194\n",
      "iteration: 530000; time elapsed: 2240.8441512584686\n",
      "rocauc: 0.504866000174395\n",
      "iteration: 540000; time elapsed: 2280.441684961319\n",
      "rocauc: 0.5048706247029997\n",
      "iteration: 550000; time elapsed: 2320.436240673065\n",
      "rocauc: 0.5048124683068986\n",
      "iteration: 560000; time elapsed: 2365.3066256046295\n",
      "rocauc: 0.5048168986245385\n"
     ]
    }
   ],
   "source": [
    "counter = 0\n",
    "hst = anomaly.HalfSpaceTrees(\n",
    "    n_trees=25,\n",
    "    tree_height=15,\n",
    "    window_size=250,\n",
    "    scale=True\n",
    ")\n",
    "\n",
    "y_true = []\n",
    "y_pred = []\n",
    "start_time = time.time()\n",
    "for x, y in datasets.fetch_kdd99_http():\n",
    "    if counter%10000 == 0 and counter > 1:\n",
    "        print(f\"iteration: {counter}; time elapsed: {time.time()-start_time}\")\n",
    "        if np.mean(y_true) != 0:\n",
    "            print(f\"rocauc: {roc_auc_score(y_true, y_pred)}\")\n",
    "        else:\n",
    "            print(f\"rocauc: have only encountered one class\")\n",
    "    if counter > 250:\n",
    "        y_true.append(y)\n",
    "        y_pred.append(hst.score_one(x))\n",
    "    hst.fit_one(x)\n",
    "    counter += 1"
   ]
  },
  {
   "cell_type": "code",
   "execution_count": 4,
   "metadata": {
    "ExecuteTime": {
     "end_time": "2020-03-18T00:22:06.439930Z",
     "start_time": "2020-03-18T00:22:06.104170Z"
    },
    "scrolled": true
   },
   "outputs": [
    {
     "data": {
      "text/plain": [
       "0.5048194989550726"
      ]
     },
     "execution_count": 4,
     "metadata": {},
     "output_type": "execute_result"
    }
   ],
   "source": [
    "roc_auc_score(y_true, y_pred)"
   ]
  },
  {
   "cell_type": "code",
   "execution_count": 5,
   "metadata": {
    "ExecuteTime": {
     "end_time": "2020-03-18T00:22:06.766305Z",
     "start_time": "2020-03-18T00:22:06.441882Z"
    }
   },
   "outputs": [
    {
     "data": {
      "text/plain": [
       "0.5048194989550726"
      ]
     },
     "execution_count": 5,
     "metadata": {},
     "output_type": "execute_result"
    }
   ],
   "source": [
    "roc_auc_score(y_true, y_pred)"
   ]
  },
  {
   "cell_type": "markdown",
   "metadata": {},
   "source": [
    "# Improper Preprocessing\n",
    "We suspect that the authors of the HST paper rescaled and shuffled their data. Testing that:\n"
   ]
  },
  {
   "cell_type": "code",
   "execution_count": 7,
   "metadata": {
    "ExecuteTime": {
     "end_time": "2020-03-18T00:22:14.620685Z",
     "start_time": "2020-03-18T00:22:14.417165Z"
    }
   },
   "outputs": [],
   "source": [
    "import h5py\n",
    "arrays = {}\n",
    "f = h5py.File(\"http.mat\")\n",
    "for k,v in f.items():\n",
    "    arrays[k] = np.array(v)"
   ]
  },
  {
   "cell_type": "code",
   "execution_count": 13,
   "metadata": {
    "ExecuteTime": {
     "end_time": "2020-03-18T00:22:20.744348Z",
     "start_time": "2020-03-18T00:22:20.739468Z"
    }
   },
   "outputs": [],
   "source": [
    "X0 = arrays[\"X\"][0]\n",
    "X1 = arrays[\"X\"][1]\n",
    "X2 = arrays[\"X\"][2]\n",
    "Y = arrays[\"y\"]"
   ]
  },
  {
   "cell_type": "code",
   "execution_count": 18,
   "metadata": {
    "ExecuteTime": {
     "end_time": "2020-03-18T00:23:43.616269Z",
     "start_time": "2020-03-18T00:23:43.513789Z"
    }
   },
   "outputs": [],
   "source": [
    "X = pd.DataFrame(arrays[\"X\"]).T"
   ]
  },
  {
   "cell_type": "code",
   "execution_count": 19,
   "metadata": {
    "ExecuteTime": {
     "end_time": "2020-03-18T00:23:43.733388Z",
     "start_time": "2020-03-18T00:23:43.618221Z"
    }
   },
   "outputs": [],
   "source": [
    "y = pd.DataFrame(arrays[\"y\"]).astype(int).T"
   ]
  },
  {
   "cell_type": "code",
   "execution_count": 20,
   "metadata": {
    "ExecuteTime": {
     "end_time": "2020-03-18T00:23:43.848557Z",
     "start_time": "2020-03-18T00:23:43.735341Z"
    }
   },
   "outputs": [],
   "source": [
    "X_train, X_test, y_train, y_test = train_test_split(X, y)"
   ]
  },
  {
   "cell_type": "code",
   "execution_count": 24,
   "metadata": {
    "ExecuteTime": {
     "end_time": "2020-03-18T00:24:45.607906Z",
     "start_time": "2020-03-18T00:24:45.594242Z"
    }
   },
   "outputs": [],
   "source": [
    "X[\"labels\"] = Y[0].astype(int)"
   ]
  },
  {
   "cell_type": "code",
   "execution_count": 25,
   "metadata": {
    "ExecuteTime": {
     "end_time": "2020-03-18T00:24:45.627426Z",
     "start_time": "2020-03-18T00:24:45.611811Z"
    }
   },
   "outputs": [],
   "source": [
    "from sklearn.preprocessing import StandardScaler"
   ]
  },
  {
   "cell_type": "code",
   "execution_count": 26,
   "metadata": {
    "ExecuteTime": {
     "end_time": "2020-03-18T00:24:46.209123Z",
     "start_time": "2020-03-18T00:24:45.633283Z"
    }
   },
   "outputs": [],
   "source": [
    "ss = StandardScaler()\n",
    "X[[0,1,2]] = ss.fit_transform(X[[0,1,2]])"
   ]
  },
  {
   "cell_type": "code",
   "execution_count": 27,
   "metadata": {
    "ExecuteTime": {
     "end_time": "2020-03-18T00:24:46.364860Z",
     "start_time": "2020-03-18T00:24:46.212051Z"
    }
   },
   "outputs": [],
   "source": [
    "X_processed = X.sample(frac=1).reset_index(drop=True)"
   ]
  },
  {
   "cell_type": "code",
   "execution_count": 28,
   "metadata": {
    "ExecuteTime": {
     "end_time": "2020-03-18T00:24:46.394141Z",
     "start_time": "2020-03-18T00:24:46.367789Z"
    }
   },
   "outputs": [
    {
     "data": {
      "text/html": [
       "<div>\n",
       "<style scoped>\n",
       "    .dataframe tbody tr th:only-of-type {\n",
       "        vertical-align: middle;\n",
       "    }\n",
       "\n",
       "    .dataframe tbody tr th {\n",
       "        vertical-align: top;\n",
       "    }\n",
       "\n",
       "    .dataframe thead th {\n",
       "        text-align: right;\n",
       "    }\n",
       "</style>\n",
       "<table border=\"1\" class=\"dataframe\">\n",
       "  <thead>\n",
       "    <tr style=\"text-align: right;\">\n",
       "      <th></th>\n",
       "      <th>0</th>\n",
       "      <th>1</th>\n",
       "      <th>2</th>\n",
       "      <th>labels</th>\n",
       "    </tr>\n",
       "  </thead>\n",
       "  <tbody>\n",
       "    <tr>\n",
       "      <th>0</th>\n",
       "      <td>-0.073165</td>\n",
       "      <td>-0.166589</td>\n",
       "      <td>1.403759</td>\n",
       "      <td>0</td>\n",
       "    </tr>\n",
       "    <tr>\n",
       "      <th>1</th>\n",
       "      <td>-0.073165</td>\n",
       "      <td>-0.244161</td>\n",
       "      <td>-1.313616</td>\n",
       "      <td>0</td>\n",
       "    </tr>\n",
       "    <tr>\n",
       "      <th>2</th>\n",
       "      <td>-0.073165</td>\n",
       "      <td>-0.324442</td>\n",
       "      <td>-0.970723</td>\n",
       "      <td>0</td>\n",
       "    </tr>\n",
       "    <tr>\n",
       "      <th>3</th>\n",
       "      <td>-0.073165</td>\n",
       "      <td>-0.304107</td>\n",
       "      <td>-0.383713</td>\n",
       "      <td>0</td>\n",
       "    </tr>\n",
       "    <tr>\n",
       "      <th>4</th>\n",
       "      <td>-0.073165</td>\n",
       "      <td>-0.073166</td>\n",
       "      <td>-1.019515</td>\n",
       "      <td>0</td>\n",
       "    </tr>\n",
       "    <tr>\n",
       "      <th>...</th>\n",
       "      <td>...</td>\n",
       "      <td>...</td>\n",
       "      <td>...</td>\n",
       "      <td>...</td>\n",
       "    </tr>\n",
       "    <tr>\n",
       "      <th>567493</th>\n",
       "      <td>-0.073165</td>\n",
       "      <td>0.664470</td>\n",
       "      <td>1.240416</td>\n",
       "      <td>0</td>\n",
       "    </tr>\n",
       "    <tr>\n",
       "      <th>567494</th>\n",
       "      <td>-0.073165</td>\n",
       "      <td>0.298008</td>\n",
       "      <td>1.499868</td>\n",
       "      <td>0</td>\n",
       "    </tr>\n",
       "    <tr>\n",
       "      <th>567495</th>\n",
       "      <td>-0.073165</td>\n",
       "      <td>-0.064029</td>\n",
       "      <td>-1.466999</td>\n",
       "      <td>0</td>\n",
       "    </tr>\n",
       "    <tr>\n",
       "      <th>567496</th>\n",
       "      <td>-0.073165</td>\n",
       "      <td>-0.629802</td>\n",
       "      <td>-1.407824</td>\n",
       "      <td>0</td>\n",
       "    </tr>\n",
       "    <tr>\n",
       "      <th>567497</th>\n",
       "      <td>-0.073165</td>\n",
       "      <td>-0.283951</td>\n",
       "      <td>-1.152414</td>\n",
       "      <td>0</td>\n",
       "    </tr>\n",
       "  </tbody>\n",
       "</table>\n",
       "<p>567498 rows × 4 columns</p>\n",
       "</div>"
      ],
      "text/plain": [
       "               0         1         2  labels\n",
       "0      -0.073165 -0.166589  1.403759       0\n",
       "1      -0.073165 -0.244161 -1.313616       0\n",
       "2      -0.073165 -0.324442 -0.970723       0\n",
       "3      -0.073165 -0.304107 -0.383713       0\n",
       "4      -0.073165 -0.073166 -1.019515       0\n",
       "...          ...       ...       ...     ...\n",
       "567493 -0.073165  0.664470  1.240416       0\n",
       "567494 -0.073165  0.298008  1.499868       0\n",
       "567495 -0.073165 -0.064029 -1.466999       0\n",
       "567496 -0.073165 -0.629802 -1.407824       0\n",
       "567497 -0.073165 -0.283951 -1.152414       0\n",
       "\n",
       "[567498 rows x 4 columns]"
      ]
     },
     "execution_count": 28,
     "metadata": {},
     "output_type": "execute_result"
    }
   ],
   "source": [
    "X_processed"
   ]
  },
  {
   "cell_type": "code",
   "execution_count": 29,
   "metadata": {
    "ExecuteTime": {
     "end_time": "2020-03-18T01:10:14.308889Z",
     "start_time": "2020-03-18T00:24:46.399997Z"
    },
    "scrolled": true
   },
   "outputs": [
    {
     "name": "stdout",
     "output_type": "stream",
     "text": [
      "iteration: 10000; time elapsed: 75.02194046974182\n",
      "rocauc: 0.006881556130107676\n",
      "iteration: 20000; time elapsed: 127.55825424194336\n",
      "rocauc: 0.007178005217248533\n",
      "iteration: 30000; time elapsed: 185.54238057136536\n",
      "rocauc: 0.007326296308796569\n",
      "iteration: 40000; time elapsed: 244.52945280075073\n",
      "rocauc: 0.006951168967740063\n",
      "iteration: 50000; time elapsed: 300.64176630973816\n",
      "rocauc: 0.007255643416195539\n",
      "iteration: 60000; time elapsed: 360.61462688446045\n",
      "rocauc: 0.007414315937197017\n",
      "iteration: 70000; time elapsed: 412.75404119491577\n",
      "rocauc: 0.010788325739034004\n",
      "iteration: 80000; time elapsed: 462.4446954727173\n",
      "rocauc: 0.010369131738800393\n",
      "iteration: 90000; time elapsed: 507.32474851608276\n",
      "rocauc: 0.009912449786697558\n",
      "iteration: 100000; time elapsed: 560.4726068973541\n",
      "rocauc: 0.009757245094066565\n",
      "iteration: 110000; time elapsed: 607.2813560962677\n",
      "rocauc: 0.009486988491269794\n",
      "iteration: 120000; time elapsed: 650.6357972621918\n",
      "rocauc: 0.009205968371137753\n",
      "iteration: 130000; time elapsed: 694.3732130527496\n",
      "rocauc: 0.009138359711941034\n",
      "iteration: 140000; time elapsed: 738.097925901413\n",
      "rocauc: 0.008923300781288265\n",
      "iteration: 150000; time elapsed: 786.9919445514679\n",
      "rocauc: 0.00886398885916196\n",
      "iteration: 160000; time elapsed: 834.8763875961304\n",
      "rocauc: 0.0087963160362425\n",
      "iteration: 170000; time elapsed: 883.3186461925507\n",
      "rocauc: 0.008712584574161195\n",
      "iteration: 180000; time elapsed: 931.1228234767914\n",
      "rocauc: 0.008600181074978196\n",
      "iteration: 190000; time elapsed: 976.5963397026062\n",
      "rocauc: 0.008529072379460968\n",
      "iteration: 200000; time elapsed: 1021.36945104599\n",
      "rocauc: 0.008449875908015615\n",
      "iteration: 210000; time elapsed: 1064.858639240265\n",
      "rocauc: 0.00835136478064726\n",
      "iteration: 220000; time elapsed: 1111.2213850021362\n",
      "rocauc: 0.008328676254169446\n",
      "iteration: 230000; time elapsed: 1159.3448421955109\n",
      "rocauc: 0.008271529689555393\n",
      "iteration: 240000; time elapsed: 1205.0754835605621\n",
      "rocauc: 0.008280188719274148\n",
      "iteration: 250000; time elapsed: 1247.9699943065643\n",
      "rocauc: 0.008239364673347039\n",
      "iteration: 260000; time elapsed: 1298.8690693378448\n",
      "rocauc: 0.008159676066176779\n",
      "iteration: 270000; time elapsed: 1350.94881606102\n",
      "rocauc: 0.008105784707718984\n",
      "iteration: 280000; time elapsed: 1400.281682729721\n",
      "rocauc: 0.00808932696043512\n",
      "iteration: 290000; time elapsed: 1448.6507120132446\n",
      "rocauc: 0.008037502208873712\n",
      "iteration: 300000; time elapsed: 1495.2466385364532\n",
      "rocauc: 0.007977644431941528\n",
      "iteration: 310000; time elapsed: 1541.8893959522247\n",
      "rocauc: 0.007916189806695905\n",
      "iteration: 320000; time elapsed: 1589.3229432106018\n",
      "rocauc: 0.007877406092036882\n",
      "iteration: 330000; time elapsed: 1636.22012758255\n",
      "rocauc: 0.007855466979919373\n",
      "iteration: 340000; time elapsed: 1683.8144752979279\n",
      "rocauc: 0.007837682972964556\n",
      "iteration: 350000; time elapsed: 1732.641722202301\n",
      "rocauc: 0.008470931066257705\n",
      "iteration: 360000; time elapsed: 1782.8653962612152\n",
      "rocauc: 0.008407312609248997\n",
      "iteration: 370000; time elapsed: 1829.9284398555756\n",
      "rocauc: 0.008371986518941521\n",
      "iteration: 380000; time elapsed: 1881.7908067703247\n",
      "rocauc: 0.008317022540896526\n",
      "iteration: 390000; time elapsed: 1928.2970583438873\n",
      "rocauc: 0.008772513260689448\n",
      "iteration: 400000; time elapsed: 1972.4496486186981\n",
      "rocauc: 0.008752447355942097\n",
      "iteration: 410000; time elapsed: 2022.6804721355438\n",
      "rocauc: 0.008729183314406523\n",
      "iteration: 420000; time elapsed: 2067.882651090622\n",
      "rocauc: 0.008714955372090575\n",
      "iteration: 430000; time elapsed: 2112.6631560325623\n",
      "rocauc: 0.008687549968145067\n",
      "iteration: 440000; time elapsed: 2157.0901639461517\n",
      "rocauc: 0.00866048563615653\n",
      "iteration: 450000; time elapsed: 2202.0595095157623\n",
      "rocauc: 0.00864917318714176\n",
      "iteration: 460000; time elapsed: 2244.9798097610474\n",
      "rocauc: 0.008607341365611709\n",
      "iteration: 470000; time elapsed: 2289.9702785015106\n",
      "rocauc: 0.00895190633649702\n",
      "iteration: 480000; time elapsed: 2335.9664330482483\n",
      "rocauc: 0.00888691872426468\n",
      "iteration: 490000; time elapsed: 2383.6841189861298\n",
      "rocauc: 0.008856494426765898\n",
      "iteration: 500000; time elapsed: 2426.420722961426\n",
      "rocauc: 0.008832648696156895\n",
      "iteration: 510000; time elapsed: 2468.543075323105\n",
      "rocauc: 0.00882500585174138\n",
      "iteration: 520000; time elapsed: 2510.5058834552765\n",
      "rocauc: 0.008790387919507078\n",
      "iteration: 530000; time elapsed: 2553.5727305412292\n",
      "rocauc: 0.00876318084934858\n",
      "iteration: 540000; time elapsed: 2600.54590010643\n",
      "rocauc: 0.008748485821245195\n",
      "iteration: 550000; time elapsed: 2647.212307214737\n",
      "rocauc: 0.00870825542342803\n",
      "iteration: 560000; time elapsed: 2693.43496799469\n",
      "rocauc: 0.008687874045177615\n"
     ]
    }
   ],
   "source": [
    "counter = 0\n",
    "hst = anomaly.HalfSpaceTrees(\n",
    "    n_trees=25,\n",
    "    tree_height=15,\n",
    "    window_size=250,\n",
    "    scale=False\n",
    ")\n",
    "\n",
    "y_true = []\n",
    "y_pred = []\n",
    "start_time = time.time()\n",
    "for x, y in stream.iter_pandas(X_processed[[0,1,2]], X_processed[\"labels\"]):\n",
    "    if counter%10000 == 0 and counter > 1:\n",
    "        print(f\"iteration: {counter}; time elapsed: {time.time()-start_time}\")\n",
    "        if np.mean(y_true) != 0:\n",
    "            print(f\"rocauc: {roc_auc_score(y_true, y_pred)}\")\n",
    "        else:\n",
    "            print(f\"have only encountered one class\")\n",
    "    if counter > 250:\n",
    "        y_true.append(y)\n",
    "        y_pred.append(hst.score_one(x))\n",
    "    hst.fit_one(x)\n",
    "    counter += 1"
   ]
  },
  {
   "cell_type": "code",
   "execution_count": 30,
   "metadata": {
    "ExecuteTime": {
     "end_time": "2020-03-18T01:10:14.798101Z",
     "start_time": "2020-03-18T01:10:14.310841Z"
    }
   },
   "outputs": [
    {
     "data": {
      "text/plain": [
       "0.00864682372900627"
      ]
     },
     "execution_count": 30,
     "metadata": {},
     "output_type": "execute_result"
    }
   ],
   "source": [
    "roc_auc_score(y_true, y_pred)"
   ]
  },
  {
   "cell_type": "code",
   "execution_count": null,
   "metadata": {},
   "outputs": [],
   "source": []
  }
 ],
 "metadata": {
  "kernelspec": {
   "display_name": "Python [conda env:root] *",
   "language": "python",
   "name": "conda-root-py"
  },
  "language_info": {
   "codemirror_mode": {
    "name": "ipython",
    "version": 3
   },
   "file_extension": ".py",
   "mimetype": "text/x-python",
   "name": "python",
   "nbconvert_exporter": "python",
   "pygments_lexer": "ipython3",
   "version": "3.7.6"
  },
  "toc": {
   "base_numbering": 1,
   "nav_menu": {},
   "number_sections": true,
   "sideBar": true,
   "skip_h1_title": false,
   "title_cell": "Table of Contents",
   "title_sidebar": "Contents",
   "toc_cell": false,
   "toc_position": {},
   "toc_section_display": true,
   "toc_window_display": false
  },
  "varInspector": {
   "cols": {
    "lenName": 16,
    "lenType": 16,
    "lenVar": 40
   },
   "kernels_config": {
    "python": {
     "delete_cmd_postfix": "",
     "delete_cmd_prefix": "del ",
     "library": "var_list.py",
     "varRefreshCmd": "print(var_dic_list())"
    },
    "r": {
     "delete_cmd_postfix": ") ",
     "delete_cmd_prefix": "rm(",
     "library": "var_list.r",
     "varRefreshCmd": "cat(var_dic_list()) "
    }
   },
   "types_to_exclude": [
    "module",
    "function",
    "builtin_function_or_method",
    "instance",
    "_Feature"
   ],
   "window_display": false
  }
 },
 "nbformat": 4,
 "nbformat_minor": 4
}
