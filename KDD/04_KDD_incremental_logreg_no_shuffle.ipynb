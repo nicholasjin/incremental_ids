{
 "cells": [
  {
   "cell_type": "markdown",
   "metadata": {},
   "source": [
    "# IDS with Incremental Learning\n",
    "In this notebook, we will use `creme`, a python library for online learning, and train a logistic regression sample by sample. Unlike our previous notebook, we do not shuffle the dataset before constructing our datastream. We find it makes little difference."
   ]
  },
  {
   "cell_type": "code",
   "execution_count": 1,
   "metadata": {
    "ExecuteTime": {
     "end_time": "2020-03-23T21:32:38.086625Z",
     "start_time": "2020-03-23T21:32:36.653961Z"
    }
   },
   "outputs": [],
   "source": [
    "import string\n",
    "import os\n",
    "import pickle\n",
    "\n",
    "\n",
    "import numpy as np\n",
    "import pandas as pd\n",
    "import matplotlib.pyplot as plt\n",
    "\n",
    "from pprint import pprint\n",
    "\n",
    "from creme import stream\n",
    "from creme import model_selection\n",
    "from creme import compose\n",
    "from creme import feature_extraction\n",
    "from creme import linear_model\n",
    "from creme import metrics\n",
    "from creme import preprocessing\n",
    "from creme import stats\n",
    "\n",
    "\n",
    "from sklearn.metrics import roc_auc_score, confusion_matrix, f1_score, precision_score, recall_score"
   ]
  },
  {
   "cell_type": "markdown",
   "metadata": {},
   "source": [
    "Reading in our data:"
   ]
  },
  {
   "cell_type": "code",
   "execution_count": 2,
   "metadata": {
    "ExecuteTime": {
     "end_time": "2020-03-23T21:32:38.103218Z",
     "start_time": "2020-03-23T21:32:38.095410Z"
    }
   },
   "outputs": [],
   "source": [
    "train_attack_types = pd.read_csv(\"datasets/training_attack_types.txt\", delimiter=\" \", header=None, names= [\"attack_type\", \"attack_category\"])"
   ]
  },
  {
   "cell_type": "markdown",
   "metadata": {},
   "source": [
    "`cols` is a list of all of our column names (including 20+ columns that are the result of expertise-driven feature engineering); `reduced_cols` is the first nine column names plus the label. `reduced_cols` corresponds to basic packet metadata."
   ]
  },
  {
   "cell_type": "code",
   "execution_count": 3,
   "metadata": {
    "ExecuteTime": {
     "end_time": "2020-03-23T21:32:38.132498Z",
     "start_time": "2020-03-23T21:32:38.118835Z"
    }
   },
   "outputs": [
    {
     "data": {
      "text/plain": [
       "['duration',\n",
       " 'protocol_type',\n",
       " 'service',\n",
       " 'flag',\n",
       " 'src_bytes',\n",
       " 'dst_bytes',\n",
       " 'land',\n",
       " 'wrong_fragment',\n",
       " 'urgent',\n",
       " 'label']"
      ]
     },
     "execution_count": 3,
     "metadata": {},
     "output_type": "execute_result"
    }
   ],
   "source": [
    "cols = list(pd.read_csv(\"datasets/kddcup.names.txt\", skiprows=1, header=None)[0].map(lambda x: str(x).split(\":\")[0]).values)\n",
    "cols.append(\"label\")\n",
    "\n",
    "\n",
    "reduced_cols = cols[:9]\n",
    "reduced_cols.append(\"label\")\n",
    "\n",
    "reduced_cols"
   ]
  },
  {
   "cell_type": "markdown",
   "metadata": {},
   "source": [
    "# Train/test split\n",
    "In online learning, we do not partition our data into a training set and a test set. Since we learn on a per-observation basis, EVERY observation is a test observation, and after we've made our prediction we can then use it as a training observation. It's quite elegant, actually! KDD itself _is_ partitioned into a training and test set, and most importantly, the test set contains attacks that are not present in the train set. Thus, performance on the test set is useful to measure how generalizable our classifier is."
   ]
  },
  {
   "cell_type": "code",
   "execution_count": 4,
   "metadata": {
    "ExecuteTime": {
     "end_time": "2020-03-23T21:32:57.396787Z",
     "start_time": "2020-03-23T21:32:38.147141Z"
    }
   },
   "outputs": [],
   "source": [
    "train = pd.read_csv(\"datasets/kddcup.data.corrected.txt\", header=None, names=cols)"
   ]
  },
  {
   "cell_type": "markdown",
   "metadata": {},
   "source": [
    "Discard the columns that are engineered features:"
   ]
  },
  {
   "cell_type": "code",
   "execution_count": 5,
   "metadata": {
    "ExecuteTime": {
     "end_time": "2020-03-23T21:32:59.780522Z",
     "start_time": "2020-03-23T21:32:58.839143Z"
    }
   },
   "outputs": [],
   "source": [
    "train = train[reduced_cols].copy()"
   ]
  },
  {
   "cell_type": "code",
   "execution_count": 6,
   "metadata": {
    "ExecuteTime": {
     "end_time": "2020-03-23T21:33:01.075887Z",
     "start_time": "2020-03-23T21:32:59.802972Z"
    }
   },
   "outputs": [],
   "source": [
    "test = pd.read_csv(\"datasets/corrected.txt\", header=None, names=cols)"
   ]
  },
  {
   "cell_type": "markdown",
   "metadata": {},
   "source": [
    "Discard the columns that are engineered features:"
   ]
  },
  {
   "cell_type": "code",
   "execution_count": 7,
   "metadata": {
    "ExecuteTime": {
     "end_time": "2020-03-23T21:33:01.276505Z",
     "start_time": "2020-03-23T21:33:01.205694Z"
    }
   },
   "outputs": [],
   "source": [
    "test = test[reduced_cols].copy()"
   ]
  },
  {
   "cell_type": "code",
   "execution_count": 8,
   "metadata": {
    "ExecuteTime": {
     "end_time": "2020-03-23T21:33:01.331131Z",
     "start_time": "2020-03-23T21:33:01.309659Z"
    }
   },
   "outputs": [
    {
     "data": {
      "text/html": [
       "<div>\n",
       "<style scoped>\n",
       "    .dataframe tbody tr th:only-of-type {\n",
       "        vertical-align: middle;\n",
       "    }\n",
       "\n",
       "    .dataframe tbody tr th {\n",
       "        vertical-align: top;\n",
       "    }\n",
       "\n",
       "    .dataframe thead th {\n",
       "        text-align: right;\n",
       "    }\n",
       "</style>\n",
       "<table border=\"1\" class=\"dataframe\">\n",
       "  <thead>\n",
       "    <tr style=\"text-align: right;\">\n",
       "      <th></th>\n",
       "      <th>duration</th>\n",
       "      <th>protocol_type</th>\n",
       "      <th>service</th>\n",
       "      <th>flag</th>\n",
       "      <th>src_bytes</th>\n",
       "      <th>dst_bytes</th>\n",
       "      <th>land</th>\n",
       "      <th>wrong_fragment</th>\n",
       "      <th>urgent</th>\n",
       "      <th>label</th>\n",
       "    </tr>\n",
       "  </thead>\n",
       "  <tbody>\n",
       "    <tr>\n",
       "      <th>0</th>\n",
       "      <td>0</td>\n",
       "      <td>tcp</td>\n",
       "      <td>http</td>\n",
       "      <td>SF</td>\n",
       "      <td>215</td>\n",
       "      <td>45076</td>\n",
       "      <td>0</td>\n",
       "      <td>0</td>\n",
       "      <td>0</td>\n",
       "      <td>normal.</td>\n",
       "    </tr>\n",
       "    <tr>\n",
       "      <th>1</th>\n",
       "      <td>0</td>\n",
       "      <td>tcp</td>\n",
       "      <td>http</td>\n",
       "      <td>SF</td>\n",
       "      <td>162</td>\n",
       "      <td>4528</td>\n",
       "      <td>0</td>\n",
       "      <td>0</td>\n",
       "      <td>0</td>\n",
       "      <td>normal.</td>\n",
       "    </tr>\n",
       "    <tr>\n",
       "      <th>2</th>\n",
       "      <td>0</td>\n",
       "      <td>tcp</td>\n",
       "      <td>http</td>\n",
       "      <td>SF</td>\n",
       "      <td>236</td>\n",
       "      <td>1228</td>\n",
       "      <td>0</td>\n",
       "      <td>0</td>\n",
       "      <td>0</td>\n",
       "      <td>normal.</td>\n",
       "    </tr>\n",
       "    <tr>\n",
       "      <th>3</th>\n",
       "      <td>0</td>\n",
       "      <td>tcp</td>\n",
       "      <td>http</td>\n",
       "      <td>SF</td>\n",
       "      <td>233</td>\n",
       "      <td>2032</td>\n",
       "      <td>0</td>\n",
       "      <td>0</td>\n",
       "      <td>0</td>\n",
       "      <td>normal.</td>\n",
       "    </tr>\n",
       "    <tr>\n",
       "      <th>4</th>\n",
       "      <td>0</td>\n",
       "      <td>tcp</td>\n",
       "      <td>http</td>\n",
       "      <td>SF</td>\n",
       "      <td>239</td>\n",
       "      <td>486</td>\n",
       "      <td>0</td>\n",
       "      <td>0</td>\n",
       "      <td>0</td>\n",
       "      <td>normal.</td>\n",
       "    </tr>\n",
       "  </tbody>\n",
       "</table>\n",
       "</div>"
      ],
      "text/plain": [
       "   duration protocol_type service flag  src_bytes  dst_bytes  land  \\\n",
       "0         0           tcp    http   SF        215      45076     0   \n",
       "1         0           tcp    http   SF        162       4528     0   \n",
       "2         0           tcp    http   SF        236       1228     0   \n",
       "3         0           tcp    http   SF        233       2032     0   \n",
       "4         0           tcp    http   SF        239        486     0   \n",
       "\n",
       "   wrong_fragment  urgent    label  \n",
       "0               0       0  normal.  \n",
       "1               0       0  normal.  \n",
       "2               0       0  normal.  \n",
       "3               0       0  normal.  \n",
       "4               0       0  normal.  "
      ]
     },
     "execution_count": 8,
     "metadata": {},
     "output_type": "execute_result"
    }
   ],
   "source": [
    "train.head()"
   ]
  },
  {
   "cell_type": "code",
   "execution_count": 9,
   "metadata": {
    "ExecuteTime": {
     "end_time": "2020-03-23T21:33:01.381418Z",
     "start_time": "2020-03-23T21:33:01.361914Z"
    }
   },
   "outputs": [
    {
     "data": {
      "text/html": [
       "<div>\n",
       "<style scoped>\n",
       "    .dataframe tbody tr th:only-of-type {\n",
       "        vertical-align: middle;\n",
       "    }\n",
       "\n",
       "    .dataframe tbody tr th {\n",
       "        vertical-align: top;\n",
       "    }\n",
       "\n",
       "    .dataframe thead th {\n",
       "        text-align: right;\n",
       "    }\n",
       "</style>\n",
       "<table border=\"1\" class=\"dataframe\">\n",
       "  <thead>\n",
       "    <tr style=\"text-align: right;\">\n",
       "      <th></th>\n",
       "      <th>duration</th>\n",
       "      <th>protocol_type</th>\n",
       "      <th>service</th>\n",
       "      <th>flag</th>\n",
       "      <th>src_bytes</th>\n",
       "      <th>dst_bytes</th>\n",
       "      <th>land</th>\n",
       "      <th>wrong_fragment</th>\n",
       "      <th>urgent</th>\n",
       "      <th>label</th>\n",
       "    </tr>\n",
       "  </thead>\n",
       "  <tbody>\n",
       "    <tr>\n",
       "      <th>0</th>\n",
       "      <td>0</td>\n",
       "      <td>udp</td>\n",
       "      <td>private</td>\n",
       "      <td>SF</td>\n",
       "      <td>105</td>\n",
       "      <td>146</td>\n",
       "      <td>0</td>\n",
       "      <td>0</td>\n",
       "      <td>0</td>\n",
       "      <td>normal.</td>\n",
       "    </tr>\n",
       "    <tr>\n",
       "      <th>1</th>\n",
       "      <td>0</td>\n",
       "      <td>udp</td>\n",
       "      <td>private</td>\n",
       "      <td>SF</td>\n",
       "      <td>105</td>\n",
       "      <td>146</td>\n",
       "      <td>0</td>\n",
       "      <td>0</td>\n",
       "      <td>0</td>\n",
       "      <td>normal.</td>\n",
       "    </tr>\n",
       "    <tr>\n",
       "      <th>2</th>\n",
       "      <td>0</td>\n",
       "      <td>udp</td>\n",
       "      <td>private</td>\n",
       "      <td>SF</td>\n",
       "      <td>105</td>\n",
       "      <td>146</td>\n",
       "      <td>0</td>\n",
       "      <td>0</td>\n",
       "      <td>0</td>\n",
       "      <td>normal.</td>\n",
       "    </tr>\n",
       "    <tr>\n",
       "      <th>3</th>\n",
       "      <td>0</td>\n",
       "      <td>udp</td>\n",
       "      <td>private</td>\n",
       "      <td>SF</td>\n",
       "      <td>105</td>\n",
       "      <td>146</td>\n",
       "      <td>0</td>\n",
       "      <td>0</td>\n",
       "      <td>0</td>\n",
       "      <td>snmpgetattack.</td>\n",
       "    </tr>\n",
       "    <tr>\n",
       "      <th>4</th>\n",
       "      <td>0</td>\n",
       "      <td>udp</td>\n",
       "      <td>private</td>\n",
       "      <td>SF</td>\n",
       "      <td>105</td>\n",
       "      <td>146</td>\n",
       "      <td>0</td>\n",
       "      <td>0</td>\n",
       "      <td>0</td>\n",
       "      <td>snmpgetattack.</td>\n",
       "    </tr>\n",
       "  </tbody>\n",
       "</table>\n",
       "</div>"
      ],
      "text/plain": [
       "   duration protocol_type  service flag  src_bytes  dst_bytes  land  \\\n",
       "0         0           udp  private   SF        105        146     0   \n",
       "1         0           udp  private   SF        105        146     0   \n",
       "2         0           udp  private   SF        105        146     0   \n",
       "3         0           udp  private   SF        105        146     0   \n",
       "4         0           udp  private   SF        105        146     0   \n",
       "\n",
       "   wrong_fragment  urgent           label  \n",
       "0               0       0         normal.  \n",
       "1               0       0         normal.  \n",
       "2               0       0         normal.  \n",
       "3               0       0  snmpgetattack.  \n",
       "4               0       0  snmpgetattack.  "
      ]
     },
     "execution_count": 9,
     "metadata": {},
     "output_type": "execute_result"
    }
   ],
   "source": [
    "test.head()"
   ]
  },
  {
   "cell_type": "markdown",
   "metadata": {},
   "source": [
    "# Preprocessing"
   ]
  },
  {
   "cell_type": "markdown",
   "metadata": {},
   "source": [
    "## Process the label column\n",
    "We want to generate a binary label:"
   ]
  },
  {
   "cell_type": "code",
   "execution_count": 10,
   "metadata": {
    "ExecuteTime": {
     "end_time": "2020-03-23T21:33:03.535765Z",
     "start_time": "2020-03-23T21:33:01.414601Z"
    }
   },
   "outputs": [],
   "source": [
    "train[\"label\"] = train[\"label\"].map(lambda x: x.split(\".\")[0])\n",
    "test[\"label\"] = test[\"label\"].map(lambda x: x.split(\".\")[0])"
   ]
  },
  {
   "cell_type": "markdown",
   "metadata": {},
   "source": [
    "### Binary label (normal/malicious)"
   ]
  },
  {
   "cell_type": "code",
   "execution_count": 11,
   "metadata": {
    "ExecuteTime": {
     "end_time": "2020-03-23T21:33:05.837537Z",
     "start_time": "2020-03-23T21:33:03.571840Z"
    }
   },
   "outputs": [],
   "source": [
    "train[\"label_binary\"] = train[\"label\"].map(lambda x: 0 if x==\"normal\" else 1)\n",
    "test[\"label_binary\"] = test[\"label\"].map(lambda x: 0 if x==\"normal\" else 1)"
   ]
  },
  {
   "cell_type": "code",
   "execution_count": 12,
   "metadata": {
    "ExecuteTime": {
     "end_time": "2020-03-23T21:33:05.893559Z",
     "start_time": "2020-03-23T21:33:05.876559Z"
    }
   },
   "outputs": [
    {
     "data": {
      "text/plain": [
       "1    250436\n",
       "0     60593\n",
       "Name: label_binary, dtype: int64"
      ]
     },
     "execution_count": 12,
     "metadata": {},
     "output_type": "execute_result"
    }
   ],
   "source": [
    "test[\"label_binary\"].value_counts()"
   ]
  },
  {
   "cell_type": "code",
   "execution_count": 13,
   "metadata": {
    "ExecuteTime": {
     "end_time": "2020-03-23T21:33:06.027790Z",
     "start_time": "2020-03-23T21:33:05.934552Z"
    }
   },
   "outputs": [
    {
     "data": {
      "text/plain": [
       "1    3925650\n",
       "0     972781\n",
       "Name: label_binary, dtype: int64"
      ]
     },
     "execution_count": 13,
     "metadata": {},
     "output_type": "execute_result"
    }
   ],
   "source": [
    "train[\"label_binary\"].value_counts()"
   ]
  },
  {
   "cell_type": "code",
   "execution_count": 15,
   "metadata": {
    "ExecuteTime": {
     "end_time": "2020-03-18T17:05:47.203641Z",
     "start_time": "2020-03-18T17:05:42.319899Z"
    }
   },
   "outputs": [],
   "source": [
    "# X = pd.get_dummies(train, columns=[\"protocol_type\", \"service\", \"flag\"], drop_first=True).drop(columns=[\"label\", \"label_binary\"])\n",
    "# train_shuffled = train.sample(frac=1).reset_index(drop=True)"
   ]
  },
  {
   "cell_type": "markdown",
   "metadata": {},
   "source": [
    "# Incremental Logistic Regression\n",
    "## Data stream\n",
    "Here we will build our data stream"
   ]
  },
  {
   "cell_type": "code",
   "execution_count": 14,
   "metadata": {
    "ExecuteTime": {
     "end_time": "2020-03-23T21:33:06.067806Z",
     "start_time": "2020-03-23T21:33:06.061949Z"
    }
   },
   "outputs": [
    {
     "data": {
      "text/plain": [
       "(4898431, 11)"
      ]
     },
     "execution_count": 14,
     "metadata": {},
     "output_type": "execute_result"
    }
   ],
   "source": [
    "train.shape"
   ]
  },
  {
   "cell_type": "code",
   "execution_count": 15,
   "metadata": {
    "ExecuteTime": {
     "end_time": "2020-03-23T21:33:06.108335Z",
     "start_time": "2020-03-23T21:33:06.103456Z"
    }
   },
   "outputs": [],
   "source": [
    "N = 500_000"
   ]
  },
  {
   "cell_type": "code",
   "execution_count": 16,
   "metadata": {
    "ExecuteTime": {
     "end_time": "2020-03-23T21:33:21.196605Z",
     "start_time": "2020-03-23T21:33:20.086726Z"
    }
   },
   "outputs": [],
   "source": [
    "holdout = train.iloc[N:].copy().reset_index(drop=True)\n",
    "train = train.iloc[:N].reset_index(drop=True)"
   ]
  },
  {
   "cell_type": "code",
   "execution_count": 17,
   "metadata": {
    "ExecuteTime": {
     "end_time": "2020-03-23T21:33:23.341620Z",
     "start_time": "2020-03-23T21:33:23.006696Z"
    }
   },
   "outputs": [],
   "source": [
    "datastream = stream.iter_pandas(train.drop(columns=[\"label_binary\", \"label\"]), train[\"label_binary\"])\n",
    "teststream = stream.iter_pandas(holdout.drop(columns=[\"label_binary\", \"label\"]), holdout[\"label_binary\"])"
   ]
  },
  {
   "cell_type": "markdown",
   "metadata": {},
   "source": [
    "## Pipeline\n",
    "We will scale and one-hot-encode."
   ]
  },
  {
   "cell_type": "code",
   "execution_count": 18,
   "metadata": {
    "ExecuteTime": {
     "end_time": "2020-03-23T21:33:29.274336Z",
     "start_time": "2020-03-23T21:33:29.265568Z"
    }
   },
   "outputs": [
    {
     "data": {
      "text/plain": [
       "duration           int64\n",
       "protocol_type     object\n",
       "service           object\n",
       "flag              object\n",
       "src_bytes          int64\n",
       "dst_bytes          int64\n",
       "land               int64\n",
       "wrong_fragment     int64\n",
       "urgent             int64\n",
       "label             object\n",
       "label_binary       int64\n",
       "dtype: object"
      ]
     },
     "execution_count": 18,
     "metadata": {},
     "output_type": "execute_result"
    }
   ],
   "source": [
    "train.dtypes"
   ]
  },
  {
   "cell_type": "code",
   "execution_count": 19,
   "metadata": {
    "ExecuteTime": {
     "end_time": "2020-03-23T21:33:34.006659Z",
     "start_time": "2020-03-23T21:33:34.000802Z"
    }
   },
   "outputs": [],
   "source": [
    "cols_string = [col for col,col_type in zip(train.columns[:-2], train.dtypes[:-2]) if col_type == \"object\"]"
   ]
  },
  {
   "cell_type": "code",
   "execution_count": 20,
   "metadata": {
    "ExecuteTime": {
     "end_time": "2020-03-23T21:33:38.479800Z",
     "start_time": "2020-03-23T21:33:38.120925Z"
    }
   },
   "outputs": [
    {
     "data": {
      "text/plain": [
       "'Digraph.gv.svg'"
      ]
     },
     "execution_count": 20,
     "metadata": {},
     "output_type": "execute_result"
    }
   ],
   "source": [
    "ohe_list = [preprocessing.OneHotEncoder(col) for col in cols_string]\n",
    "string_processor = (compose.TransformerUnion(ohe_list))\n",
    "\n",
    "num_processor = compose.Blacklister(*cols_string)|preprocessing.StandardScaler()\n",
    "\n",
    "model = string_processor + num_processor\n",
    "model |= linear_model.LogisticRegression()\n",
    "model.draw().render(format=\"svg\")"
   ]
  },
  {
   "cell_type": "code",
   "execution_count": 21,
   "metadata": {
    "ExecuteTime": {
     "end_time": "2020-03-23T21:37:01.965355Z",
     "start_time": "2020-03-23T21:33:41.550712Z"
    }
   },
   "outputs": [
    {
     "name": "stdout",
     "output_type": "stream",
     "text": [
      "Current iteration: 0\n",
      "Current recall: Recall: 0.\n",
      "Current f1: F1: 0.\n",
      "Current precision: Precision: 0.\n",
      "\n",
      "Current iteration: 10000\n",
      "Current recall: Recall: 0.\n",
      "Current f1: F1: 0.\n",
      "Current precision: Precision: 0.\n",
      "\n",
      "Current iteration: 20000\n",
      "Current recall: Recall: 0.\n",
      "Current f1: F1: 0.\n",
      "Current precision: Precision: 0.\n",
      "\n",
      "Current iteration: 30000\n",
      "Current recall: Recall: 0.\n",
      "Current f1: F1: 0.\n",
      "Current precision: Precision: 0.\n",
      "\n",
      "Current iteration: 40000\n",
      "Current recall: Recall: 0.\n",
      "Current f1: F1: 0.\n",
      "Current precision: Precision: 0.\n",
      "\n",
      "Current iteration: 50000\n",
      "Current recall: Recall: 0.\n",
      "Current f1: F1: 0.\n",
      "Current precision: Precision: 0.\n",
      "\n",
      "Current iteration: 60000\n",
      "Current recall: Recall: 0.\n",
      "Current f1: F1: 0.\n",
      "Current precision: Precision: 0.\n",
      "\n",
      "Current iteration: 70000\n",
      "Current recall: Recall: 0.\n",
      "Current f1: F1: 0.\n",
      "Current precision: Precision: 0.\n",
      "\n",
      "Current iteration: 80000\n",
      "Current recall: Recall: 0.937027\n",
      "Current f1: F1: 0.96749\n",
      "Current precision: Precision: 1.\n",
      "\n",
      "Current iteration: 90000\n",
      "Current recall: Recall: 0.989019\n",
      "Current f1: F1: 0.994479\n",
      "Current precision: Precision: 1.\n",
      "\n",
      "Current iteration: 100000\n",
      "Current recall: Recall: 0.993985\n",
      "Current f1: F1: 0.996984\n",
      "Current precision: Precision: 1.\n",
      "\n",
      "Current iteration: 110000\n",
      "Current recall: Recall: 0.995858\n",
      "Current f1: F1: 0.997925\n",
      "Current precision: Precision: 1.\n",
      "\n",
      "Current iteration: 120000\n",
      "Current recall: Recall: 0.996402\n",
      "Current f1: F1: 0.996307\n",
      "Current precision: Precision: 0.996213\n",
      "\n",
      "Current iteration: 130000\n",
      "Current recall: Recall: 0.996402\n",
      "Current f1: F1: 0.996307\n",
      "Current precision: Precision: 0.996213\n",
      "\n",
      "Current iteration: 140000\n",
      "Current recall: Recall: 0.996402\n",
      "Current f1: F1: 0.996307\n",
      "Current precision: Precision: 0.996213\n",
      "\n",
      "Current iteration: 150000\n",
      "Current recall: Recall: 0.996402\n",
      "Current f1: F1: 0.996307\n",
      "Current precision: Precision: 0.996213\n",
      "\n",
      "Current iteration: 160000\n",
      "Current recall: Recall: 0.99635\n",
      "Current f1: F1: 0.996242\n",
      "Current precision: Precision: 0.996134\n",
      "\n",
      "Current iteration: 170000\n",
      "Current recall: Recall: 0.99635\n",
      "Current f1: F1: 0.996242\n",
      "Current precision: Precision: 0.996134\n",
      "\n",
      "Current iteration: 180000\n",
      "Current recall: Recall: 0.99635\n",
      "Current f1: F1: 0.996242\n",
      "Current precision: Precision: 0.996134\n",
      "\n",
      "Current iteration: 190000\n",
      "Current recall: Recall: 0.99635\n",
      "Current f1: F1: 0.996242\n",
      "Current precision: Precision: 0.996134\n",
      "\n",
      "Current iteration: 200000\n",
      "Current recall: Recall: 0.99636\n",
      "Current f1: F1: 0.996252\n",
      "Current precision: Precision: 0.996145\n",
      "\n",
      "Current iteration: 210000\n",
      "Current recall: Recall: 0.99636\n",
      "Current f1: F1: 0.996252\n",
      "Current precision: Precision: 0.996145\n",
      "\n",
      "Current iteration: 220000\n",
      "Current recall: Recall: 0.99636\n",
      "Current f1: F1: 0.996252\n",
      "Current precision: Precision: 0.996145\n",
      "\n",
      "Current iteration: 230000\n",
      "Current recall: Recall: 0.990618\n",
      "Current f1: F1: 0.993374\n",
      "Current precision: Precision: 0.996145\n",
      "\n",
      "Current iteration: 240000\n",
      "Current recall: Recall: 0.990618\n",
      "Current f1: F1: 0.993374\n",
      "Current precision: Precision: 0.996145\n",
      "\n",
      "Current iteration: 250000\n",
      "Current recall: Recall: 0.990618\n",
      "Current f1: F1: 0.993374\n",
      "Current precision: Precision: 0.996145\n",
      "\n",
      "Current iteration: 260000\n",
      "Current recall: Recall: 0.990618\n",
      "Current f1: F1: 0.993374\n",
      "Current precision: Precision: 0.996145\n",
      "\n",
      "Current iteration: 270000\n",
      "Current recall: Recall: 0.986947\n",
      "Current f1: F1: 0.99146\n",
      "Current precision: Precision: 0.996014\n",
      "\n",
      "Current iteration: 280000\n",
      "Current recall: Recall: 0.986947\n",
      "Current f1: F1: 0.99146\n",
      "Current precision: Precision: 0.996014\n",
      "\n",
      "Current iteration: 290000\n",
      "Current recall: Recall: 0.986947\n",
      "Current f1: F1: 0.99146\n",
      "Current precision: Precision: 0.996014\n",
      "\n",
      "Current iteration: 300000\n",
      "Current recall: Recall: 0.986947\n",
      "Current f1: F1: 0.99146\n",
      "Current precision: Precision: 0.996014\n",
      "\n",
      "Current iteration: 310000\n",
      "Current recall: Recall: 0.986947\n",
      "Current f1: F1: 0.99146\n",
      "Current precision: Precision: 0.996014\n",
      "\n",
      "Current iteration: 320000\n",
      "Current recall: Recall: 0.986921\n",
      "Current f1: F1: 0.991446\n",
      "Current precision: Precision: 0.996014\n",
      "\n",
      "Current iteration: 330000\n",
      "Current recall: Recall: 0.986921\n",
      "Current f1: F1: 0.991446\n",
      "Current precision: Precision: 0.996014\n",
      "\n",
      "Current iteration: 340000\n",
      "Current recall: Recall: 0.986921\n",
      "Current f1: F1: 0.991446\n",
      "Current precision: Precision: 0.996014\n",
      "\n",
      "Current iteration: 350000\n",
      "Current recall: Recall: 0.986921\n",
      "Current f1: F1: 0.991446\n",
      "Current precision: Precision: 0.996014\n",
      "\n",
      "Current iteration: 360000\n",
      "Current recall: Recall: 0.986921\n",
      "Current f1: F1: 0.991446\n",
      "Current precision: Precision: 0.996014\n",
      "\n",
      "Current iteration: 370000\n",
      "Current recall: Recall: 0.986921\n",
      "Current f1: F1: 0.991446\n",
      "Current precision: Precision: 0.996014\n",
      "\n",
      "Current iteration: 380000\n",
      "Current recall: Recall: 0.986921\n",
      "Current f1: F1: 0.991446\n",
      "Current precision: Precision: 0.996014\n",
      "\n",
      "Current iteration: 390000\n",
      "Current recall: Recall: 0.986921\n",
      "Current f1: F1: 0.991446\n",
      "Current precision: Precision: 0.996014\n",
      "\n",
      "Current iteration: 400000\n",
      "Current recall: Recall: 0.98412\n",
      "Current f1: F1: 0.990063\n",
      "Current precision: Precision: 0.996079\n",
      "\n",
      "Current iteration: 410000\n",
      "Current recall: Recall: 0.981727\n",
      "Current f1: F1: 0.988687\n",
      "Current precision: Precision: 0.995747\n",
      "\n",
      "Current iteration: 420000\n",
      "Current recall: Recall: 0.977821\n",
      "Current f1: F1: 0.986645\n",
      "Current precision: Precision: 0.995629\n",
      "\n",
      "Current iteration: 430000\n",
      "Current recall: Recall: 0.98188\n",
      "Current f1: F1: 0.989092\n",
      "Current precision: Precision: 0.996411\n",
      "\n",
      "Current iteration: 440000\n",
      "Current recall: Recall: 0.984883\n",
      "Current f1: F1: 0.990911\n",
      "Current precision: Precision: 0.997013\n",
      "\n",
      "Current iteration: 450000\n",
      "Current recall: Recall: 0.987033\n",
      "Current f1: F1: 0.99221\n",
      "Current precision: Precision: 0.997442\n",
      "\n",
      "Current iteration: 460000\n",
      "Current recall: Recall: 0.988647\n",
      "Current f1: F1: 0.993184\n",
      "Current precision: Precision: 0.997764\n",
      "\n",
      "Current iteration: 470000\n",
      "Current recall: Recall: 0.989904\n",
      "Current f1: F1: 0.993942\n",
      "Current precision: Precision: 0.998013\n",
      "\n",
      "Current iteration: 480000\n",
      "Current recall: Recall: 0.99091\n",
      "Current f1: F1: 0.994548\n",
      "Current precision: Precision: 0.998213\n",
      "\n",
      "Current iteration: 490000\n",
      "Current recall: Recall: 0.991734\n",
      "Current f1: F1: 0.995044\n",
      "Current precision: Precision: 0.998376\n",
      "\n",
      "Recall: 0.991057\n",
      "F1: 0.99433\n",
      "Precision: 0.997624\n"
     ]
    }
   ],
   "source": [
    "# rocauc = metrics.ROCAUC()\n",
    "cm = metrics.ConfusionMatrix()\n",
    "recall = metrics.Recall()\n",
    "f1 = metrics.F1()\n",
    "precision = metrics.Precision()\n",
    "\n",
    "counter=0\n",
    "\n",
    "y_actual = []\n",
    "y_preds = []\n",
    "for x,y in datastream:\n",
    "    if counter%10000 == 0:\n",
    "        print(f\"Current iteration: {counter}\")\n",
    "#         print(f\"Current confusion matrix: {cm}\")\n",
    "        print(f\"Current recall: {recall}\")\n",
    "        print(f\"Current f1: {f1}\")\n",
    "        print(f\"Current precision: {precision}\")\n",
    "        print()\n",
    "    y_pred= model.predict_one(x)\n",
    "    \n",
    "    y_actual.append(y)\n",
    "    y_preds.append(y_pred)\n",
    "#     rocauc.update(y, y_pred)\n",
    "    cm.update(y, y_pred)\n",
    "    recall.update(y, y_pred)\n",
    "    f1.update(y, y_pred)\n",
    "    precision.update(y, y_pred)\n",
    "    \n",
    "    model.fit_one(x, y)\n",
    "    counter+=1\n",
    "# print(rocauc)\n",
    "# print(cm)\n",
    "print(recall)\n",
    "print(f1)\n",
    "print(precision)"
   ]
  },
  {
   "cell_type": "code",
   "execution_count": 22,
   "metadata": {
    "ExecuteTime": {
     "end_time": "2020-03-23T21:37:02.345434Z",
     "start_time": "2020-03-23T21:37:02.078987Z"
    }
   },
   "outputs": [
    {
     "data": {
      "text/plain": [
       "0.9951632427756889"
      ]
     },
     "execution_count": 22,
     "metadata": {},
     "output_type": "execute_result"
    }
   ],
   "source": [
    "roc_auc_score(y_actual, y_preds)"
   ]
  },
  {
   "cell_type": "code",
   "execution_count": 39,
   "metadata": {
    "ExecuteTime": {
     "end_time": "2020-03-09T20:36:39.901697Z",
     "start_time": "2020-03-09T20:36:39.896705Z"
    },
    "scrolled": true
   },
   "outputs": [
    {
     "data": {
      "text/plain": [
       "                   0         1\n",
       "         0   72360.0     790.0\n",
       "         1     453.0  295361.0"
      ]
     },
     "execution_count": 39,
     "metadata": {},
     "output_type": "execute_result"
    }
   ],
   "source": [
    "cm"
   ]
  },
  {
   "cell_type": "code",
   "execution_count": 26,
   "metadata": {
    "ExecuteTime": {
     "end_time": "2020-03-12T14:43:45.674666Z",
     "start_time": "2020-03-12T14:32:49.411774Z"
    }
   },
   "outputs": [],
   "source": [
    "teststream = stream.iter_pandas(holdout.drop(columns=[\"label_binary\", \"label\"]), holdout[\"label_binary\"])\n",
    "y_preds = [model.predict_one(x) for x,y in teststream]"
   ]
  },
  {
   "cell_type": "code",
   "execution_count": 28,
   "metadata": {
    "ExecuteTime": {
     "end_time": "2020-03-12T14:45:39.109945Z",
     "start_time": "2020-03-12T14:45:37.993930Z"
    }
   },
   "outputs": [
    {
     "data": {
      "text/plain": [
       "0.9943776764682737"
      ]
     },
     "execution_count": 28,
     "metadata": {},
     "output_type": "execute_result"
    }
   ],
   "source": [
    "roc_auc_score(holdout[\"label_binary\"], y_preds)"
   ]
  },
  {
   "cell_type": "code",
   "execution_count": 29,
   "metadata": {
    "ExecuteTime": {
     "end_time": "2020-03-12T14:45:41.955334Z",
     "start_time": "2020-03-12T14:45:39.381220Z"
    }
   },
   "outputs": [
    {
     "data": {
      "text/plain": [
       "0.9980653071883044"
      ]
     },
     "execution_count": 29,
     "metadata": {},
     "output_type": "execute_result"
    }
   ],
   "source": [
    "f1_score(holdout[\"label_binary\"], y_preds)"
   ]
  },
  {
   "cell_type": "code",
   "execution_count": 30,
   "metadata": {
    "ExecuteTime": {
     "end_time": "2020-03-12T14:45:52.801450Z",
     "start_time": "2020-03-12T14:45:42.207662Z"
    }
   },
   "outputs": [
    {
     "data": {
      "text/plain": [
       "array([[ 864691,    8559],\n",
       "       [   5088, 3520093]], dtype=int64)"
      ]
     },
     "execution_count": 30,
     "metadata": {},
     "output_type": "execute_result"
    }
   ],
   "source": [
    "confusion_matrix(holdout[\"label_binary\"], y_preds)"
   ]
  },
  {
   "cell_type": "code",
   "execution_count": 31,
   "metadata": {
    "ExecuteTime": {
     "end_time": "2020-03-12T14:46:54.795877Z",
     "start_time": "2020-03-12T14:46:52.172893Z"
    }
   },
   "outputs": [
    {
     "data": {
      "text/plain": [
       "0.9975744278551696"
      ]
     },
     "execution_count": 31,
     "metadata": {},
     "output_type": "execute_result"
    }
   ],
   "source": [
    "precision_score(holdout[\"label_binary\"], y_preds)"
   ]
  },
  {
   "cell_type": "code",
   "execution_count": 32,
   "metadata": {
    "ExecuteTime": {
     "end_time": "2020-03-12T14:47:03.315986Z",
     "start_time": "2020-03-12T14:47:00.633164Z"
    }
   },
   "outputs": [
    {
     "data": {
      "text/plain": [
       "0.998556669856101"
      ]
     },
     "execution_count": 32,
     "metadata": {},
     "output_type": "execute_result"
    }
   ],
   "source": [
    "recall_score(holdout[\"label_binary\"], y_preds)"
   ]
  },
  {
   "cell_type": "code",
   "execution_count": null,
   "metadata": {},
   "outputs": [],
   "source": []
  }
 ],
 "metadata": {
  "kernelspec": {
   "display_name": "Python 3",
   "language": "python",
   "name": "python3"
  },
  "language_info": {
   "codemirror_mode": {
    "name": "ipython",
    "version": 3
   },
   "file_extension": ".py",
   "mimetype": "text/x-python",
   "name": "python",
   "nbconvert_exporter": "python",
   "pygments_lexer": "ipython3",
   "version": "3.7.6"
  },
  "toc": {
   "base_numbering": 1,
   "nav_menu": {},
   "number_sections": true,
   "sideBar": true,
   "skip_h1_title": false,
   "title_cell": "Table of Contents",
   "title_sidebar": "Contents",
   "toc_cell": false,
   "toc_position": {},
   "toc_section_display": true,
   "toc_window_display": false
  },
  "varInspector": {
   "cols": {
    "lenName": 16,
    "lenType": 16,
    "lenVar": 40
   },
   "kernels_config": {
    "python": {
     "delete_cmd_postfix": "",
     "delete_cmd_prefix": "del ",
     "library": "var_list.py",
     "varRefreshCmd": "print(var_dic_list())"
    },
    "r": {
     "delete_cmd_postfix": ") ",
     "delete_cmd_prefix": "rm(",
     "library": "var_list.r",
     "varRefreshCmd": "cat(var_dic_list()) "
    }
   },
   "position": {
    "height": "378.517px",
    "left": "1539px",
    "right": "20px",
    "top": "168px",
    "width": "655.333px"
   },
   "types_to_exclude": [
    "module",
    "function",
    "builtin_function_or_method",
    "instance",
    "_Feature"
   ],
   "window_display": true
  }
 },
 "nbformat": 4,
 "nbformat_minor": 2
}
