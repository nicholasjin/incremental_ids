{
 "cells": [
  {
   "cell_type": "markdown",
   "metadata": {},
   "source": [
    "# Restricted Logistic Regression\n",
    "In this notebook, we build a logistic regression classifier that utilizes only basic http header metadata to build a binary classifier -- malicious vs background. In particular, we are *discarding* the features that were engineered with domain expertise."
   ]
  },
  {
   "cell_type": "code",
   "execution_count": 1,
   "metadata": {
    "ExecuteTime": {
     "end_time": "2020-03-23T21:42:32.965064Z",
     "start_time": "2020-03-23T21:42:31.301181Z"
    }
   },
   "outputs": [],
   "source": [
    "import string\n",
    "import os\n",
    "import pickle\n",
    "import time\n",
    "\n",
    "import numpy as np\n",
    "import pandas as pd\n",
    "import matplotlib.pyplot as plt\n",
    "\n",
    "from sklearn.linear_model import LogisticRegression, LogisticRegressionCV\n",
    "from sklearn.model_selection import cross_val_score, train_test_split, GridSearchCV\n",
    "from sklearn.metrics import confusion_matrix, roc_auc_score"
   ]
  },
  {
   "cell_type": "code",
   "execution_count": 2,
   "metadata": {
    "ExecuteTime": {
     "end_time": "2020-03-23T21:42:32.973833Z",
     "start_time": "2020-03-23T21:42:32.967002Z"
    }
   },
   "outputs": [],
   "source": [
    "train_attack_types = pd.read_csv(\"datasets/training_attack_types.txt\", delimiter=\" \", header=None, names= [\"attack_type\", \"attack_category\"])"
   ]
  },
  {
   "cell_type": "code",
   "execution_count": 3,
   "metadata": {
    "ExecuteTime": {
     "end_time": "2020-03-23T21:42:32.989449Z",
     "start_time": "2020-03-23T21:42:32.976762Z"
    }
   },
   "outputs": [
    {
     "data": {
      "text/plain": [
       "'dos'"
      ]
     },
     "execution_count": 3,
     "metadata": {},
     "output_type": "execute_result"
    }
   ],
   "source": [
    "target = \"back\"\n",
    "train_attack_types.loc[train_attack_types[\"attack_type\"]==target, \"attack_category\"].values[0]"
   ]
  },
  {
   "cell_type": "code",
   "execution_count": 4,
   "metadata": {
    "ExecuteTime": {
     "end_time": "2020-03-23T21:42:33.005791Z",
     "start_time": "2020-03-23T21:42:32.992128Z"
    }
   },
   "outputs": [
    {
     "data": {
      "text/plain": [
       "['duration',\n",
       " 'protocol_type',\n",
       " 'service',\n",
       " 'flag',\n",
       " 'src_bytes',\n",
       " 'dst_bytes',\n",
       " 'land',\n",
       " 'wrong_fragment',\n",
       " 'urgent',\n",
       " 'label']"
      ]
     },
     "execution_count": 4,
     "metadata": {},
     "output_type": "execute_result"
    }
   ],
   "source": [
    "cols = list(pd.read_csv(\"datasets/kddcup.names.txt\", skiprows=1, header=None)[0].map(lambda x: str(x).split(\":\")[0]).values)\n",
    "cols.append(\"label\")\n",
    "\n",
    "\n",
    "reduced_cols = cols[:9]\n",
    "reduced_cols.append(\"label\")\n",
    "\n",
    "reduced_cols"
   ]
  },
  {
   "cell_type": "code",
   "execution_count": 5,
   "metadata": {
    "ExecuteTime": {
     "end_time": "2020-03-23T21:42:52.415640Z",
     "start_time": "2020-03-23T21:42:33.007771Z"
    }
   },
   "outputs": [],
   "source": [
    "train = pd.read_csv(\"datasets/kddcup.data.corrected.txt\", header=None, names=cols)"
   ]
  },
  {
   "cell_type": "code",
   "execution_count": 6,
   "metadata": {
    "ExecuteTime": {
     "end_time": "2020-03-23T21:42:53.396611Z",
     "start_time": "2020-03-23T21:42:52.417551Z"
    }
   },
   "outputs": [],
   "source": [
    "train = train[reduced_cols].copy()"
   ]
  },
  {
   "cell_type": "code",
   "execution_count": 7,
   "metadata": {
    "ExecuteTime": {
     "end_time": "2020-03-23T21:42:54.898228Z",
     "start_time": "2020-03-23T21:42:53.398562Z"
    }
   },
   "outputs": [],
   "source": [
    "test = pd.read_csv(\"datasets/corrected.txt\", header=None, names=cols)"
   ]
  },
  {
   "cell_type": "code",
   "execution_count": 8,
   "metadata": {
    "ExecuteTime": {
     "end_time": "2020-03-23T21:42:54.974355Z",
     "start_time": "2020-03-23T21:42:54.903107Z"
    }
   },
   "outputs": [],
   "source": [
    "test = test[reduced_cols].copy()"
   ]
  },
  {
   "cell_type": "code",
   "execution_count": 9,
   "metadata": {
    "ExecuteTime": {
     "end_time": "2020-03-23T21:42:54.998756Z",
     "start_time": "2020-03-23T21:42:54.977283Z"
    }
   },
   "outputs": [
    {
     "data": {
      "text/html": [
       "<div>\n",
       "<style scoped>\n",
       "    .dataframe tbody tr th:only-of-type {\n",
       "        vertical-align: middle;\n",
       "    }\n",
       "\n",
       "    .dataframe tbody tr th {\n",
       "        vertical-align: top;\n",
       "    }\n",
       "\n",
       "    .dataframe thead th {\n",
       "        text-align: right;\n",
       "    }\n",
       "</style>\n",
       "<table border=\"1\" class=\"dataframe\">\n",
       "  <thead>\n",
       "    <tr style=\"text-align: right;\">\n",
       "      <th></th>\n",
       "      <th>duration</th>\n",
       "      <th>protocol_type</th>\n",
       "      <th>service</th>\n",
       "      <th>flag</th>\n",
       "      <th>src_bytes</th>\n",
       "      <th>dst_bytes</th>\n",
       "      <th>land</th>\n",
       "      <th>wrong_fragment</th>\n",
       "      <th>urgent</th>\n",
       "      <th>label</th>\n",
       "    </tr>\n",
       "  </thead>\n",
       "  <tbody>\n",
       "    <tr>\n",
       "      <th>0</th>\n",
       "      <td>0</td>\n",
       "      <td>tcp</td>\n",
       "      <td>http</td>\n",
       "      <td>SF</td>\n",
       "      <td>215</td>\n",
       "      <td>45076</td>\n",
       "      <td>0</td>\n",
       "      <td>0</td>\n",
       "      <td>0</td>\n",
       "      <td>normal.</td>\n",
       "    </tr>\n",
       "    <tr>\n",
       "      <th>1</th>\n",
       "      <td>0</td>\n",
       "      <td>tcp</td>\n",
       "      <td>http</td>\n",
       "      <td>SF</td>\n",
       "      <td>162</td>\n",
       "      <td>4528</td>\n",
       "      <td>0</td>\n",
       "      <td>0</td>\n",
       "      <td>0</td>\n",
       "      <td>normal.</td>\n",
       "    </tr>\n",
       "    <tr>\n",
       "      <th>2</th>\n",
       "      <td>0</td>\n",
       "      <td>tcp</td>\n",
       "      <td>http</td>\n",
       "      <td>SF</td>\n",
       "      <td>236</td>\n",
       "      <td>1228</td>\n",
       "      <td>0</td>\n",
       "      <td>0</td>\n",
       "      <td>0</td>\n",
       "      <td>normal.</td>\n",
       "    </tr>\n",
       "    <tr>\n",
       "      <th>3</th>\n",
       "      <td>0</td>\n",
       "      <td>tcp</td>\n",
       "      <td>http</td>\n",
       "      <td>SF</td>\n",
       "      <td>233</td>\n",
       "      <td>2032</td>\n",
       "      <td>0</td>\n",
       "      <td>0</td>\n",
       "      <td>0</td>\n",
       "      <td>normal.</td>\n",
       "    </tr>\n",
       "    <tr>\n",
       "      <th>4</th>\n",
       "      <td>0</td>\n",
       "      <td>tcp</td>\n",
       "      <td>http</td>\n",
       "      <td>SF</td>\n",
       "      <td>239</td>\n",
       "      <td>486</td>\n",
       "      <td>0</td>\n",
       "      <td>0</td>\n",
       "      <td>0</td>\n",
       "      <td>normal.</td>\n",
       "    </tr>\n",
       "  </tbody>\n",
       "</table>\n",
       "</div>"
      ],
      "text/plain": [
       "   duration protocol_type service flag  src_bytes  dst_bytes  land  \\\n",
       "0         0           tcp    http   SF        215      45076     0   \n",
       "1         0           tcp    http   SF        162       4528     0   \n",
       "2         0           tcp    http   SF        236       1228     0   \n",
       "3         0           tcp    http   SF        233       2032     0   \n",
       "4         0           tcp    http   SF        239        486     0   \n",
       "\n",
       "   wrong_fragment  urgent    label  \n",
       "0               0       0  normal.  \n",
       "1               0       0  normal.  \n",
       "2               0       0  normal.  \n",
       "3               0       0  normal.  \n",
       "4               0       0  normal.  "
      ]
     },
     "execution_count": 9,
     "metadata": {},
     "output_type": "execute_result"
    }
   ],
   "source": [
    "train.head()"
   ]
  },
  {
   "cell_type": "code",
   "execution_count": 10,
   "metadata": {
    "ExecuteTime": {
     "end_time": "2020-03-23T21:42:55.020228Z",
     "start_time": "2020-03-23T21:42:55.001684Z"
    }
   },
   "outputs": [
    {
     "data": {
      "text/html": [
       "<div>\n",
       "<style scoped>\n",
       "    .dataframe tbody tr th:only-of-type {\n",
       "        vertical-align: middle;\n",
       "    }\n",
       "\n",
       "    .dataframe tbody tr th {\n",
       "        vertical-align: top;\n",
       "    }\n",
       "\n",
       "    .dataframe thead th {\n",
       "        text-align: right;\n",
       "    }\n",
       "</style>\n",
       "<table border=\"1\" class=\"dataframe\">\n",
       "  <thead>\n",
       "    <tr style=\"text-align: right;\">\n",
       "      <th></th>\n",
       "      <th>duration</th>\n",
       "      <th>protocol_type</th>\n",
       "      <th>service</th>\n",
       "      <th>flag</th>\n",
       "      <th>src_bytes</th>\n",
       "      <th>dst_bytes</th>\n",
       "      <th>land</th>\n",
       "      <th>wrong_fragment</th>\n",
       "      <th>urgent</th>\n",
       "      <th>label</th>\n",
       "    </tr>\n",
       "  </thead>\n",
       "  <tbody>\n",
       "    <tr>\n",
       "      <th>0</th>\n",
       "      <td>0</td>\n",
       "      <td>udp</td>\n",
       "      <td>private</td>\n",
       "      <td>SF</td>\n",
       "      <td>105</td>\n",
       "      <td>146</td>\n",
       "      <td>0</td>\n",
       "      <td>0</td>\n",
       "      <td>0</td>\n",
       "      <td>normal.</td>\n",
       "    </tr>\n",
       "    <tr>\n",
       "      <th>1</th>\n",
       "      <td>0</td>\n",
       "      <td>udp</td>\n",
       "      <td>private</td>\n",
       "      <td>SF</td>\n",
       "      <td>105</td>\n",
       "      <td>146</td>\n",
       "      <td>0</td>\n",
       "      <td>0</td>\n",
       "      <td>0</td>\n",
       "      <td>normal.</td>\n",
       "    </tr>\n",
       "    <tr>\n",
       "      <th>2</th>\n",
       "      <td>0</td>\n",
       "      <td>udp</td>\n",
       "      <td>private</td>\n",
       "      <td>SF</td>\n",
       "      <td>105</td>\n",
       "      <td>146</td>\n",
       "      <td>0</td>\n",
       "      <td>0</td>\n",
       "      <td>0</td>\n",
       "      <td>normal.</td>\n",
       "    </tr>\n",
       "    <tr>\n",
       "      <th>3</th>\n",
       "      <td>0</td>\n",
       "      <td>udp</td>\n",
       "      <td>private</td>\n",
       "      <td>SF</td>\n",
       "      <td>105</td>\n",
       "      <td>146</td>\n",
       "      <td>0</td>\n",
       "      <td>0</td>\n",
       "      <td>0</td>\n",
       "      <td>snmpgetattack.</td>\n",
       "    </tr>\n",
       "    <tr>\n",
       "      <th>4</th>\n",
       "      <td>0</td>\n",
       "      <td>udp</td>\n",
       "      <td>private</td>\n",
       "      <td>SF</td>\n",
       "      <td>105</td>\n",
       "      <td>146</td>\n",
       "      <td>0</td>\n",
       "      <td>0</td>\n",
       "      <td>0</td>\n",
       "      <td>snmpgetattack.</td>\n",
       "    </tr>\n",
       "  </tbody>\n",
       "</table>\n",
       "</div>"
      ],
      "text/plain": [
       "   duration protocol_type  service flag  src_bytes  dst_bytes  land  \\\n",
       "0         0           udp  private   SF        105        146     0   \n",
       "1         0           udp  private   SF        105        146     0   \n",
       "2         0           udp  private   SF        105        146     0   \n",
       "3         0           udp  private   SF        105        146     0   \n",
       "4         0           udp  private   SF        105        146     0   \n",
       "\n",
       "   wrong_fragment  urgent           label  \n",
       "0               0       0         normal.  \n",
       "1               0       0         normal.  \n",
       "2               0       0         normal.  \n",
       "3               0       0  snmpgetattack.  \n",
       "4               0       0  snmpgetattack.  "
      ]
     },
     "execution_count": 10,
     "metadata": {},
     "output_type": "execute_result"
    }
   ],
   "source": [
    "test.head()"
   ]
  },
  {
   "cell_type": "markdown",
   "metadata": {},
   "source": [
    "# EDA"
   ]
  },
  {
   "cell_type": "markdown",
   "metadata": {},
   "source": [
    "## Process the label column\n",
    "We want to remove the period. Then we want to generate three label columns:"
   ]
  },
  {
   "cell_type": "code",
   "execution_count": 11,
   "metadata": {
    "ExecuteTime": {
     "end_time": "2020-03-23T21:42:57.538479Z",
     "start_time": "2020-03-23T21:42:55.022181Z"
    }
   },
   "outputs": [],
   "source": [
    "train[\"label\"] = train[\"label\"].map(lambda x: x.split(\".\")[0])\n",
    "test[\"label\"] = test[\"label\"].map(lambda x: x.split(\".\")[0])"
   ]
  },
  {
   "cell_type": "markdown",
   "metadata": {},
   "source": [
    "### Binary label (normal/malicious)"
   ]
  },
  {
   "cell_type": "code",
   "execution_count": 12,
   "metadata": {
    "ExecuteTime": {
     "end_time": "2020-03-23T21:43:00.127887Z",
     "start_time": "2020-03-23T21:42:57.541394Z"
    }
   },
   "outputs": [],
   "source": [
    "train[\"label_binary\"] = train[\"label\"].map(lambda x: 0 if x==\"normal\" else 1)\n",
    "test[\"label_binary\"] = test[\"label\"].map(lambda x: 0 if x==\"normal\" else 1)"
   ]
  },
  {
   "cell_type": "code",
   "execution_count": 13,
   "metadata": {
    "ExecuteTime": {
     "end_time": "2020-03-23T21:43:00.145455Z",
     "start_time": "2020-03-23T21:43:00.129848Z"
    }
   },
   "outputs": [
    {
     "data": {
      "text/plain": [
       "1    250436\n",
       "0     60593\n",
       "Name: label_binary, dtype: int64"
      ]
     },
     "execution_count": 13,
     "metadata": {},
     "output_type": "execute_result"
    }
   ],
   "source": [
    "test[\"label_binary\"].value_counts()"
   ]
  },
  {
   "cell_type": "code",
   "execution_count": 14,
   "metadata": {
    "ExecuteTime": {
     "end_time": "2020-03-23T21:43:00.240127Z",
     "start_time": "2020-03-23T21:43:00.148385Z"
    }
   },
   "outputs": [
    {
     "data": {
      "text/plain": [
       "1    3925650\n",
       "0     972781\n",
       "Name: label_binary, dtype: int64"
      ]
     },
     "execution_count": 14,
     "metadata": {},
     "output_type": "execute_result"
    }
   ],
   "source": [
    "train[\"label_binary\"].value_counts()"
   ]
  },
  {
   "cell_type": "code",
   "execution_count": 15,
   "metadata": {
    "ExecuteTime": {
     "end_time": "2020-03-23T21:43:06.366588Z",
     "start_time": "2020-03-23T21:43:00.242080Z"
    }
   },
   "outputs": [],
   "source": [
    "X = pd.get_dummies(train, columns=[\"protocol_type\", \"service\", \"flag\"], drop_first=True).drop(columns=[\"label\", \"label_binary\"])"
   ]
  },
  {
   "cell_type": "markdown",
   "metadata": {},
   "source": [
    "# Restricted Logistic Regression\n",
    "How well do we do with only the baseline features?"
   ]
  },
  {
   "cell_type": "code",
   "execution_count": 16,
   "metadata": {
    "ExecuteTime": {
     "end_time": "2020-03-23T21:43:06.373420Z",
     "start_time": "2020-03-23T21:43:06.368540Z"
    }
   },
   "outputs": [],
   "source": [
    "y = train[\"label_binary\"]"
   ]
  },
  {
   "cell_type": "code",
   "execution_count": 17,
   "metadata": {
    "ExecuteTime": {
     "end_time": "2020-03-23T21:43:12.327601Z",
     "start_time": "2020-03-23T21:43:06.375372Z"
    }
   },
   "outputs": [],
   "source": [
    "X_train, X_test, y_train, y_test = train_test_split(X, y, test_size=0.9)"
   ]
  },
  {
   "cell_type": "code",
   "execution_count": 18,
   "metadata": {
    "ExecuteTime": {
     "end_time": "2020-03-23T21:43:12.336386Z",
     "start_time": "2020-03-23T21:43:12.330529Z"
    }
   },
   "outputs": [
    {
     "data": {
      "text/plain": [
       "(489843, 87)"
      ]
     },
     "execution_count": 18,
     "metadata": {},
     "output_type": "execute_result"
    }
   ],
   "source": [
    "X_train.shape"
   ]
  },
  {
   "cell_type": "code",
   "execution_count": 19,
   "metadata": {
    "ExecuteTime": {
     "end_time": "2020-03-23T21:43:12.346146Z",
     "start_time": "2020-03-23T21:43:12.338344Z"
    }
   },
   "outputs": [
    {
     "data": {
      "text/plain": [
       "(489843,)"
      ]
     },
     "execution_count": 19,
     "metadata": {},
     "output_type": "execute_result"
    }
   ],
   "source": [
    "y_train.shape"
   ]
  },
  {
   "cell_type": "code",
   "execution_count": 20,
   "metadata": {
    "ExecuteTime": {
     "end_time": "2020-03-23T22:33:40.037313Z",
     "start_time": "2020-03-23T21:43:12.348096Z"
    }
   },
   "outputs": [
    {
     "name": "stderr",
     "output_type": "stream",
     "text": [
      "[Parallel(n_jobs=-2)]: Using backend ThreadingBackend with 7 concurrent workers.\n"
     ]
    },
    {
     "name": "stdout",
     "output_type": "stream",
     "text": [
      "convergence after 4167 epochs took 3026 seconds\n",
      "fitting completed in 3027.6745743751526\n"
     ]
    },
    {
     "name": "stderr",
     "output_type": "stream",
     "text": [
      "[Parallel(n_jobs=-2)]: Done   1 out of   1 | elapsed: 50.4min finished\n"
     ]
    }
   ],
   "source": [
    "filename = \"./models/restricted_logreg.pickle\"\n",
    "if not os.path.exists(filename):\n",
    "    now = time.time()\n",
    "    logreg = LogisticRegression(penalty=\"none\", solver=\"sag\", max_iter=10000, verbose=1, n_jobs = -2)\n",
    "    logreg.fit(X_train, y_train)\n",
    "    print(f\"fitting completed in {time.time() - now}\")\n",
    "    with open(filename, 'wb') as f:\n",
    "        pickle.dump(logreg, f)\n",
    "else:\n",
    "    with open(filename, 'rb') as f:\n",
    "        logreg = pickle.load(f)"
   ]
  },
  {
   "cell_type": "code",
   "execution_count": 21,
   "metadata": {
    "ExecuteTime": {
     "end_time": "2020-03-23T22:33:40.726971Z",
     "start_time": "2020-03-23T22:33:40.039263Z"
    }
   },
   "outputs": [
    {
     "data": {
      "text/plain": [
       "0.9554469493286625"
      ]
     },
     "execution_count": 21,
     "metadata": {},
     "output_type": "execute_result"
    }
   ],
   "source": [
    "logreg.score(X_train, y_train)"
   ]
  },
  {
   "cell_type": "code",
   "execution_count": 22,
   "metadata": {
    "ExecuteTime": {
     "end_time": "2020-03-23T22:33:46.884010Z",
     "start_time": "2020-03-23T22:33:40.728924Z"
    }
   },
   "outputs": [
    {
     "data": {
      "text/plain": [
       "0.9556012038321567"
      ]
     },
     "execution_count": 22,
     "metadata": {},
     "output_type": "execute_result"
    }
   ],
   "source": [
    "logreg.score(X_test, y_test)"
   ]
  },
  {
   "cell_type": "code",
   "execution_count": 23,
   "metadata": {
    "ExecuteTime": {
     "end_time": "2020-03-23T22:33:47.669547Z",
     "start_time": "2020-03-23T22:33:46.894746Z"
    }
   },
   "outputs": [
    {
     "data": {
      "text/plain": [
       "0.8890899613715503"
      ]
     },
     "execution_count": 23,
     "metadata": {},
     "output_type": "execute_result"
    }
   ],
   "source": [
    "roc_auc_score(y_train, logreg.predict(X_train))"
   ]
  },
  {
   "cell_type": "code",
   "execution_count": 24,
   "metadata": {
    "ExecuteTime": {
     "end_time": "2020-03-23T22:33:54.030068Z",
     "start_time": "2020-03-23T22:33:47.674428Z"
    }
   },
   "outputs": [
    {
     "data": {
      "text/plain": [
       "0.8891418563932382"
      ]
     },
     "execution_count": 24,
     "metadata": {},
     "output_type": "execute_result"
    }
   ],
   "source": [
    "roc_auc_score(y_test, logreg.predict(X_test))"
   ]
  },
  {
   "cell_type": "code",
   "execution_count": null,
   "metadata": {},
   "outputs": [],
   "source": []
  },
  {
   "cell_type": "code",
   "execution_count": 25,
   "metadata": {
    "ExecuteTime": {
     "end_time": "2020-03-23T22:33:54.035869Z",
     "start_time": "2020-03-23T22:33:54.031966Z"
    }
   },
   "outputs": [],
   "source": [
    "# cross_val_score(logreg, X_train, y_train)"
   ]
  },
  {
   "cell_type": "code",
   "execution_count": 26,
   "metadata": {
    "ExecuteTime": {
     "end_time": "2020-03-23T22:33:54.198154Z",
     "start_time": "2020-03-23T22:33:54.037823Z"
    }
   },
   "outputs": [
    {
     "data": {
      "text/plain": [
       "0         0\n",
       "1         0\n",
       "2         0\n",
       "3         1\n",
       "4         1\n",
       "         ..\n",
       "311024    0\n",
       "311025    0\n",
       "311026    0\n",
       "311027    0\n",
       "311028    0\n",
       "Name: label, Length: 311029, dtype: int64"
      ]
     },
     "execution_count": 26,
     "metadata": {},
     "output_type": "execute_result"
    }
   ],
   "source": [
    "y_actual = test[\"label\"].map(lambda x: 0 if x == \"normal\" else 1)\n",
    "y_actual"
   ]
  },
  {
   "cell_type": "code",
   "execution_count": 27,
   "metadata": {
    "ExecuteTime": {
     "end_time": "2020-03-23T22:33:54.599953Z",
     "start_time": "2020-03-23T22:33:54.200108Z"
    }
   },
   "outputs": [],
   "source": [
    "X_big_test = pd.get_dummies(test, columns=[\"protocol_type\", \"service\", \"flag\"], drop_first=True).drop(columns=[\"label\", \"label_binary\"])"
   ]
  },
  {
   "cell_type": "code",
   "execution_count": 28,
   "metadata": {
    "ExecuteTime": {
     "end_time": "2020-03-23T22:33:54.608743Z",
     "start_time": "2020-03-23T22:33:54.601885Z"
    }
   },
   "outputs": [
    {
     "data": {
      "text/plain": [
       "Index(['duration', 'src_bytes', 'dst_bytes', 'land', 'wrong_fragment',\n",
       "       'urgent', 'protocol_type_tcp', 'protocol_type_udp', 'service_X11',\n",
       "       'service_Z39_50', 'service_auth', 'service_bgp', 'service_courier',\n",
       "       'service_csnet_ns', 'service_ctf', 'service_daytime', 'service_discard',\n",
       "       'service_domain', 'service_domain_u', 'service_echo', 'service_eco_i',\n",
       "       'service_ecr_i', 'service_efs', 'service_exec', 'service_finger',\n",
       "       'service_ftp', 'service_ftp_data', 'service_gopher',\n",
       "       'service_hostnames', 'service_http', 'service_http_443', 'service_icmp',\n",
       "       'service_imap4', 'service_iso_tsap', 'service_klogin', 'service_kshell',\n",
       "       'service_ldap', 'service_link', 'service_login', 'service_mtp',\n",
       "       'service_name', 'service_netbios_dgm', 'service_netbios_ns',\n",
       "       'service_netbios_ssn', 'service_netstat', 'service_nnsp',\n",
       "       'service_nntp', 'service_ntp_u', 'service_other', 'service_pm_dump',\n",
       "       'service_pop_2', 'service_pop_3', 'service_printer', 'service_private',\n",
       "       'service_remote_job', 'service_rje', 'service_shell', 'service_smtp',\n",
       "       'service_sql_net', 'service_ssh', 'service_sunrpc', 'service_supdup',\n",
       "       'service_systat', 'service_telnet', 'service_tftp_u', 'service_tim_i',\n",
       "       'service_time', 'service_urp_i', 'service_uucp', 'service_uucp_path',\n",
       "       'service_vmnet', 'service_whois', 'flag_REJ', 'flag_RSTO',\n",
       "       'flag_RSTOS0', 'flag_RSTR', 'flag_S0', 'flag_S1', 'flag_S2', 'flag_S3',\n",
       "       'flag_SF', 'flag_SH'],\n",
       "      dtype='object')"
      ]
     },
     "execution_count": 28,
     "metadata": {},
     "output_type": "execute_result"
    }
   ],
   "source": [
    "X_big_test.columns"
   ]
  },
  {
   "cell_type": "code",
   "execution_count": 29,
   "metadata": {
    "ExecuteTime": {
     "end_time": "2020-03-23T22:33:54.624333Z",
     "start_time": "2020-03-23T22:33:54.611645Z"
    }
   },
   "outputs": [
    {
     "data": {
      "text/plain": [
       "Index(['duration', 'src_bytes', 'dst_bytes', 'land', 'wrong_fragment',\n",
       "       'urgent', 'protocol_type_tcp', 'protocol_type_udp', 'service_X11',\n",
       "       'service_Z39_50', 'service_aol', 'service_auth', 'service_bgp',\n",
       "       'service_courier', 'service_csnet_ns', 'service_ctf', 'service_daytime',\n",
       "       'service_discard', 'service_domain', 'service_domain_u', 'service_echo',\n",
       "       'service_eco_i', 'service_ecr_i', 'service_efs', 'service_exec',\n",
       "       'service_finger', 'service_ftp', 'service_ftp_data', 'service_gopher',\n",
       "       'service_harvest', 'service_hostnames', 'service_http',\n",
       "       'service_http_2784', 'service_http_443', 'service_http_8001',\n",
       "       'service_imap4', 'service_iso_tsap', 'service_klogin', 'service_kshell',\n",
       "       'service_ldap', 'service_link', 'service_login', 'service_mtp',\n",
       "       'service_name', 'service_netbios_dgm', 'service_netbios_ns',\n",
       "       'service_netbios_ssn', 'service_netstat', 'service_nnsp',\n",
       "       'service_nntp', 'service_ntp_u', 'service_other', 'service_pm_dump',\n",
       "       'service_pop_2', 'service_pop_3', 'service_printer', 'service_private',\n",
       "       'service_red_i', 'service_remote_job', 'service_rje', 'service_shell',\n",
       "       'service_smtp', 'service_sql_net', 'service_ssh', 'service_sunrpc',\n",
       "       'service_supdup', 'service_systat', 'service_telnet', 'service_tftp_u',\n",
       "       'service_tim_i', 'service_time', 'service_urh_i', 'service_urp_i',\n",
       "       'service_uucp', 'service_uucp_path', 'service_vmnet', 'service_whois',\n",
       "       'flag_REJ', 'flag_RSTO', 'flag_RSTOS0', 'flag_RSTR', 'flag_S0',\n",
       "       'flag_S1', 'flag_S2', 'flag_S3', 'flag_SF', 'flag_SH'],\n",
       "      dtype='object')"
      ]
     },
     "execution_count": 29,
     "metadata": {},
     "output_type": "execute_result"
    }
   ],
   "source": [
    "X_test.columns"
   ]
  },
  {
   "cell_type": "code",
   "execution_count": 30,
   "metadata": {
    "ExecuteTime": {
     "end_time": "2020-03-23T22:33:54.657518Z",
     "start_time": "2020-03-23T22:33:54.632141Z"
    }
   },
   "outputs": [],
   "source": [
    "cols_to_zero = [col for col in X_test.columns if col not in X_big_test.columns]\n",
    "for col in cols_to_zero:\n",
    "    X_big_test[col] = 0"
   ]
  },
  {
   "cell_type": "code",
   "execution_count": 31,
   "metadata": {
    "ExecuteTime": {
     "end_time": "2020-03-23T22:33:55.196012Z",
     "start_time": "2020-03-23T22:33:54.660445Z"
    }
   },
   "outputs": [
    {
     "data": {
      "text/plain": [
       "0.926813898382466"
      ]
     },
     "execution_count": 31,
     "metadata": {},
     "output_type": "execute_result"
    }
   ],
   "source": [
    "logreg.score(X_big_test[X_test.columns], y_actual)"
   ]
  },
  {
   "cell_type": "code",
   "execution_count": 32,
   "metadata": {
    "ExecuteTime": {
     "end_time": "2020-03-23T22:33:55.700582Z",
     "start_time": "2020-03-23T22:33:55.197923Z"
    }
   },
   "outputs": [
    {
     "data": {
      "text/plain": [
       "0.9029848941449183"
      ]
     },
     "execution_count": 32,
     "metadata": {},
     "output_type": "execute_result"
    }
   ],
   "source": [
    "roc_auc_score(y_actual, logreg.predict(X_big_test[X_test.columns]))"
   ]
  },
  {
   "cell_type": "code",
   "execution_count": 33,
   "metadata": {
    "ExecuteTime": {
     "end_time": "2020-03-23T22:33:56.463607Z",
     "start_time": "2020-03-23T22:33:55.702535Z"
    }
   },
   "outputs": [],
   "source": [
    "tn, fp, fn, tp = confusion_matrix(logreg.predict(X_big_test[X_test.columns]), y_actual).ravel()"
   ]
  },
  {
   "cell_type": "code",
   "execution_count": 34,
   "metadata": {
    "ExecuteTime": {
     "end_time": "2020-03-23T22:33:56.471416Z",
     "start_time": "2020-03-23T22:33:56.465559Z"
    }
   },
   "outputs": [
    {
     "data": {
      "text/plain": [
       "0.9662353938589701"
      ]
     },
     "execution_count": 34,
     "metadata": {},
     "output_type": "execute_result"
    }
   ],
   "source": [
    "# Our sensitivity is\n",
    "(tp) / (tp + fn) "
   ]
  },
  {
   "cell_type": "code",
   "execution_count": 35,
   "metadata": {
    "ExecuteTime": {
     "end_time": "2020-03-23T22:33:56.483127Z",
     "start_time": "2020-03-23T22:33:56.474343Z"
    }
   },
   "outputs": [
    {
     "data": {
      "text/plain": [
       "0.9420251082112795"
      ]
     },
     "execution_count": 35,
     "metadata": {},
     "output_type": "execute_result"
    }
   ],
   "source": [
    "# Our precision is\n",
    "(tp) / (tp + fp)"
   ]
  },
  {
   "cell_type": "code",
   "execution_count": 36,
   "metadata": {
    "ExecuteTime": {
     "end_time": "2020-03-23T22:33:56.492887Z",
     "start_time": "2020-03-23T22:33:56.486055Z"
    }
   },
   "outputs": [],
   "source": [
    "coefs = pd.DataFrame(logreg.coef_, columns=X_test.columns, index=[\"coef_\"]).T"
   ]
  },
  {
   "cell_type": "code",
   "execution_count": 37,
   "metadata": {
    "ExecuteTime": {
     "end_time": "2020-03-23T22:33:56.530985Z",
     "start_time": "2020-03-23T22:33:56.495816Z"
    }
   },
   "outputs": [
    {
     "data": {
      "text/html": [
       "<div>\n",
       "<style scoped>\n",
       "    .dataframe tbody tr th:only-of-type {\n",
       "        vertical-align: middle;\n",
       "    }\n",
       "\n",
       "    .dataframe tbody tr th {\n",
       "        vertical-align: top;\n",
       "    }\n",
       "\n",
       "    .dataframe thead th {\n",
       "        text-align: right;\n",
       "    }\n",
       "</style>\n",
       "<table border=\"1\" class=\"dataframe\">\n",
       "  <thead>\n",
       "    <tr style=\"text-align: right;\">\n",
       "      <th></th>\n",
       "      <th>coef_</th>\n",
       "    </tr>\n",
       "  </thead>\n",
       "  <tbody>\n",
       "    <tr>\n",
       "      <th>src_bytes</th>\n",
       "      <td>5.295485e-04</td>\n",
       "    </tr>\n",
       "    <tr>\n",
       "      <th>service_ecr_i</th>\n",
       "      <td>1.420671e-05</td>\n",
       "    </tr>\n",
       "    <tr>\n",
       "      <th>flag_SF</th>\n",
       "      <td>1.043310e-05</td>\n",
       "    </tr>\n",
       "    <tr>\n",
       "      <th>service_private</th>\n",
       "      <td>6.090725e-06</td>\n",
       "    </tr>\n",
       "    <tr>\n",
       "      <th>flag_S0</th>\n",
       "      <td>5.557342e-06</td>\n",
       "    </tr>\n",
       "    <tr>\n",
       "      <th>protocol_type_tcp</th>\n",
       "      <td>3.977647e-06</td>\n",
       "    </tr>\n",
       "    <tr>\n",
       "      <th>flag_REJ</th>\n",
       "      <td>1.027613e-06</td>\n",
       "    </tr>\n",
       "    <tr>\n",
       "      <th>flag_RSTR</th>\n",
       "      <td>5.636944e-08</td>\n",
       "    </tr>\n",
       "    <tr>\n",
       "      <th>service_eco_i</th>\n",
       "      <td>5.578148e-08</td>\n",
       "    </tr>\n",
       "    <tr>\n",
       "      <th>flag_RSTO</th>\n",
       "      <td>2.789269e-08</td>\n",
       "    </tr>\n",
       "    <tr>\n",
       "      <th>wrong_fragment</th>\n",
       "      <td>1.809951e-08</td>\n",
       "    </tr>\n",
       "    <tr>\n",
       "      <th>service_telnet</th>\n",
       "      <td>1.165650e-08</td>\n",
       "    </tr>\n",
       "    <tr>\n",
       "      <th>service_rje</th>\n",
       "      <td>8.136748e-09</td>\n",
       "    </tr>\n",
       "    <tr>\n",
       "      <th>service_vmnet</th>\n",
       "      <td>7.752784e-09</td>\n",
       "    </tr>\n",
       "    <tr>\n",
       "      <th>service_shell</th>\n",
       "      <td>7.624638e-09</td>\n",
       "    </tr>\n",
       "    <tr>\n",
       "      <th>service_whois</th>\n",
       "      <td>7.624576e-09</td>\n",
       "    </tr>\n",
       "    <tr>\n",
       "      <th>service_netbios_ssn</th>\n",
       "      <td>7.624554e-09</td>\n",
       "    </tr>\n",
       "    <tr>\n",
       "      <th>service_bgp</th>\n",
       "      <td>7.496433e-09</td>\n",
       "    </tr>\n",
       "    <tr>\n",
       "      <th>service_pop_2</th>\n",
       "      <td>7.368151e-09</td>\n",
       "    </tr>\n",
       "    <tr>\n",
       "      <th>service_iso_tsap</th>\n",
       "      <td>7.367992e-09</td>\n",
       "    </tr>\n",
       "    <tr>\n",
       "      <th>service_klogin</th>\n",
       "      <td>7.304038e-09</td>\n",
       "    </tr>\n",
       "    <tr>\n",
       "      <th>service_ldap</th>\n",
       "      <td>7.239631e-09</td>\n",
       "    </tr>\n",
       "    <tr>\n",
       "      <th>service_Z39_50</th>\n",
       "      <td>7.176179e-09</td>\n",
       "    </tr>\n",
       "    <tr>\n",
       "      <th>service_netstat</th>\n",
       "      <td>7.175771e-09</td>\n",
       "    </tr>\n",
       "    <tr>\n",
       "      <th>service_nntp</th>\n",
       "      <td>7.175644e-09</td>\n",
       "    </tr>\n",
       "    <tr>\n",
       "      <th>service_ctf</th>\n",
       "      <td>7.111803e-09</td>\n",
       "    </tr>\n",
       "    <tr>\n",
       "      <th>service_uucp_path</th>\n",
       "      <td>7.047877e-09</td>\n",
       "    </tr>\n",
       "    <tr>\n",
       "      <th>service_printer</th>\n",
       "      <td>7.047804e-09</td>\n",
       "    </tr>\n",
       "    <tr>\n",
       "      <th>service_sql_net</th>\n",
       "      <td>6.983240e-09</td>\n",
       "    </tr>\n",
       "    <tr>\n",
       "      <th>service_sunrpc</th>\n",
       "      <td>6.983221e-09</td>\n",
       "    </tr>\n",
       "    <tr>\n",
       "      <th>service_netbios_ns</th>\n",
       "      <td>6.791177e-09</td>\n",
       "    </tr>\n",
       "    <tr>\n",
       "      <th>service_exec</th>\n",
       "      <td>6.787966e-09</td>\n",
       "    </tr>\n",
       "    <tr>\n",
       "      <th>service_systat</th>\n",
       "      <td>6.727786e-09</td>\n",
       "    </tr>\n",
       "    <tr>\n",
       "      <th>service_link</th>\n",
       "      <td>6.727450e-09</td>\n",
       "    </tr>\n",
       "    <tr>\n",
       "      <th>service_mtp</th>\n",
       "      <td>6.727434e-09</td>\n",
       "    </tr>\n",
       "    <tr>\n",
       "      <th>service_supdup</th>\n",
       "      <td>6.726968e-09</td>\n",
       "    </tr>\n",
       "    <tr>\n",
       "      <th>service_remote_job</th>\n",
       "      <td>6.663200e-09</td>\n",
       "    </tr>\n",
       "    <tr>\n",
       "      <th>service_gopher</th>\n",
       "      <td>6.601829e-09</td>\n",
       "    </tr>\n",
       "    <tr>\n",
       "      <th>service_uucp</th>\n",
       "      <td>6.599328e-09</td>\n",
       "    </tr>\n",
       "    <tr>\n",
       "      <th>service_netbios_dgm</th>\n",
       "      <td>6.599032e-09</td>\n",
       "    </tr>\n",
       "    <tr>\n",
       "      <th>service_csnet_ns</th>\n",
       "      <td>6.470650e-09</td>\n",
       "    </tr>\n",
       "    <tr>\n",
       "      <th>service_login</th>\n",
       "      <td>6.407469e-09</td>\n",
       "    </tr>\n",
       "    <tr>\n",
       "      <th>service_http_443</th>\n",
       "      <td>6.343134e-09</td>\n",
       "    </tr>\n",
       "    <tr>\n",
       "      <th>flag_SH</th>\n",
       "      <td>6.343106e-09</td>\n",
       "    </tr>\n",
       "    <tr>\n",
       "      <th>service_kshell</th>\n",
       "      <td>6.343016e-09</td>\n",
       "    </tr>\n",
       "    <tr>\n",
       "      <th>service_daytime</th>\n",
       "      <td>6.342525e-09</td>\n",
       "    </tr>\n",
       "    <tr>\n",
       "      <th>service_efs</th>\n",
       "      <td>6.342515e-09</td>\n",
       "    </tr>\n",
       "    <tr>\n",
       "      <th>service_hostnames</th>\n",
       "      <td>6.278897e-09</td>\n",
       "    </tr>\n",
       "    <tr>\n",
       "      <th>service_domain</th>\n",
       "      <td>6.129512e-09</td>\n",
       "    </tr>\n",
       "    <tr>\n",
       "      <th>service_name</th>\n",
       "      <td>6.086417e-09</td>\n",
       "    </tr>\n",
       "    <tr>\n",
       "      <th>service_nnsp</th>\n",
       "      <td>6.022862e-09</td>\n",
       "    </tr>\n",
       "    <tr>\n",
       "      <th>service_echo</th>\n",
       "      <td>6.020110e-09</td>\n",
       "    </tr>\n",
       "    <tr>\n",
       "      <th>service_discard</th>\n",
       "      <td>5.958591e-09</td>\n",
       "    </tr>\n",
       "    <tr>\n",
       "      <th>service_imap4</th>\n",
       "      <td>5.894035e-09</td>\n",
       "    </tr>\n",
       "    <tr>\n",
       "      <th>service_time</th>\n",
       "      <td>5.387445e-09</td>\n",
       "    </tr>\n",
       "    <tr>\n",
       "      <th>service_courier</th>\n",
       "      <td>5.317390e-09</td>\n",
       "    </tr>\n",
       "    <tr>\n",
       "      <th>service_ssh</th>\n",
       "      <td>5.252511e-09</td>\n",
       "    </tr>\n",
       "    <tr>\n",
       "      <th>service_pop_3</th>\n",
       "      <td>3.021282e-09</td>\n",
       "    </tr>\n",
       "    <tr>\n",
       "      <th>flag_RSTOS0</th>\n",
       "      <td>7.025085e-10</td>\n",
       "    </tr>\n",
       "    <tr>\n",
       "      <th>service_http_2784</th>\n",
       "      <td>6.410426e-11</td>\n",
       "    </tr>\n",
       "    <tr>\n",
       "      <th>service_http_8001</th>\n",
       "      <td>6.405397e-11</td>\n",
       "    </tr>\n",
       "    <tr>\n",
       "      <th>service_aol</th>\n",
       "      <td>6.405118e-11</td>\n",
       "    </tr>\n",
       "    <tr>\n",
       "      <th>land</th>\n",
       "      <td>6.394370e-11</td>\n",
       "    </tr>\n",
       "    <tr>\n",
       "      <th>service_tim_i</th>\n",
       "      <td>5.587507e-11</td>\n",
       "    </tr>\n",
       "    <tr>\n",
       "      <th>service_harvest</th>\n",
       "      <td>0.000000e+00</td>\n",
       "    </tr>\n",
       "    <tr>\n",
       "      <th>service_pm_dump</th>\n",
       "      <td>0.000000e+00</td>\n",
       "    </tr>\n",
       "    <tr>\n",
       "      <th>urgent</th>\n",
       "      <td>-7.123862e-12</td>\n",
       "    </tr>\n",
       "    <tr>\n",
       "      <th>service_tftp_u</th>\n",
       "      <td>-6.408319e-11</td>\n",
       "    </tr>\n",
       "    <tr>\n",
       "      <th>service_red_i</th>\n",
       "      <td>-6.541352e-11</td>\n",
       "    </tr>\n",
       "    <tr>\n",
       "      <th>flag_S2</th>\n",
       "      <td>-3.537965e-10</td>\n",
       "    </tr>\n",
       "    <tr>\n",
       "      <th>flag_S3</th>\n",
       "      <td>-3.972598e-10</td>\n",
       "    </tr>\n",
       "    <tr>\n",
       "      <th>flag_S1</th>\n",
       "      <td>-7.383925e-10</td>\n",
       "    </tr>\n",
       "    <tr>\n",
       "      <th>service_X11</th>\n",
       "      <td>-8.918915e-10</td>\n",
       "    </tr>\n",
       "    <tr>\n",
       "      <th>service_urh_i</th>\n",
       "      <td>-1.098271e-09</td>\n",
       "    </tr>\n",
       "    <tr>\n",
       "      <th>service_ftp</th>\n",
       "      <td>-2.702748e-09</td>\n",
       "    </tr>\n",
       "    <tr>\n",
       "      <th>service_auth</th>\n",
       "      <td>-8.035088e-09</td>\n",
       "    </tr>\n",
       "    <tr>\n",
       "      <th>service_finger</th>\n",
       "      <td>-1.673223e-08</td>\n",
       "    </tr>\n",
       "    <tr>\n",
       "      <th>service_ntp_u</th>\n",
       "      <td>-2.354227e-08</td>\n",
       "    </tr>\n",
       "    <tr>\n",
       "      <th>service_urp_i</th>\n",
       "      <td>-3.868448e-08</td>\n",
       "    </tr>\n",
       "    <tr>\n",
       "      <th>service_other</th>\n",
       "      <td>-1.552852e-07</td>\n",
       "    </tr>\n",
       "    <tr>\n",
       "      <th>service_ftp_data</th>\n",
       "      <td>-3.384963e-07</td>\n",
       "    </tr>\n",
       "    <tr>\n",
       "      <th>service_domain_u</th>\n",
       "      <td>-3.646419e-07</td>\n",
       "    </tr>\n",
       "    <tr>\n",
       "      <th>service_smtp</th>\n",
       "      <td>-7.162829e-07</td>\n",
       "    </tr>\n",
       "    <tr>\n",
       "      <th>protocol_type_udp</th>\n",
       "      <td>-1.092466e-06</td>\n",
       "    </tr>\n",
       "    <tr>\n",
       "      <th>service_http</th>\n",
       "      <td>-1.888740e-06</td>\n",
       "    </tr>\n",
       "    <tr>\n",
       "      <th>duration</th>\n",
       "      <td>-3.062840e-04</td>\n",
       "    </tr>\n",
       "    <tr>\n",
       "      <th>dst_bytes</th>\n",
       "      <td>-1.401288e-03</td>\n",
       "    </tr>\n",
       "  </tbody>\n",
       "</table>\n",
       "</div>"
      ],
      "text/plain": [
       "                            coef_\n",
       "src_bytes            5.295485e-04\n",
       "service_ecr_i        1.420671e-05\n",
       "flag_SF              1.043310e-05\n",
       "service_private      6.090725e-06\n",
       "flag_S0              5.557342e-06\n",
       "protocol_type_tcp    3.977647e-06\n",
       "flag_REJ             1.027613e-06\n",
       "flag_RSTR            5.636944e-08\n",
       "service_eco_i        5.578148e-08\n",
       "flag_RSTO            2.789269e-08\n",
       "wrong_fragment       1.809951e-08\n",
       "service_telnet       1.165650e-08\n",
       "service_rje          8.136748e-09\n",
       "service_vmnet        7.752784e-09\n",
       "service_shell        7.624638e-09\n",
       "service_whois        7.624576e-09\n",
       "service_netbios_ssn  7.624554e-09\n",
       "service_bgp          7.496433e-09\n",
       "service_pop_2        7.368151e-09\n",
       "service_iso_tsap     7.367992e-09\n",
       "service_klogin       7.304038e-09\n",
       "service_ldap         7.239631e-09\n",
       "service_Z39_50       7.176179e-09\n",
       "service_netstat      7.175771e-09\n",
       "service_nntp         7.175644e-09\n",
       "service_ctf          7.111803e-09\n",
       "service_uucp_path    7.047877e-09\n",
       "service_printer      7.047804e-09\n",
       "service_sql_net      6.983240e-09\n",
       "service_sunrpc       6.983221e-09\n",
       "service_netbios_ns   6.791177e-09\n",
       "service_exec         6.787966e-09\n",
       "service_systat       6.727786e-09\n",
       "service_link         6.727450e-09\n",
       "service_mtp          6.727434e-09\n",
       "service_supdup       6.726968e-09\n",
       "service_remote_job   6.663200e-09\n",
       "service_gopher       6.601829e-09\n",
       "service_uucp         6.599328e-09\n",
       "service_netbios_dgm  6.599032e-09\n",
       "service_csnet_ns     6.470650e-09\n",
       "service_login        6.407469e-09\n",
       "service_http_443     6.343134e-09\n",
       "flag_SH              6.343106e-09\n",
       "service_kshell       6.343016e-09\n",
       "service_daytime      6.342525e-09\n",
       "service_efs          6.342515e-09\n",
       "service_hostnames    6.278897e-09\n",
       "service_domain       6.129512e-09\n",
       "service_name         6.086417e-09\n",
       "service_nnsp         6.022862e-09\n",
       "service_echo         6.020110e-09\n",
       "service_discard      5.958591e-09\n",
       "service_imap4        5.894035e-09\n",
       "service_time         5.387445e-09\n",
       "service_courier      5.317390e-09\n",
       "service_ssh          5.252511e-09\n",
       "service_pop_3        3.021282e-09\n",
       "flag_RSTOS0          7.025085e-10\n",
       "service_http_2784    6.410426e-11\n",
       "service_http_8001    6.405397e-11\n",
       "service_aol          6.405118e-11\n",
       "land                 6.394370e-11\n",
       "service_tim_i        5.587507e-11\n",
       "service_harvest      0.000000e+00\n",
       "service_pm_dump      0.000000e+00\n",
       "urgent              -7.123862e-12\n",
       "service_tftp_u      -6.408319e-11\n",
       "service_red_i       -6.541352e-11\n",
       "flag_S2             -3.537965e-10\n",
       "flag_S3             -3.972598e-10\n",
       "flag_S1             -7.383925e-10\n",
       "service_X11         -8.918915e-10\n",
       "service_urh_i       -1.098271e-09\n",
       "service_ftp         -2.702748e-09\n",
       "service_auth        -8.035088e-09\n",
       "service_finger      -1.673223e-08\n",
       "service_ntp_u       -2.354227e-08\n",
       "service_urp_i       -3.868448e-08\n",
       "service_other       -1.552852e-07\n",
       "service_ftp_data    -3.384963e-07\n",
       "service_domain_u    -3.646419e-07\n",
       "service_smtp        -7.162829e-07\n",
       "protocol_type_udp   -1.092466e-06\n",
       "service_http        -1.888740e-06\n",
       "duration            -3.062840e-04\n",
       "dst_bytes           -1.401288e-03"
      ]
     },
     "metadata": {},
     "output_type": "display_data"
    }
   ],
   "source": [
    "with pd.option_context(\"max_rows\", None):\n",
    "    display(coefs.sort_values(by=\"coef_\", ascending=False))"
   ]
  },
  {
   "cell_type": "code",
   "execution_count": 38,
   "metadata": {
    "ExecuteTime": {
     "end_time": "2020-03-23T22:33:57.230479Z",
     "start_time": "2020-03-23T22:33:56.532903Z"
    }
   },
   "outputs": [
    {
     "data": {
      "image/png": "[encoded data removed]",
      "text/plain": [
       "<Figure size 432x288 with 1 Axes>"
      ]
     },
     "metadata": {
      "needs_background": "light"
     },
     "output_type": "display_data"
    }
   ],
   "source": [
    "plt.hist(logreg.coef_[0]);\n",
    "plt.yscale('log')"
   ]
  },
  {
   "cell_type": "markdown",
   "metadata": {},
   "source": [
    "## Only using basic metadata\n",
    "It's useful to see how we do with only the first few columns:"
   ]
  },
  {
   "cell_type": "code",
   "execution_count": 39,
   "metadata": {
    "ExecuteTime": {
     "end_time": "2020-03-23T22:34:06.167561Z",
     "start_time": "2020-03-23T22:33:57.233402Z"
    }
   },
   "outputs": [
    {
     "data": {
      "text/plain": [
       "[<matplotlib.lines.Line2D at 0x2927f377b08>]"
      ]
     },
     "execution_count": 39,
     "metadata": {},
     "output_type": "execute_result"
    },
    {
     "data": {
      "image/png": "[encoded data removed]",
      "text/plain": [
       "<Figure size 432x288 with 1 Axes>"
      ]
     },
     "metadata": {
      "needs_background": "light"
     },
     "output_type": "display_data"
    }
   ],
   "source": [
    "plt.plot(X[\"land\"],'.')"
   ]
  },
  {
   "cell_type": "markdown",
   "metadata": {},
   "source": [
    "## Residuals\n",
    "Do an analysis of the resids"
   ]
  },
  {
   "cell_type": "markdown",
   "metadata": {},
   "source": [
    "Maybe simulate some internal attacks on your own network. Can you connect a networking component with a model scoring component?"
   ]
  },
  {
   "cell_type": "markdown",
   "metadata": {},
   "source": [
    "Online learning (iterative model updating). See \"vawpol wabbit\""
   ]
  },
  {
   "cell_type": "markdown",
   "metadata": {
    "ExecuteTime": {
     "end_time": "2020-03-02T01:01:04.553725Z",
     "start_time": "2020-03-02T01:01:04.530751Z"
    }
   },
   "source": [
    "See\n",
    "\n",
    "http://onlineprediction.net/?n=Main.HomePage\n",
    "\n",
    "https://duckduckgo.com/?q=vawp`ol+wabbit&t=ffab&ia=web\n",
    "    "
   ]
  },
  {
   "cell_type": "code",
   "execution_count": null,
   "metadata": {},
   "outputs": [],
   "source": []
  }
 ],
 "metadata": {
  "kernelspec": {
   "display_name": "Python 3",
   "language": "python",
   "name": "python3"
  },
  "language_info": {
   "codemirror_mode": {
    "name": "ipython",
    "version": 3
   },
   "file_extension": ".py",
   "mimetype": "text/x-python",
   "name": "python",
   "nbconvert_exporter": "python",
   "pygments_lexer": "ipython3",
   "version": "3.7.6"
  },
  "toc": {
   "base_numbering": 1,
   "nav_menu": {},
   "number_sections": true,
   "sideBar": true,
   "skip_h1_title": false,
   "title_cell": "Table of Contents",
   "title_sidebar": "Contents",
   "toc_cell": false,
   "toc_position": {},
   "toc_section_display": true,
   "toc_window_display": false
  },
  "varInspector": {
   "cols": {
    "lenName": 16,
    "lenType": 16,
    "lenVar": 40
   },
   "kernels_config": {
    "python": {
     "delete_cmd_postfix": "",
     "delete_cmd_prefix": "del ",
     "library": "var_list.py",
     "varRefreshCmd": "print(var_dic_list())"
    },
    "r": {
     "delete_cmd_postfix": ") ",
     "delete_cmd_prefix": "rm(",
     "library": "var_list.r",
     "varRefreshCmd": "cat(var_dic_list()) "
    }
   },
   "types_to_exclude": [
    "module",
    "function",
    "builtin_function_or_method",
    "instance",
    "_Feature"
   ],
   "window_display": false
  }
 },
 "nbformat": 4,
 "nbformat_minor": 2
}
