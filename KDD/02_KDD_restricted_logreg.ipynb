{
 "cells": [
  {
   "cell_type": "markdown",
   "metadata": {},
   "source": [
    "# Restricted Logistic Regression\n",
    "In this notebook, we build a logistic regression classifier that utilizes only basic http header metadata to build a binary classifier -- malicious vs background. In particular, we are *discarding* the features that were engineered with domain expertise."
   ]
  },
  {
   "cell_type": "code",
   "execution_count": 4,
   "metadata": {
    "ExecuteTime": {
     "end_time": "2020-03-12T12:50:46.387446Z",
     "start_time": "2020-03-12T12:50:46.381463Z"
    }
   },
   "outputs": [],
   "source": [
    "import string\n",
    "import os\n",
    "import pickle\n",
    "\n",
    "import numpy as np\n",
    "import pandas as pd\n",
    "import matplotlib.pyplot as plt\n",
    "\n",
    "from sklearn.linear_model import LogisticRegression, LogisticRegressionCV\n",
    "from sklearn.model_selection import cross_val_score, train_test_split, GridSearchCV\n",
    "from sklearn.metrics import confusion_matrix, roc_auc_score"
   ]
  },
  {
   "cell_type": "code",
   "execution_count": 5,
   "metadata": {
    "ExecuteTime": {
     "end_time": "2020-03-12T12:50:46.707741Z",
     "start_time": "2020-03-12T12:50:46.700732Z"
    }
   },
   "outputs": [],
   "source": [
    "train_attack_types = pd.read_csv(\"datasets/training_attack_types.txt\", delimiter=\" \", header=None, names= [\"attack_type\", \"attack_category\"])"
   ]
  },
  {
   "cell_type": "code",
   "execution_count": 6,
   "metadata": {
    "ExecuteTime": {
     "end_time": "2020-03-12T12:50:46.962348Z",
     "start_time": "2020-03-12T12:50:46.956363Z"
    }
   },
   "outputs": [
    {
     "data": {
      "text/plain": [
       "'dos'"
      ]
     },
     "execution_count": 6,
     "metadata": {},
     "output_type": "execute_result"
    }
   ],
   "source": [
    "target = \"back\"\n",
    "train_attack_types.loc[train_attack_types[\"attack_type\"]==target, \"attack_category\"].values[0]"
   ]
  },
  {
   "cell_type": "code",
   "execution_count": 7,
   "metadata": {
    "ExecuteTime": {
     "end_time": "2020-03-12T12:50:47.630394Z",
     "start_time": "2020-03-12T12:50:47.621418Z"
    }
   },
   "outputs": [
    {
     "data": {
      "text/plain": [
       "['duration',\n",
       " 'protocol_type',\n",
       " 'service',\n",
       " 'flag',\n",
       " 'src_bytes',\n",
       " 'dst_bytes',\n",
       " 'land',\n",
       " 'wrong_fragment',\n",
       " 'urgent',\n",
       " 'label']"
      ]
     },
     "execution_count": 7,
     "metadata": {},
     "output_type": "execute_result"
    }
   ],
   "source": [
    "cols = list(pd.read_csv(\"datasets/kddcup.names.txt\", skiprows=1, header=None)[0].map(lambda x: str(x).split(\":\")[0]).values)\n",
    "cols.append(\"label\")\n",
    "\n",
    "\n",
    "reduced_cols = cols[:9]\n",
    "reduced_cols.append(\"label\")\n",
    "\n",
    "reduced_cols"
   ]
  },
  {
   "cell_type": "code",
   "execution_count": 8,
   "metadata": {
    "ExecuteTime": {
     "end_time": "2020-03-12T12:51:00.815296Z",
     "start_time": "2020-03-12T12:50:48.639845Z"
    }
   },
   "outputs": [],
   "source": [
    "train = pd.read_csv(\"datasets/kddcup.data.corrected.txt\", header=None, names=cols)"
   ]
  },
  {
   "cell_type": "code",
   "execution_count": 9,
   "metadata": {
    "ExecuteTime": {
     "end_time": "2020-03-12T12:51:02.791031Z",
     "start_time": "2020-03-12T12:51:02.067926Z"
    }
   },
   "outputs": [],
   "source": [
    "train = train[reduced_cols].copy()"
   ]
  },
  {
   "cell_type": "code",
   "execution_count": 10,
   "metadata": {
    "ExecuteTime": {
     "end_time": "2020-03-12T12:51:03.670663Z",
     "start_time": "2020-03-12T12:51:02.808969Z"
    }
   },
   "outputs": [],
   "source": [
    "test = pd.read_csv(\"datasets/corrected.txt\", header=None, names=cols)"
   ]
  },
  {
   "cell_type": "code",
   "execution_count": 11,
   "metadata": {
    "ExecuteTime": {
     "end_time": "2020-03-12T12:51:03.851187Z",
     "start_time": "2020-03-12T12:51:03.789324Z"
    }
   },
   "outputs": [],
   "source": [
    "test = test[reduced_cols].copy()"
   ]
  },
  {
   "cell_type": "code",
   "execution_count": 12,
   "metadata": {
    "ExecuteTime": {
     "end_time": "2020-03-12T12:51:03.897039Z",
     "start_time": "2020-03-12T12:51:03.882075Z"
    }
   },
   "outputs": [
    {
     "data": {
      "text/html": [
       "<div>\n",
       "<style scoped>\n",
       "    .dataframe tbody tr th:only-of-type {\n",
       "        vertical-align: middle;\n",
       "    }\n",
       "\n",
       "    .dataframe tbody tr th {\n",
       "        vertical-align: top;\n",
       "    }\n",
       "\n",
       "    .dataframe thead th {\n",
       "        text-align: right;\n",
       "    }\n",
       "</style>\n",
       "<table border=\"1\" class=\"dataframe\">\n",
       "  <thead>\n",
       "    <tr style=\"text-align: right;\">\n",
       "      <th></th>\n",
       "      <th>duration</th>\n",
       "      <th>protocol_type</th>\n",
       "      <th>service</th>\n",
       "      <th>flag</th>\n",
       "      <th>src_bytes</th>\n",
       "      <th>dst_bytes</th>\n",
       "      <th>land</th>\n",
       "      <th>wrong_fragment</th>\n",
       "      <th>urgent</th>\n",
       "      <th>label</th>\n",
       "    </tr>\n",
       "  </thead>\n",
       "  <tbody>\n",
       "    <tr>\n",
       "      <th>0</th>\n",
       "      <td>0</td>\n",
       "      <td>tcp</td>\n",
       "      <td>http</td>\n",
       "      <td>SF</td>\n",
       "      <td>215</td>\n",
       "      <td>45076</td>\n",
       "      <td>0</td>\n",
       "      <td>0</td>\n",
       "      <td>0</td>\n",
       "      <td>normal.</td>\n",
       "    </tr>\n",
       "    <tr>\n",
       "      <th>1</th>\n",
       "      <td>0</td>\n",
       "      <td>tcp</td>\n",
       "      <td>http</td>\n",
       "      <td>SF</td>\n",
       "      <td>162</td>\n",
       "      <td>4528</td>\n",
       "      <td>0</td>\n",
       "      <td>0</td>\n",
       "      <td>0</td>\n",
       "      <td>normal.</td>\n",
       "    </tr>\n",
       "    <tr>\n",
       "      <th>2</th>\n",
       "      <td>0</td>\n",
       "      <td>tcp</td>\n",
       "      <td>http</td>\n",
       "      <td>SF</td>\n",
       "      <td>236</td>\n",
       "      <td>1228</td>\n",
       "      <td>0</td>\n",
       "      <td>0</td>\n",
       "      <td>0</td>\n",
       "      <td>normal.</td>\n",
       "    </tr>\n",
       "    <tr>\n",
       "      <th>3</th>\n",
       "      <td>0</td>\n",
       "      <td>tcp</td>\n",
       "      <td>http</td>\n",
       "      <td>SF</td>\n",
       "      <td>233</td>\n",
       "      <td>2032</td>\n",
       "      <td>0</td>\n",
       "      <td>0</td>\n",
       "      <td>0</td>\n",
       "      <td>normal.</td>\n",
       "    </tr>\n",
       "    <tr>\n",
       "      <th>4</th>\n",
       "      <td>0</td>\n",
       "      <td>tcp</td>\n",
       "      <td>http</td>\n",
       "      <td>SF</td>\n",
       "      <td>239</td>\n",
       "      <td>486</td>\n",
       "      <td>0</td>\n",
       "      <td>0</td>\n",
       "      <td>0</td>\n",
       "      <td>normal.</td>\n",
       "    </tr>\n",
       "  </tbody>\n",
       "</table>\n",
       "</div>"
      ],
      "text/plain": [
       "   duration protocol_type service flag  src_bytes  dst_bytes  land  \\\n",
       "0         0           tcp    http   SF        215      45076     0   \n",
       "1         0           tcp    http   SF        162       4528     0   \n",
       "2         0           tcp    http   SF        236       1228     0   \n",
       "3         0           tcp    http   SF        233       2032     0   \n",
       "4         0           tcp    http   SF        239        486     0   \n",
       "\n",
       "   wrong_fragment  urgent    label  \n",
       "0               0       0  normal.  \n",
       "1               0       0  normal.  \n",
       "2               0       0  normal.  \n",
       "3               0       0  normal.  \n",
       "4               0       0  normal.  "
      ]
     },
     "execution_count": 12,
     "metadata": {},
     "output_type": "execute_result"
    }
   ],
   "source": [
    "train.head()"
   ]
  },
  {
   "cell_type": "code",
   "execution_count": 13,
   "metadata": {
    "ExecuteTime": {
     "end_time": "2020-03-12T12:51:03.935930Z",
     "start_time": "2020-03-12T12:51:03.919972Z"
    }
   },
   "outputs": [
    {
     "data": {
      "text/html": [
       "<div>\n",
       "<style scoped>\n",
       "    .dataframe tbody tr th:only-of-type {\n",
       "        vertical-align: middle;\n",
       "    }\n",
       "\n",
       "    .dataframe tbody tr th {\n",
       "        vertical-align: top;\n",
       "    }\n",
       "\n",
       "    .dataframe thead th {\n",
       "        text-align: right;\n",
       "    }\n",
       "</style>\n",
       "<table border=\"1\" class=\"dataframe\">\n",
       "  <thead>\n",
       "    <tr style=\"text-align: right;\">\n",
       "      <th></th>\n",
       "      <th>duration</th>\n",
       "      <th>protocol_type</th>\n",
       "      <th>service</th>\n",
       "      <th>flag</th>\n",
       "      <th>src_bytes</th>\n",
       "      <th>dst_bytes</th>\n",
       "      <th>land</th>\n",
       "      <th>wrong_fragment</th>\n",
       "      <th>urgent</th>\n",
       "      <th>label</th>\n",
       "    </tr>\n",
       "  </thead>\n",
       "  <tbody>\n",
       "    <tr>\n",
       "      <th>0</th>\n",
       "      <td>0</td>\n",
       "      <td>udp</td>\n",
       "      <td>private</td>\n",
       "      <td>SF</td>\n",
       "      <td>105</td>\n",
       "      <td>146</td>\n",
       "      <td>0</td>\n",
       "      <td>0</td>\n",
       "      <td>0</td>\n",
       "      <td>normal.</td>\n",
       "    </tr>\n",
       "    <tr>\n",
       "      <th>1</th>\n",
       "      <td>0</td>\n",
       "      <td>udp</td>\n",
       "      <td>private</td>\n",
       "      <td>SF</td>\n",
       "      <td>105</td>\n",
       "      <td>146</td>\n",
       "      <td>0</td>\n",
       "      <td>0</td>\n",
       "      <td>0</td>\n",
       "      <td>normal.</td>\n",
       "    </tr>\n",
       "    <tr>\n",
       "      <th>2</th>\n",
       "      <td>0</td>\n",
       "      <td>udp</td>\n",
       "      <td>private</td>\n",
       "      <td>SF</td>\n",
       "      <td>105</td>\n",
       "      <td>146</td>\n",
       "      <td>0</td>\n",
       "      <td>0</td>\n",
       "      <td>0</td>\n",
       "      <td>normal.</td>\n",
       "    </tr>\n",
       "    <tr>\n",
       "      <th>3</th>\n",
       "      <td>0</td>\n",
       "      <td>udp</td>\n",
       "      <td>private</td>\n",
       "      <td>SF</td>\n",
       "      <td>105</td>\n",
       "      <td>146</td>\n",
       "      <td>0</td>\n",
       "      <td>0</td>\n",
       "      <td>0</td>\n",
       "      <td>snmpgetattack.</td>\n",
       "    </tr>\n",
       "    <tr>\n",
       "      <th>4</th>\n",
       "      <td>0</td>\n",
       "      <td>udp</td>\n",
       "      <td>private</td>\n",
       "      <td>SF</td>\n",
       "      <td>105</td>\n",
       "      <td>146</td>\n",
       "      <td>0</td>\n",
       "      <td>0</td>\n",
       "      <td>0</td>\n",
       "      <td>snmpgetattack.</td>\n",
       "    </tr>\n",
       "  </tbody>\n",
       "</table>\n",
       "</div>"
      ],
      "text/plain": [
       "   duration protocol_type  service flag  src_bytes  dst_bytes  land  \\\n",
       "0         0           udp  private   SF        105        146     0   \n",
       "1         0           udp  private   SF        105        146     0   \n",
       "2         0           udp  private   SF        105        146     0   \n",
       "3         0           udp  private   SF        105        146     0   \n",
       "4         0           udp  private   SF        105        146     0   \n",
       "\n",
       "   wrong_fragment  urgent           label  \n",
       "0               0       0         normal.  \n",
       "1               0       0         normal.  \n",
       "2               0       0         normal.  \n",
       "3               0       0  snmpgetattack.  \n",
       "4               0       0  snmpgetattack.  "
      ]
     },
     "execution_count": 13,
     "metadata": {},
     "output_type": "execute_result"
    }
   ],
   "source": [
    "test.head()"
   ]
  },
  {
   "cell_type": "markdown",
   "metadata": {},
   "source": [
    "# EDA"
   ]
  },
  {
   "cell_type": "markdown",
   "metadata": {},
   "source": [
    "## Process the label column\n",
    "We want to remove the period. Then we want to generate three label columns:"
   ]
  },
  {
   "cell_type": "code",
   "execution_count": 14,
   "metadata": {
    "ExecuteTime": {
     "end_time": "2020-03-12T12:51:05.612555Z",
     "start_time": "2020-03-12T12:51:03.962882Z"
    }
   },
   "outputs": [],
   "source": [
    "train[\"label\"] = train[\"label\"].map(lambda x: x.split(\".\")[0])\n",
    "test[\"label\"] = test[\"label\"].map(lambda x: x.split(\".\")[0])"
   ]
  },
  {
   "cell_type": "markdown",
   "metadata": {},
   "source": [
    "### Binary label (normal/malicious)"
   ]
  },
  {
   "cell_type": "code",
   "execution_count": 15,
   "metadata": {
    "ExecuteTime": {
     "end_time": "2020-03-12T12:51:07.363444Z",
     "start_time": "2020-03-12T12:51:05.639039Z"
    }
   },
   "outputs": [],
   "source": [
    "train[\"label_binary\"] = train[\"label\"].map(lambda x: 0 if x==\"normal\" else 1)\n",
    "test[\"label_binary\"] = test[\"label\"].map(lambda x: 0 if x==\"normal\" else 1)"
   ]
  },
  {
   "cell_type": "code",
   "execution_count": 16,
   "metadata": {
    "ExecuteTime": {
     "end_time": "2020-03-12T12:51:07.401345Z",
     "start_time": "2020-03-12T12:51:07.389377Z"
    }
   },
   "outputs": [
    {
     "data": {
      "text/plain": [
       "1    250436\n",
       "0     60593\n",
       "Name: label_binary, dtype: int64"
      ]
     },
     "execution_count": 16,
     "metadata": {},
     "output_type": "execute_result"
    }
   ],
   "source": [
    "test[\"label_binary\"].value_counts()"
   ]
  },
  {
   "cell_type": "code",
   "execution_count": 17,
   "metadata": {
    "ExecuteTime": {
     "end_time": "2020-03-12T12:51:07.510054Z",
     "start_time": "2020-03-12T12:51:07.431267Z"
    }
   },
   "outputs": [
    {
     "data": {
      "text/plain": [
       "1    3925650\n",
       "0     972781\n",
       "Name: label_binary, dtype: int64"
      ]
     },
     "execution_count": 17,
     "metadata": {},
     "output_type": "execute_result"
    }
   ],
   "source": [
    "train[\"label_binary\"].value_counts()"
   ]
  },
  {
   "cell_type": "code",
   "execution_count": 18,
   "metadata": {
    "ExecuteTime": {
     "end_time": "2020-03-12T12:51:12.602462Z",
     "start_time": "2020-03-12T12:51:07.537980Z"
    }
   },
   "outputs": [],
   "source": [
    "X = pd.get_dummies(train, columns=[\"protocol_type\", \"service\", \"flag\"], drop_first=True).drop(columns=[\"label\", \"label_binary\"])"
   ]
  },
  {
   "cell_type": "markdown",
   "metadata": {},
   "source": [
    "# Restricted Logistic Regression\n",
    "How well do we do with only the baseline features?"
   ]
  },
  {
   "cell_type": "code",
   "execution_count": 19,
   "metadata": {
    "ExecuteTime": {
     "end_time": "2020-03-12T12:51:13.123043Z",
     "start_time": "2020-03-12T12:51:13.118054Z"
    }
   },
   "outputs": [],
   "source": [
    "y = train[\"label_binary\"]"
   ]
  },
  {
   "cell_type": "code",
   "execution_count": 20,
   "metadata": {
    "ExecuteTime": {
     "end_time": "2020-03-12T12:51:17.410575Z",
     "start_time": "2020-03-12T12:51:13.638662Z"
    }
   },
   "outputs": [],
   "source": [
    "X_train, X_test, y_train, y_test = train_test_split(X, y, test_size=0.99)"
   ]
  },
  {
   "cell_type": "code",
   "execution_count": 21,
   "metadata": {
    "ExecuteTime": {
     "end_time": "2020-03-12T12:51:18.388957Z",
     "start_time": "2020-03-12T12:51:18.382972Z"
    }
   },
   "outputs": [
    {
     "data": {
      "text/plain": [
       "(48984, 87)"
      ]
     },
     "execution_count": 21,
     "metadata": {},
     "output_type": "execute_result"
    }
   ],
   "source": [
    "X_train.shape"
   ]
  },
  {
   "cell_type": "code",
   "execution_count": 22,
   "metadata": {
    "ExecuteTime": {
     "end_time": "2020-03-12T12:51:19.392274Z",
     "start_time": "2020-03-12T12:51:19.386288Z"
    }
   },
   "outputs": [
    {
     "data": {
      "text/plain": [
       "(48984,)"
      ]
     },
     "execution_count": 22,
     "metadata": {},
     "output_type": "execute_result"
    }
   ],
   "source": [
    "y_train.shape"
   ]
  },
  {
   "cell_type": "code",
   "execution_count": 23,
   "metadata": {
    "ExecuteTime": {
     "end_time": "2020-03-12T12:51:20.401611Z",
     "start_time": "2020-03-12T12:51:20.390604Z"
    }
   },
   "outputs": [],
   "source": [
    "filename = \"./models/restricted_logreg.pickle\"\n",
    "if not os.path.exists(filename):\n",
    "    logreg = LogisticRegression(penalty=\"none\", solver=\"sag\", max_iter=10000, verbose=1, n_jobs = -2)\n",
    "    logreg.fit(X_train, y_train)\n",
    "    with open(filename, 'wb') as f:\n",
    "        pickle.dump(logreg, f)\n",
    "else:\n",
    "    with open(filename, 'rb') as f:\n",
    "        logreg = pickle.load(f)"
   ]
  },
  {
   "cell_type": "code",
   "execution_count": 24,
   "metadata": {
    "ExecuteTime": {
     "end_time": "2020-03-12T12:51:22.576817Z",
     "start_time": "2020-03-12T12:51:22.512987Z"
    }
   },
   "outputs": [
    {
     "data": {
      "text/plain": [
       "0.9493712232565735"
      ]
     },
     "execution_count": 24,
     "metadata": {},
     "output_type": "execute_result"
    }
   ],
   "source": [
    "logreg.score(X_train, y_train)"
   ]
  },
  {
   "cell_type": "code",
   "execution_count": 25,
   "metadata": {
    "ExecuteTime": {
     "end_time": "2020-03-12T12:51:28.692285Z",
     "start_time": "2020-03-12T12:51:23.617858Z"
    }
   },
   "outputs": [
    {
     "data": {
      "text/plain": [
       "0.9506795310888025"
      ]
     },
     "execution_count": 25,
     "metadata": {},
     "output_type": "execute_result"
    }
   ],
   "source": [
    "logreg.score(X_test, y_test)"
   ]
  },
  {
   "cell_type": "code",
   "execution_count": 27,
   "metadata": {
    "ExecuteTime": {
     "end_time": "2020-03-12T12:51:43.845463Z",
     "start_time": "2020-03-12T12:51:43.777647Z"
    }
   },
   "outputs": [
    {
     "data": {
      "text/plain": [
       "0.8761267942514975"
      ]
     },
     "execution_count": 27,
     "metadata": {},
     "output_type": "execute_result"
    }
   ],
   "source": [
    "roc_auc_score(y_train, logreg.predict(X_train))"
   ]
  },
  {
   "cell_type": "code",
   "execution_count": 28,
   "metadata": {
    "ExecuteTime": {
     "end_time": "2020-03-12T12:52:01.175647Z",
     "start_time": "2020-03-12T12:51:55.556697Z"
    }
   },
   "outputs": [
    {
     "data": {
      "text/plain": [
       "0.8767500344238766"
      ]
     },
     "execution_count": 28,
     "metadata": {},
     "output_type": "execute_result"
    }
   ],
   "source": [
    "roc_auc_score(y_test, logreg.predict(X_test))"
   ]
  },
  {
   "cell_type": "code",
   "execution_count": null,
   "metadata": {},
   "outputs": [],
   "source": []
  },
  {
   "cell_type": "code",
   "execution_count": null,
   "metadata": {
    "ExecuteTime": {
     "start_time": "2020-02-27T18:52:31.615Z"
    }
   },
   "outputs": [],
   "source": [
    "# cross_val_score(logreg, X_train, y_train)"
   ]
  },
  {
   "cell_type": "code",
   "execution_count": 29,
   "metadata": {
    "ExecuteTime": {
     "end_time": "2020-03-12T12:52:56.485767Z",
     "start_time": "2020-03-12T12:52:56.362074Z"
    }
   },
   "outputs": [
    {
     "data": {
      "text/plain": [
       "0         0\n",
       "1         0\n",
       "2         0\n",
       "3         1\n",
       "4         1\n",
       "         ..\n",
       "311024    0\n",
       "311025    0\n",
       "311026    0\n",
       "311027    0\n",
       "311028    0\n",
       "Name: label, Length: 311029, dtype: int64"
      ]
     },
     "execution_count": 29,
     "metadata": {},
     "output_type": "execute_result"
    }
   ],
   "source": [
    "y_actual = test[\"label\"].map(lambda x: 0 if x == \"normal\" else 1)\n",
    "y_actual"
   ]
  },
  {
   "cell_type": "code",
   "execution_count": 30,
   "metadata": {
    "ExecuteTime": {
     "end_time": "2020-03-12T12:52:58.791796Z",
     "start_time": "2020-03-12T12:52:58.470657Z"
    }
   },
   "outputs": [],
   "source": [
    "X_big_test = pd.get_dummies(test, columns=[\"protocol_type\", \"service\", \"flag\"], drop_first=True).drop(columns=[\"label\", \"label_binary\"])"
   ]
  },
  {
   "cell_type": "code",
   "execution_count": 31,
   "metadata": {
    "ExecuteTime": {
     "end_time": "2020-03-12T12:53:00.231887Z",
     "start_time": "2020-03-12T12:53:00.225908Z"
    }
   },
   "outputs": [
    {
     "data": {
      "text/plain": [
       "Index(['duration', 'src_bytes', 'dst_bytes', 'land', 'wrong_fragment',\n",
       "       'urgent', 'protocol_type_tcp', 'protocol_type_udp', 'service_X11',\n",
       "       'service_Z39_50', 'service_auth', 'service_bgp', 'service_courier',\n",
       "       'service_csnet_ns', 'service_ctf', 'service_daytime', 'service_discard',\n",
       "       'service_domain', 'service_domain_u', 'service_echo', 'service_eco_i',\n",
       "       'service_ecr_i', 'service_efs', 'service_exec', 'service_finger',\n",
       "       'service_ftp', 'service_ftp_data', 'service_gopher',\n",
       "       'service_hostnames', 'service_http', 'service_http_443', 'service_icmp',\n",
       "       'service_imap4', 'service_iso_tsap', 'service_klogin', 'service_kshell',\n",
       "       'service_ldap', 'service_link', 'service_login', 'service_mtp',\n",
       "       'service_name', 'service_netbios_dgm', 'service_netbios_ns',\n",
       "       'service_netbios_ssn', 'service_netstat', 'service_nnsp',\n",
       "       'service_nntp', 'service_ntp_u', 'service_other', 'service_pm_dump',\n",
       "       'service_pop_2', 'service_pop_3', 'service_printer', 'service_private',\n",
       "       'service_remote_job', 'service_rje', 'service_shell', 'service_smtp',\n",
       "       'service_sql_net', 'service_ssh', 'service_sunrpc', 'service_supdup',\n",
       "       'service_systat', 'service_telnet', 'service_tftp_u', 'service_tim_i',\n",
       "       'service_time', 'service_urp_i', 'service_uucp', 'service_uucp_path',\n",
       "       'service_vmnet', 'service_whois', 'flag_REJ', 'flag_RSTO',\n",
       "       'flag_RSTOS0', 'flag_RSTR', 'flag_S0', 'flag_S1', 'flag_S2', 'flag_S3',\n",
       "       'flag_SF', 'flag_SH'],\n",
       "      dtype='object')"
      ]
     },
     "execution_count": 31,
     "metadata": {},
     "output_type": "execute_result"
    }
   ],
   "source": [
    "X_big_test.columns"
   ]
  },
  {
   "cell_type": "code",
   "execution_count": 32,
   "metadata": {
    "ExecuteTime": {
     "end_time": "2020-03-12T12:53:01.294209Z",
     "start_time": "2020-03-12T12:53:01.286256Z"
    }
   },
   "outputs": [
    {
     "data": {
      "text/plain": [
       "Index(['duration', 'src_bytes', 'dst_bytes', 'land', 'wrong_fragment',\n",
       "       'urgent', 'protocol_type_tcp', 'protocol_type_udp', 'service_X11',\n",
       "       'service_Z39_50', 'service_aol', 'service_auth', 'service_bgp',\n",
       "       'service_courier', 'service_csnet_ns', 'service_ctf', 'service_daytime',\n",
       "       'service_discard', 'service_domain', 'service_domain_u', 'service_echo',\n",
       "       'service_eco_i', 'service_ecr_i', 'service_efs', 'service_exec',\n",
       "       'service_finger', 'service_ftp', 'service_ftp_data', 'service_gopher',\n",
       "       'service_harvest', 'service_hostnames', 'service_http',\n",
       "       'service_http_2784', 'service_http_443', 'service_http_8001',\n",
       "       'service_imap4', 'service_iso_tsap', 'service_klogin', 'service_kshell',\n",
       "       'service_ldap', 'service_link', 'service_login', 'service_mtp',\n",
       "       'service_name', 'service_netbios_dgm', 'service_netbios_ns',\n",
       "       'service_netbios_ssn', 'service_netstat', 'service_nnsp',\n",
       "       'service_nntp', 'service_ntp_u', 'service_other', 'service_pm_dump',\n",
       "       'service_pop_2', 'service_pop_3', 'service_printer', 'service_private',\n",
       "       'service_red_i', 'service_remote_job', 'service_rje', 'service_shell',\n",
       "       'service_smtp', 'service_sql_net', 'service_ssh', 'service_sunrpc',\n",
       "       'service_supdup', 'service_systat', 'service_telnet', 'service_tftp_u',\n",
       "       'service_tim_i', 'service_time', 'service_urh_i', 'service_urp_i',\n",
       "       'service_uucp', 'service_uucp_path', 'service_vmnet', 'service_whois',\n",
       "       'flag_REJ', 'flag_RSTO', 'flag_RSTOS0', 'flag_RSTR', 'flag_S0',\n",
       "       'flag_S1', 'flag_S2', 'flag_S3', 'flag_SF', 'flag_SH'],\n",
       "      dtype='object')"
      ]
     },
     "execution_count": 32,
     "metadata": {},
     "output_type": "execute_result"
    }
   ],
   "source": [
    "X_test.columns"
   ]
  },
  {
   "cell_type": "code",
   "execution_count": 33,
   "metadata": {
    "ExecuteTime": {
     "end_time": "2020-03-12T12:53:02.383611Z",
     "start_time": "2020-03-12T12:53:02.368337Z"
    }
   },
   "outputs": [],
   "source": [
    "cols_to_zero = [col for col in X_test.columns if col not in X_big_test.columns]\n",
    "for col in cols_to_zero:\n",
    "    X_big_test[col] = 0"
   ]
  },
  {
   "cell_type": "code",
   "execution_count": 34,
   "metadata": {
    "ExecuteTime": {
     "end_time": "2020-03-12T12:53:03.947450Z",
     "start_time": "2020-03-12T12:53:03.480666Z"
    }
   },
   "outputs": [
    {
     "data": {
      "text/plain": [
       "0.9244861411636857"
      ]
     },
     "execution_count": 34,
     "metadata": {},
     "output_type": "execute_result"
    }
   ],
   "source": [
    "logreg.score(X_big_test[X_test.columns], y_actual)"
   ]
  },
  {
   "cell_type": "code",
   "execution_count": 35,
   "metadata": {
    "ExecuteTime": {
     "end_time": "2020-03-12T12:53:26.124647Z",
     "start_time": "2020-03-12T12:53:25.680834Z"
    }
   },
   "outputs": [
    {
     "data": {
      "text/plain": [
       "0.8969918409054137"
      ]
     },
     "execution_count": 35,
     "metadata": {},
     "output_type": "execute_result"
    }
   ],
   "source": [
    "roc_auc_score(y_actual, logreg.predict(X_big_test[X_test.columns]))"
   ]
  },
  {
   "cell_type": "code",
   "execution_count": 45,
   "metadata": {
    "ExecuteTime": {
     "end_time": "2020-03-04T19:03:48.159535Z",
     "start_time": "2020-03-04T19:03:47.526188Z"
    }
   },
   "outputs": [],
   "source": [
    "tn, fp, fn, tp = confusion_matrix(logreg.predict(X_big_test[X_test.columns]), y_actual).ravel()"
   ]
  },
  {
   "cell_type": "code",
   "execution_count": 46,
   "metadata": {
    "ExecuteTime": {
     "end_time": "2020-03-04T19:03:48.805524Z",
     "start_time": "2020-03-04T19:03:48.799542Z"
    }
   },
   "outputs": [
    {
     "data": {
      "text/plain": [
       "0.9740866970182533"
      ]
     },
     "execution_count": 46,
     "metadata": {},
     "output_type": "execute_result"
    }
   ],
   "source": [
    "# Our sensitivity is\n",
    "(tp) / (tp + fn) "
   ]
  },
  {
   "cell_type": "code",
   "execution_count": 47,
   "metadata": {
    "ExecuteTime": {
     "end_time": "2020-03-04T19:03:49.311715Z",
     "start_time": "2020-03-04T19:03:49.307698Z"
    }
   },
   "outputs": [
    {
     "data": {
      "text/plain": [
       "0.9175557827149451"
      ]
     },
     "execution_count": 47,
     "metadata": {},
     "output_type": "execute_result"
    }
   ],
   "source": [
    "# Our precision is\n",
    "(tp) / (tp + fp)"
   ]
  },
  {
   "cell_type": "code",
   "execution_count": 48,
   "metadata": {
    "ExecuteTime": {
     "end_time": "2020-03-04T19:03:51.876973Z",
     "start_time": "2020-03-04T19:03:51.871987Z"
    }
   },
   "outputs": [],
   "source": [
    "coefs = pd.DataFrame(logreg.coef_, columns=X_test.columns, index=[\"coef_\"]).T"
   ]
  },
  {
   "cell_type": "code",
   "execution_count": 49,
   "metadata": {
    "ExecuteTime": {
     "end_time": "2020-03-04T19:03:59.197129Z",
     "start_time": "2020-03-04T19:03:59.179147Z"
    }
   },
   "outputs": [
    {
     "data": {
      "text/html": [
       "<div>\n",
       "<style scoped>\n",
       "    .dataframe tbody tr th:only-of-type {\n",
       "        vertical-align: middle;\n",
       "    }\n",
       "\n",
       "    .dataframe tbody tr th {\n",
       "        vertical-align: top;\n",
       "    }\n",
       "\n",
       "    .dataframe thead th {\n",
       "        text-align: right;\n",
       "    }\n",
       "</style>\n",
       "<table border=\"1\" class=\"dataframe\">\n",
       "  <thead>\n",
       "    <tr style=\"text-align: right;\">\n",
       "      <th></th>\n",
       "      <th>coef_</th>\n",
       "    </tr>\n",
       "  </thead>\n",
       "  <tbody>\n",
       "    <tr>\n",
       "      <th>src_bytes</th>\n",
       "      <td>1.446577e-05</td>\n",
       "    </tr>\n",
       "    <tr>\n",
       "      <th>service_ecr_i</th>\n",
       "      <td>9.579340e-07</td>\n",
       "    </tr>\n",
       "    <tr>\n",
       "      <th>flag_SF</th>\n",
       "      <td>7.044567e-07</td>\n",
       "    </tr>\n",
       "    <tr>\n",
       "      <th>service_private</th>\n",
       "      <td>3.238888e-07</td>\n",
       "    </tr>\n",
       "    <tr>\n",
       "      <th>flag_S0</th>\n",
       "      <td>2.934881e-07</td>\n",
       "    </tr>\n",
       "    <tr>\n",
       "      <th>protocol_type_tcp</th>\n",
       "      <td>1.592138e-07</td>\n",
       "    </tr>\n",
       "    <tr>\n",
       "      <th>flag_REJ</th>\n",
       "      <td>5.493061e-08</td>\n",
       "    </tr>\n",
       "    <tr>\n",
       "      <th>service_eco_i</th>\n",
       "      <td>3.156117e-09</td>\n",
       "    </tr>\n",
       "    <tr>\n",
       "      <th>flag_RSTR</th>\n",
       "      <td>3.135079e-09</td>\n",
       "    </tr>\n",
       "    <tr>\n",
       "      <th>wrong_fragment</th>\n",
       "      <td>1.303337e-09</td>\n",
       "    </tr>\n",
       "    <tr>\n",
       "      <th>flag_RSTO</th>\n",
       "      <td>1.244020e-09</td>\n",
       "    </tr>\n",
       "    <tr>\n",
       "      <th>service_remote_job</th>\n",
       "      <td>8.233989e-10</td>\n",
       "    </tr>\n",
       "    <tr>\n",
       "      <th>service_telnet</th>\n",
       "      <td>7.933287e-10</td>\n",
       "    </tr>\n",
       "    <tr>\n",
       "      <th>service_bgp</th>\n",
       "      <td>6.861779e-10</td>\n",
       "    </tr>\n",
       "    <tr>\n",
       "      <th>service_uucp</th>\n",
       "      <td>5.147894e-10</td>\n",
       "    </tr>\n",
       "    <tr>\n",
       "      <th>service_domain</th>\n",
       "      <td>5.146556e-10</td>\n",
       "    </tr>\n",
       "    <tr>\n",
       "      <th>service_kshell</th>\n",
       "      <td>4.803837e-10</td>\n",
       "    </tr>\n",
       "    <tr>\n",
       "      <th>service_netstat</th>\n",
       "      <td>4.803638e-10</td>\n",
       "    </tr>\n",
       "    <tr>\n",
       "      <th>service_nntp</th>\n",
       "      <td>4.623154e-10</td>\n",
       "    </tr>\n",
       "    <tr>\n",
       "      <th>service_supdup</th>\n",
       "      <td>4.460380e-10</td>\n",
       "    </tr>\n",
       "    <tr>\n",
       "      <th>service_ldap</th>\n",
       "      <td>4.459975e-10</td>\n",
       "    </tr>\n",
       "    <tr>\n",
       "      <th>service_sunrpc</th>\n",
       "      <td>4.117855e-10</td>\n",
       "    </tr>\n",
       "    <tr>\n",
       "      <th>service_netbios_ssn</th>\n",
       "      <td>4.117744e-10</td>\n",
       "    </tr>\n",
       "    <tr>\n",
       "      <th>service_courier</th>\n",
       "      <td>4.117444e-10</td>\n",
       "    </tr>\n",
       "    <tr>\n",
       "      <th>service_printer</th>\n",
       "      <td>4.117347e-10</td>\n",
       "    </tr>\n",
       "    <tr>\n",
       "      <th>service_netbios_ns</th>\n",
       "      <td>4.116978e-10</td>\n",
       "    </tr>\n",
       "    <tr>\n",
       "      <th>service_echo</th>\n",
       "      <td>4.116847e-10</td>\n",
       "    </tr>\n",
       "    <tr>\n",
       "      <th>service_hostnames</th>\n",
       "      <td>3.774583e-10</td>\n",
       "    </tr>\n",
       "    <tr>\n",
       "      <th>service_whois</th>\n",
       "      <td>3.774381e-10</td>\n",
       "    </tr>\n",
       "    <tr>\n",
       "      <th>service_Z39_50</th>\n",
       "      <td>3.774255e-10</td>\n",
       "    </tr>\n",
       "    <tr>\n",
       "      <th>service_login</th>\n",
       "      <td>3.773829e-10</td>\n",
       "    </tr>\n",
       "    <tr>\n",
       "      <th>service_pop_2</th>\n",
       "      <td>3.773793e-10</td>\n",
       "    </tr>\n",
       "    <tr>\n",
       "      <th>service_link</th>\n",
       "      <td>3.773747e-10</td>\n",
       "    </tr>\n",
       "    <tr>\n",
       "      <th>service_netbios_dgm</th>\n",
       "      <td>3.431052e-10</td>\n",
       "    </tr>\n",
       "    <tr>\n",
       "      <th>service_daytime</th>\n",
       "      <td>3.430766e-10</td>\n",
       "    </tr>\n",
       "    <tr>\n",
       "      <th>flag_SH</th>\n",
       "      <td>3.430368e-10</td>\n",
       "    </tr>\n",
       "    <tr>\n",
       "      <th>service_systat</th>\n",
       "      <td>3.088351e-10</td>\n",
       "    </tr>\n",
       "    <tr>\n",
       "      <th>service_sql_net</th>\n",
       "      <td>3.088311e-10</td>\n",
       "    </tr>\n",
       "    <tr>\n",
       "      <th>service_nnsp</th>\n",
       "      <td>3.088088e-10</td>\n",
       "    </tr>\n",
       "    <tr>\n",
       "      <th>service_uucp_path</th>\n",
       "      <td>3.088073e-10</td>\n",
       "    </tr>\n",
       "    <tr>\n",
       "      <th>service_klogin</th>\n",
       "      <td>3.087922e-10</td>\n",
       "    </tr>\n",
       "    <tr>\n",
       "      <th>service_mtp</th>\n",
       "      <td>3.087651e-10</td>\n",
       "    </tr>\n",
       "    <tr>\n",
       "      <th>service_ssh</th>\n",
       "      <td>3.087584e-10</td>\n",
       "    </tr>\n",
       "    <tr>\n",
       "      <th>service_shell</th>\n",
       "      <td>3.087324e-10</td>\n",
       "    </tr>\n",
       "    <tr>\n",
       "      <th>service_exec</th>\n",
       "      <td>2.745249e-10</td>\n",
       "    </tr>\n",
       "    <tr>\n",
       "      <th>service_efs</th>\n",
       "      <td>2.745234e-10</td>\n",
       "    </tr>\n",
       "    <tr>\n",
       "      <th>service_name</th>\n",
       "      <td>2.745016e-10</td>\n",
       "    </tr>\n",
       "    <tr>\n",
       "      <th>service_iso_tsap</th>\n",
       "      <td>2.744998e-10</td>\n",
       "    </tr>\n",
       "    <tr>\n",
       "      <th>service_rje</th>\n",
       "      <td>2.744982e-10</td>\n",
       "    </tr>\n",
       "    <tr>\n",
       "      <th>service_imap4</th>\n",
       "      <td>2.744787e-10</td>\n",
       "    </tr>\n",
       "    <tr>\n",
       "      <th>service_discard</th>\n",
       "      <td>2.744498e-10</td>\n",
       "    </tr>\n",
       "    <tr>\n",
       "      <th>service_csnet_ns</th>\n",
       "      <td>2.402133e-10</td>\n",
       "    </tr>\n",
       "    <tr>\n",
       "      <th>service_ctf</th>\n",
       "      <td>2.401576e-10</td>\n",
       "    </tr>\n",
       "    <tr>\n",
       "      <th>service_vmnet</th>\n",
       "      <td>2.401546e-10</td>\n",
       "    </tr>\n",
       "    <tr>\n",
       "      <th>service_time</th>\n",
       "      <td>2.058686e-10</td>\n",
       "    </tr>\n",
       "    <tr>\n",
       "      <th>service_http_443</th>\n",
       "      <td>2.058570e-10</td>\n",
       "    </tr>\n",
       "    <tr>\n",
       "      <th>service_gopher</th>\n",
       "      <td>1.715889e-10</td>\n",
       "    </tr>\n",
       "    <tr>\n",
       "      <th>service_pop_3</th>\n",
       "      <td>1.540248e-10</td>\n",
       "    </tr>\n",
       "    <tr>\n",
       "      <th>service_tftp_u</th>\n",
       "      <td>0.000000e+00</td>\n",
       "    </tr>\n",
       "    <tr>\n",
       "      <th>land</th>\n",
       "      <td>0.000000e+00</td>\n",
       "    </tr>\n",
       "    <tr>\n",
       "      <th>urgent</th>\n",
       "      <td>0.000000e+00</td>\n",
       "    </tr>\n",
       "    <tr>\n",
       "      <th>flag_RSTOS0</th>\n",
       "      <td>0.000000e+00</td>\n",
       "    </tr>\n",
       "    <tr>\n",
       "      <th>service_aol</th>\n",
       "      <td>0.000000e+00</td>\n",
       "    </tr>\n",
       "    <tr>\n",
       "      <th>service_http_2784</th>\n",
       "      <td>0.000000e+00</td>\n",
       "    </tr>\n",
       "    <tr>\n",
       "      <th>service_http_8001</th>\n",
       "      <td>0.000000e+00</td>\n",
       "    </tr>\n",
       "    <tr>\n",
       "      <th>service_red_i</th>\n",
       "      <td>0.000000e+00</td>\n",
       "    </tr>\n",
       "    <tr>\n",
       "      <th>flag_S3</th>\n",
       "      <td>0.000000e+00</td>\n",
       "    </tr>\n",
       "    <tr>\n",
       "      <th>service_tim_i</th>\n",
       "      <td>0.000000e+00</td>\n",
       "    </tr>\n",
       "    <tr>\n",
       "      <th>service_urh_i</th>\n",
       "      <td>0.000000e+00</td>\n",
       "    </tr>\n",
       "    <tr>\n",
       "      <th>service_pm_dump</th>\n",
       "      <td>0.000000e+00</td>\n",
       "    </tr>\n",
       "    <tr>\n",
       "      <th>service_harvest</th>\n",
       "      <td>0.000000e+00</td>\n",
       "    </tr>\n",
       "    <tr>\n",
       "      <th>flag_S2</th>\n",
       "      <td>-3.347473e-11</td>\n",
       "    </tr>\n",
       "    <tr>\n",
       "      <th>service_X11</th>\n",
       "      <td>-7.279373e-11</td>\n",
       "    </tr>\n",
       "    <tr>\n",
       "      <th>flag_S1</th>\n",
       "      <td>-1.397051e-10</td>\n",
       "    </tr>\n",
       "    <tr>\n",
       "      <th>service_auth</th>\n",
       "      <td>-5.117283e-10</td>\n",
       "    </tr>\n",
       "    <tr>\n",
       "      <th>service_ftp</th>\n",
       "      <td>-5.917426e-10</td>\n",
       "    </tr>\n",
       "    <tr>\n",
       "      <th>service_finger</th>\n",
       "      <td>-9.633968e-10</td>\n",
       "    </tr>\n",
       "    <tr>\n",
       "      <th>service_ntp_u</th>\n",
       "      <td>-1.229726e-09</td>\n",
       "    </tr>\n",
       "    <tr>\n",
       "      <th>service_urp_i</th>\n",
       "      <td>-1.854085e-09</td>\n",
       "    </tr>\n",
       "    <tr>\n",
       "      <th>service_other</th>\n",
       "      <td>-1.146129e-08</td>\n",
       "    </tr>\n",
       "    <tr>\n",
       "      <th>service_ftp_data</th>\n",
       "      <td>-1.353623e-08</td>\n",
       "    </tr>\n",
       "    <tr>\n",
       "      <th>service_domain_u</th>\n",
       "      <td>-1.897836e-08</td>\n",
       "    </tr>\n",
       "    <tr>\n",
       "      <th>service_smtp</th>\n",
       "      <td>-3.103241e-08</td>\n",
       "    </tr>\n",
       "    <tr>\n",
       "      <th>protocol_type_udp</th>\n",
       "      <td>-6.102549e-08</td>\n",
       "    </tr>\n",
       "    <tr>\n",
       "      <th>service_http</th>\n",
       "      <td>-1.640827e-07</td>\n",
       "    </tr>\n",
       "    <tr>\n",
       "      <th>duration</th>\n",
       "      <td>-5.214340e-05</td>\n",
       "    </tr>\n",
       "    <tr>\n",
       "      <th>dst_bytes</th>\n",
       "      <td>-3.223629e-04</td>\n",
       "    </tr>\n",
       "  </tbody>\n",
       "</table>\n",
       "</div>"
      ],
      "text/plain": [
       "                            coef_\n",
       "src_bytes            1.446577e-05\n",
       "service_ecr_i        9.579340e-07\n",
       "flag_SF              7.044567e-07\n",
       "service_private      3.238888e-07\n",
       "flag_S0              2.934881e-07\n",
       "protocol_type_tcp    1.592138e-07\n",
       "flag_REJ             5.493061e-08\n",
       "service_eco_i        3.156117e-09\n",
       "flag_RSTR            3.135079e-09\n",
       "wrong_fragment       1.303337e-09\n",
       "flag_RSTO            1.244020e-09\n",
       "service_remote_job   8.233989e-10\n",
       "service_telnet       7.933287e-10\n",
       "service_bgp          6.861779e-10\n",
       "service_uucp         5.147894e-10\n",
       "service_domain       5.146556e-10\n",
       "service_kshell       4.803837e-10\n",
       "service_netstat      4.803638e-10\n",
       "service_nntp         4.623154e-10\n",
       "service_supdup       4.460380e-10\n",
       "service_ldap         4.459975e-10\n",
       "service_sunrpc       4.117855e-10\n",
       "service_netbios_ssn  4.117744e-10\n",
       "service_courier      4.117444e-10\n",
       "service_printer      4.117347e-10\n",
       "service_netbios_ns   4.116978e-10\n",
       "service_echo         4.116847e-10\n",
       "service_hostnames    3.774583e-10\n",
       "service_whois        3.774381e-10\n",
       "service_Z39_50       3.774255e-10\n",
       "service_login        3.773829e-10\n",
       "service_pop_2        3.773793e-10\n",
       "service_link         3.773747e-10\n",
       "service_netbios_dgm  3.431052e-10\n",
       "service_daytime      3.430766e-10\n",
       "flag_SH              3.430368e-10\n",
       "service_systat       3.088351e-10\n",
       "service_sql_net      3.088311e-10\n",
       "service_nnsp         3.088088e-10\n",
       "service_uucp_path    3.088073e-10\n",
       "service_klogin       3.087922e-10\n",
       "service_mtp          3.087651e-10\n",
       "service_ssh          3.087584e-10\n",
       "service_shell        3.087324e-10\n",
       "service_exec         2.745249e-10\n",
       "service_efs          2.745234e-10\n",
       "service_name         2.745016e-10\n",
       "service_iso_tsap     2.744998e-10\n",
       "service_rje          2.744982e-10\n",
       "service_imap4        2.744787e-10\n",
       "service_discard      2.744498e-10\n",
       "service_csnet_ns     2.402133e-10\n",
       "service_ctf          2.401576e-10\n",
       "service_vmnet        2.401546e-10\n",
       "service_time         2.058686e-10\n",
       "service_http_443     2.058570e-10\n",
       "service_gopher       1.715889e-10\n",
       "service_pop_3        1.540248e-10\n",
       "service_tftp_u       0.000000e+00\n",
       "land                 0.000000e+00\n",
       "urgent               0.000000e+00\n",
       "flag_RSTOS0          0.000000e+00\n",
       "service_aol          0.000000e+00\n",
       "service_http_2784    0.000000e+00\n",
       "service_http_8001    0.000000e+00\n",
       "service_red_i        0.000000e+00\n",
       "flag_S3              0.000000e+00\n",
       "service_tim_i        0.000000e+00\n",
       "service_urh_i        0.000000e+00\n",
       "service_pm_dump      0.000000e+00\n",
       "service_harvest      0.000000e+00\n",
       "flag_S2             -3.347473e-11\n",
       "service_X11         -7.279373e-11\n",
       "flag_S1             -1.397051e-10\n",
       "service_auth        -5.117283e-10\n",
       "service_ftp         -5.917426e-10\n",
       "service_finger      -9.633968e-10\n",
       "service_ntp_u       -1.229726e-09\n",
       "service_urp_i       -1.854085e-09\n",
       "service_other       -1.146129e-08\n",
       "service_ftp_data    -1.353623e-08\n",
       "service_domain_u    -1.897836e-08\n",
       "service_smtp        -3.103241e-08\n",
       "protocol_type_udp   -6.102549e-08\n",
       "service_http        -1.640827e-07\n",
       "duration            -5.214340e-05\n",
       "dst_bytes           -3.223629e-04"
      ]
     },
     "metadata": {},
     "output_type": "display_data"
    }
   ],
   "source": [
    "with pd.option_context(\"max_rows\", None):\n",
    "    display(coefs.sort_values(by=\"coef_\", ascending=False))"
   ]
  },
  {
   "cell_type": "code",
   "execution_count": 50,
   "metadata": {
    "ExecuteTime": {
     "end_time": "2020-03-04T19:04:04.389820Z",
     "start_time": "2020-03-04T19:04:03.952229Z"
    }
   },
   "outputs": [
    {
     "data": {
      "image/png": "[encoded data removed]",
      "text/plain": [
       "<Figure size 432x288 with 1 Axes>"
      ]
     },
     "metadata": {
      "needs_background": "light"
     },
     "output_type": "display_data"
    }
   ],
   "source": [
    "plt.hist(logreg.coef_[0]);\n",
    "plt.yscale('log')"
   ]
  },
  {
   "cell_type": "markdown",
   "metadata": {},
   "source": [
    "## Only using basic metadata\n",
    "It's useful to see how we do with only the first few columns:"
   ]
  },
  {
   "cell_type": "code",
   "execution_count": 3,
   "metadata": {
    "ExecuteTime": {
     "end_time": "2020-03-05T16:25:47.469690Z",
     "start_time": "2020-03-05T16:25:47.431165Z"
    }
   },
   "outputs": [
    {
     "ename": "NameError",
     "evalue": "name 'plt' is not defined",
     "output_type": "error",
     "traceback": [
      "\u001b[1;31m---------------------------------------------------------------------------\u001b[0m",
      "\u001b[1;31mNameError\u001b[0m                                 Traceback (most recent call last)",
      "\u001b[1;32m<ipython-input-3-5c3542d39756>\u001b[0m in \u001b[0;36m<module>\u001b[1;34m\u001b[0m\n\u001b[1;32m----> 1\u001b[1;33m \u001b[0mplt\u001b[0m\u001b[1;33m.\u001b[0m\u001b[0mplot\u001b[0m\u001b[1;33m(\u001b[0m\u001b[0mX\u001b[0m\u001b[1;33m[\u001b[0m\u001b[1;34m\"land\"\u001b[0m\u001b[1;33m]\u001b[0m\u001b[1;33m,\u001b[0m\u001b[1;34m'.'\u001b[0m\u001b[1;33m)\u001b[0m\u001b[1;33m\u001b[0m\u001b[1;33m\u001b[0m\u001b[0m\n\u001b[0m",
      "\u001b[1;31mNameError\u001b[0m: name 'plt' is not defined"
     ]
    }
   ],
   "source": [
    "plt.plot(X[\"land\"],'.')"
   ]
  },
  {
   "cell_type": "markdown",
   "metadata": {},
   "source": [
    "## Residuals\n",
    "Do an analysis of the resids"
   ]
  },
  {
   "cell_type": "markdown",
   "metadata": {},
   "source": [
    "Maybe simulate some internal attacks on your own network. Can you connect a networking component with a model scoring component?"
   ]
  },
  {
   "cell_type": "markdown",
   "metadata": {},
   "source": [
    "Online learning (iterative model updating). See \"vawpol wabbit\""
   ]
  },
  {
   "cell_type": "markdown",
   "metadata": {
    "ExecuteTime": {
     "end_time": "2020-03-02T01:01:04.553725Z",
     "start_time": "2020-03-02T01:01:04.530751Z"
    }
   },
   "source": [
    "See\n",
    "\n",
    "http://onlineprediction.net/?n=Main.HomePage\n",
    "\n",
    "https://duckduckgo.com/?q=vawp`ol+wabbit&t=ffab&ia=web\n",
    "    "
   ]
  },
  {
   "cell_type": "code",
   "execution_count": null,
   "metadata": {},
   "outputs": [],
   "source": []
  }
 ],
 "metadata": {
  "kernelspec": {
   "display_name": "Python 3",
   "language": "python",
   "name": "python3"
  },
  "language_info": {
   "codemirror_mode": {
    "name": "ipython",
    "version": 3
   },
   "file_extension": ".py",
   "mimetype": "text/x-python",
   "name": "python",
   "nbconvert_exporter": "python",
   "pygments_lexer": "ipython3",
   "version": "3.7.6"
  },
  "toc": {
   "base_numbering": 1,
   "nav_menu": {},
   "number_sections": true,
   "sideBar": true,
   "skip_h1_title": false,
   "title_cell": "Table of Contents",
   "title_sidebar": "Contents",
   "toc_cell": false,
   "toc_position": {},
   "toc_section_display": true,
   "toc_window_display": false
  },
  "varInspector": {
   "cols": {
    "lenName": 16,
    "lenType": 16,
    "lenVar": 40
   },
   "kernels_config": {
    "python": {
     "delete_cmd_postfix": "",
     "delete_cmd_prefix": "del ",
     "library": "var_list.py",
     "varRefreshCmd": "print(var_dic_list())"
    },
    "r": {
     "delete_cmd_postfix": ") ",
     "delete_cmd_prefix": "rm(",
     "library": "var_list.r",
     "varRefreshCmd": "cat(var_dic_list()) "
    }
   },
   "types_to_exclude": [
    "module",
    "function",
    "builtin_function_or_method",
    "instance",
    "_Feature"
   ],
   "window_display": false
  }
 },
 "nbformat": 4,
 "nbformat_minor": 2
}
