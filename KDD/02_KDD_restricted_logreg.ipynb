{
 "cells": [
  {
   "cell_type": "markdown",
   "metadata": {},
   "source": [
    "# Restricted Logistic Regression\n",
    "In this notebook, we build a logistic regression classifier that utilizes only basic http header metadata to build a binary classifier -- malicious vs background. In particular, we are *discarding* the features that were engineered with domain expertise."
   ]
  },
  {
   "cell_type": "code",
   "execution_count": 1,
   "metadata": {
    "ExecuteTime": {
     "end_time": "2020-03-23T21:42:32.965064Z",
     "start_time": "2020-03-23T21:42:31.301181Z"
    }
   },
   "outputs": [],
   "source": [
    "import string\n",
    "import os\n",
    "import pickle\n",
    "import time\n",
    "\n",
    "import numpy as np\n",
    "import pandas as pd\n",
    "import matplotlib.pyplot as plt\n",
    "\n",
    "from sklearn.linear_model import LogisticRegression, LogisticRegressionCV\n",
    "from sklearn.model_selection import cross_val_score, train_test_split, GridSearchCV\n",
    "from sklearn.metrics import confusion_matrix, roc_auc_score"
   ]
  },
  {
   "cell_type": "code",
   "execution_count": 2,
   "metadata": {
    "ExecuteTime": {
     "end_time": "2020-03-23T21:42:32.973833Z",
     "start_time": "2020-03-23T21:42:32.967002Z"
    }
   },
   "outputs": [],
   "source": [
    "train_attack_types = pd.read_csv(\"datasets/training_attack_types.txt\", delimiter=\" \", header=None, names= [\"attack_type\", \"attack_category\"])"
   ]
  },
  {
   "cell_type": "code",
   "execution_count": 3,
   "metadata": {
    "ExecuteTime": {
     "end_time": "2020-03-23T21:42:32.989449Z",
     "start_time": "2020-03-23T21:42:32.976762Z"
    }
   },
   "outputs": [
    {
     "data": {
      "text/plain": [
       "'dos'"
      ]
     },
     "execution_count": 3,
     "metadata": {},
     "output_type": "execute_result"
    }
   ],
   "source": [
    "target = \"back\"\n",
    "train_attack_types.loc[train_attack_types[\"attack_type\"]==target, \"attack_category\"].values[0]"
   ]
  },
  {
   "cell_type": "code",
   "execution_count": 4,
   "metadata": {
    "ExecuteTime": {
     "end_time": "2020-03-23T21:42:33.005791Z",
     "start_time": "2020-03-23T21:42:32.992128Z"
    }
   },
   "outputs": [
    {
     "data": {
      "text/plain": [
       "['duration',\n",
       " 'protocol_type',\n",
       " 'service',\n",
       " 'flag',\n",
       " 'src_bytes',\n",
       " 'dst_bytes',\n",
       " 'land',\n",
       " 'wrong_fragment',\n",
       " 'urgent',\n",
       " 'label']"
      ]
     },
     "execution_count": 4,
     "metadata": {},
     "output_type": "execute_result"
    }
   ],
   "source": [
    "cols = list(pd.read_csv(\"datasets/kddcup.names.txt\", skiprows=1, header=None)[0].map(lambda x: str(x).split(\":\")[0]).values)\n",
    "cols.append(\"label\")\n",
    "\n",
    "\n",
    "reduced_cols = cols[:9]\n",
    "reduced_cols.append(\"label\")\n",
    "\n",
    "reduced_cols"
   ]
  },
  {
   "cell_type": "code",
   "execution_count": 5,
   "metadata": {
    "ExecuteTime": {
     "end_time": "2020-03-23T21:42:52.415640Z",
     "start_time": "2020-03-23T21:42:33.007771Z"
    }
   },
   "outputs": [],
   "source": [
    "train = pd.read_csv(\"datasets/kddcup.data.corrected.txt\", header=None, names=cols)"
   ]
  },
  {
   "cell_type": "code",
   "execution_count": 6,
   "metadata": {
    "ExecuteTime": {
     "end_time": "2020-03-23T21:42:53.396611Z",
     "start_time": "2020-03-23T21:42:52.417551Z"
    }
   },
   "outputs": [],
   "source": [
    "train = train[reduced_cols].copy()"
   ]
  },
  {
   "cell_type": "code",
   "execution_count": 7,
   "metadata": {
    "ExecuteTime": {
     "end_time": "2020-03-23T21:42:54.898228Z",
     "start_time": "2020-03-23T21:42:53.398562Z"
    }
   },
   "outputs": [],
   "source": [
    "test = pd.read_csv(\"datasets/corrected.txt\", header=None, names=cols)"
   ]
  },
  {
   "cell_type": "code",
   "execution_count": 8,
   "metadata": {
    "ExecuteTime": {
     "end_time": "2020-03-23T21:42:54.974355Z",
     "start_time": "2020-03-23T21:42:54.903107Z"
    }
   },
   "outputs": [],
   "source": [
    "test = test[reduced_cols].copy()"
   ]
  },
  {
   "cell_type": "code",
   "execution_count": 9,
   "metadata": {
    "ExecuteTime": {
     "end_time": "2020-03-23T21:42:54.998756Z",
     "start_time": "2020-03-23T21:42:54.977283Z"
    }
   },
   "outputs": [
    {
     "data": {
      "text/html": [
       "<div>\n",
       "<style scoped>\n",
       "    .dataframe tbody tr th:only-of-type {\n",
       "        vertical-align: middle;\n",
       "    }\n",
       "\n",
       "    .dataframe tbody tr th {\n",
       "        vertical-align: top;\n",
       "    }\n",
       "\n",
       "    .dataframe thead th {\n",
       "        text-align: right;\n",
       "    }\n",
       "</style>\n",
       "<table border=\"1\" class=\"dataframe\">\n",
       "  <thead>\n",
       "    <tr style=\"text-align: right;\">\n",
       "      <th></th>\n",
       "      <th>duration</th>\n",
       "      <th>protocol_type</th>\n",
       "      <th>service</th>\n",
       "      <th>flag</th>\n",
       "      <th>src_bytes</th>\n",
       "      <th>dst_bytes</th>\n",
       "      <th>land</th>\n",
       "      <th>wrong_fragment</th>\n",
       "      <th>urgent</th>\n",
       "      <th>label</th>\n",
       "    </tr>\n",
       "  </thead>\n",
       "  <tbody>\n",
       "    <tr>\n",
       "      <th>0</th>\n",
       "      <td>0</td>\n",
       "      <td>tcp</td>\n",
       "      <td>http</td>\n",
       "      <td>SF</td>\n",
       "      <td>215</td>\n",
       "      <td>45076</td>\n",
       "      <td>0</td>\n",
       "      <td>0</td>\n",
       "      <td>0</td>\n",
       "      <td>normal.</td>\n",
       "    </tr>\n",
       "    <tr>\n",
       "      <th>1</th>\n",
       "      <td>0</td>\n",
       "      <td>tcp</td>\n",
       "      <td>http</td>\n",
       "      <td>SF</td>\n",
       "      <td>162</td>\n",
       "      <td>4528</td>\n",
       "      <td>0</td>\n",
       "      <td>0</td>\n",
       "      <td>0</td>\n",
       "      <td>normal.</td>\n",
       "    </tr>\n",
       "    <tr>\n",
       "      <th>2</th>\n",
       "      <td>0</td>\n",
       "      <td>tcp</td>\n",
       "      <td>http</td>\n",
       "      <td>SF</td>\n",
       "      <td>236</td>\n",
       "      <td>1228</td>\n",
       "      <td>0</td>\n",
       "      <td>0</td>\n",
       "      <td>0</td>\n",
       "      <td>normal.</td>\n",
       "    </tr>\n",
       "    <tr>\n",
       "      <th>3</th>\n",
       "      <td>0</td>\n",
       "      <td>tcp</td>\n",
       "      <td>http</td>\n",
       "      <td>SF</td>\n",
       "      <td>233</td>\n",
       "      <td>2032</td>\n",
       "      <td>0</td>\n",
       "      <td>0</td>\n",
       "      <td>0</td>\n",
       "      <td>normal.</td>\n",
       "    </tr>\n",
       "    <tr>\n",
       "      <th>4</th>\n",
       "      <td>0</td>\n",
       "      <td>tcp</td>\n",
       "      <td>http</td>\n",
       "      <td>SF</td>\n",
       "      <td>239</td>\n",
       "      <td>486</td>\n",
       "      <td>0</td>\n",
       "      <td>0</td>\n",
       "      <td>0</td>\n",
       "      <td>normal.</td>\n",
       "    </tr>\n",
       "  </tbody>\n",
       "</table>\n",
       "</div>"
      ],
      "text/plain": [
       "   duration protocol_type service flag  src_bytes  dst_bytes  land  \\\n",
       "0         0           tcp    http   SF        215      45076     0   \n",
       "1         0           tcp    http   SF        162       4528     0   \n",
       "2         0           tcp    http   SF        236       1228     0   \n",
       "3         0           tcp    http   SF        233       2032     0   \n",
       "4         0           tcp    http   SF        239        486     0   \n",
       "\n",
       "   wrong_fragment  urgent    label  \n",
       "0               0       0  normal.  \n",
       "1               0       0  normal.  \n",
       "2               0       0  normal.  \n",
       "3               0       0  normal.  \n",
       "4               0       0  normal.  "
      ]
     },
     "execution_count": 9,
     "metadata": {},
     "output_type": "execute_result"
    }
   ],
   "source": [
    "train.head()"
   ]
  },
  {
   "cell_type": "code",
   "execution_count": 10,
   "metadata": {
    "ExecuteTime": {
     "end_time": "2020-03-23T21:42:55.020228Z",
     "start_time": "2020-03-23T21:42:55.001684Z"
    }
   },
   "outputs": [
    {
     "data": {
      "text/html": [
       "<div>\n",
       "<style scoped>\n",
       "    .dataframe tbody tr th:only-of-type {\n",
       "        vertical-align: middle;\n",
       "    }\n",
       "\n",
       "    .dataframe tbody tr th {\n",
       "        vertical-align: top;\n",
       "    }\n",
       "\n",
       "    .dataframe thead th {\n",
       "        text-align: right;\n",
       "    }\n",
       "</style>\n",
       "<table border=\"1\" class=\"dataframe\">\n",
       "  <thead>\n",
       "    <tr style=\"text-align: right;\">\n",
       "      <th></th>\n",
       "      <th>duration</th>\n",
       "      <th>protocol_type</th>\n",
       "      <th>service</th>\n",
       "      <th>flag</th>\n",
       "      <th>src_bytes</th>\n",
       "      <th>dst_bytes</th>\n",
       "      <th>land</th>\n",
       "      <th>wrong_fragment</th>\n",
       "      <th>urgent</th>\n",
       "      <th>label</th>\n",
       "    </tr>\n",
       "  </thead>\n",
       "  <tbody>\n",
       "    <tr>\n",
       "      <th>0</th>\n",
       "      <td>0</td>\n",
       "      <td>udp</td>\n",
       "      <td>private</td>\n",
       "      <td>SF</td>\n",
       "      <td>105</td>\n",
       "      <td>146</td>\n",
       "      <td>0</td>\n",
       "      <td>0</td>\n",
       "      <td>0</td>\n",
       "      <td>normal.</td>\n",
       "    </tr>\n",
       "    <tr>\n",
       "      <th>1</th>\n",
       "      <td>0</td>\n",
       "      <td>udp</td>\n",
       "      <td>private</td>\n",
       "      <td>SF</td>\n",
       "      <td>105</td>\n",
       "      <td>146</td>\n",
       "      <td>0</td>\n",
       "      <td>0</td>\n",
       "      <td>0</td>\n",
       "      <td>normal.</td>\n",
       "    </tr>\n",
       "    <tr>\n",
       "      <th>2</th>\n",
       "      <td>0</td>\n",
       "      <td>udp</td>\n",
       "      <td>private</td>\n",
       "      <td>SF</td>\n",
       "      <td>105</td>\n",
       "      <td>146</td>\n",
       "      <td>0</td>\n",
       "      <td>0</td>\n",
       "      <td>0</td>\n",
       "      <td>normal.</td>\n",
       "    </tr>\n",
       "    <tr>\n",
       "      <th>3</th>\n",
       "      <td>0</td>\n",
       "      <td>udp</td>\n",
       "      <td>private</td>\n",
       "      <td>SF</td>\n",
       "      <td>105</td>\n",
       "      <td>146</td>\n",
       "      <td>0</td>\n",
       "      <td>0</td>\n",
       "      <td>0</td>\n",
       "      <td>snmpgetattack.</td>\n",
       "    </tr>\n",
       "    <tr>\n",
       "      <th>4</th>\n",
       "      <td>0</td>\n",
       "      <td>udp</td>\n",
       "      <td>private</td>\n",
       "      <td>SF</td>\n",
       "      <td>105</td>\n",
       "      <td>146</td>\n",
       "      <td>0</td>\n",
       "      <td>0</td>\n",
       "      <td>0</td>\n",
       "      <td>snmpgetattack.</td>\n",
       "    </tr>\n",
       "  </tbody>\n",
       "</table>\n",
       "</div>"
      ],
      "text/plain": [
       "   duration protocol_type  service flag  src_bytes  dst_bytes  land  \\\n",
       "0         0           udp  private   SF        105        146     0   \n",
       "1         0           udp  private   SF        105        146     0   \n",
       "2         0           udp  private   SF        105        146     0   \n",
       "3         0           udp  private   SF        105        146     0   \n",
       "4         0           udp  private   SF        105        146     0   \n",
       "\n",
       "   wrong_fragment  urgent           label  \n",
       "0               0       0         normal.  \n",
       "1               0       0         normal.  \n",
       "2               0       0         normal.  \n",
       "3               0       0  snmpgetattack.  \n",
       "4               0       0  snmpgetattack.  "
      ]
     },
     "execution_count": 10,
     "metadata": {},
     "output_type": "execute_result"
    }
   ],
   "source": [
    "test.head()"
   ]
  },
  {
   "cell_type": "markdown",
   "metadata": {},
   "source": [
    "# EDA"
   ]
  },
  {
   "cell_type": "markdown",
   "metadata": {},
   "source": [
    "## Process the label column\n",
    "We want to remove the period. Then we want to generate three label columns:"
   ]
  },
  {
   "cell_type": "code",
   "execution_count": 11,
   "metadata": {
    "ExecuteTime": {
     "end_time": "2020-03-23T21:42:57.538479Z",
     "start_time": "2020-03-23T21:42:55.022181Z"
    }
   },
   "outputs": [],
   "source": [
    "train[\"label\"] = train[\"label\"].map(lambda x: x.split(\".\")[0])\n",
    "test[\"label\"] = test[\"label\"].map(lambda x: x.split(\".\")[0])"
   ]
  },
  {
   "cell_type": "markdown",
   "metadata": {},
   "source": [
    "### Binary label (normal/malicious)"
   ]
  },
  {
   "cell_type": "code",
   "execution_count": 12,
   "metadata": {
    "ExecuteTime": {
     "end_time": "2020-03-23T21:43:00.127887Z",
     "start_time": "2020-03-23T21:42:57.541394Z"
    }
   },
   "outputs": [],
   "source": [
    "train[\"label_binary\"] = train[\"label\"].map(lambda x: 0 if x==\"normal\" else 1)\n",
    "test[\"label_binary\"] = test[\"label\"].map(lambda x: 0 if x==\"normal\" else 1)"
   ]
  },
  {
   "cell_type": "code",
   "execution_count": 13,
   "metadata": {
    "ExecuteTime": {
     "end_time": "2020-03-23T21:43:00.145455Z",
     "start_time": "2020-03-23T21:43:00.129848Z"
    }
   },
   "outputs": [
    {
     "data": {
      "text/plain": [
       "1    250436\n",
       "0     60593\n",
       "Name: label_binary, dtype: int64"
      ]
     },
     "execution_count": 13,
     "metadata": {},
     "output_type": "execute_result"
    }
   ],
   "source": [
    "test[\"label_binary\"].value_counts()"
   ]
  },
  {
   "cell_type": "code",
   "execution_count": 14,
   "metadata": {
    "ExecuteTime": {
     "end_time": "2020-03-23T21:43:00.240127Z",
     "start_time": "2020-03-23T21:43:00.148385Z"
    }
   },
   "outputs": [
    {
     "data": {
      "text/plain": [
       "1    3925650\n",
       "0     972781\n",
       "Name: label_binary, dtype: int64"
      ]
     },
     "execution_count": 14,
     "metadata": {},
     "output_type": "execute_result"
    }
   ],
   "source": [
    "train[\"label_binary\"].value_counts()"
   ]
  },
  {
   "cell_type": "code",
   "execution_count": 15,
   "metadata": {
    "ExecuteTime": {
     "end_time": "2020-03-23T21:43:06.366588Z",
     "start_time": "2020-03-23T21:43:00.242080Z"
    }
   },
   "outputs": [],
   "source": [
    "X = pd.get_dummies(train, columns=[\"protocol_type\", \"service\", \"flag\"], drop_first=True).drop(columns=[\"label\", \"label_binary\"])"
   ]
  },
  {
   "cell_type": "markdown",
   "metadata": {},
   "source": [
    "# Restricted Logistic Regression\n",
    "How well do we do with only the baseline features?"
   ]
  },
  {
   "cell_type": "code",
   "execution_count": 16,
   "metadata": {
    "ExecuteTime": {
     "end_time": "2020-03-23T21:43:06.373420Z",
     "start_time": "2020-03-23T21:43:06.368540Z"
    }
   },
   "outputs": [],
   "source": [
    "y = train[\"label_binary\"]"
   ]
  },
  {
   "cell_type": "code",
   "execution_count": 17,
   "metadata": {
    "ExecuteTime": {
     "end_time": "2020-03-23T21:43:12.327601Z",
     "start_time": "2020-03-23T21:43:06.375372Z"
    }
   },
   "outputs": [],
   "source": [
    "X_train, X_test, y_train, y_test = train_test_split(X, y, test_size=0.9)"
   ]
  },
  {
   "cell_type": "code",
   "execution_count": 18,
   "metadata": {
    "ExecuteTime": {
     "end_time": "2020-03-23T21:43:12.336386Z",
     "start_time": "2020-03-23T21:43:12.330529Z"
    }
   },
   "outputs": [
    {
     "data": {
      "text/plain": [
       "(489843, 87)"
      ]
     },
     "execution_count": 18,
     "metadata": {},
     "output_type": "execute_result"
    }
   ],
   "source": [
    "X_train.shape"
   ]
  },
  {
   "cell_type": "code",
   "execution_count": 19,
   "metadata": {
    "ExecuteTime": {
     "end_time": "2020-03-23T21:43:12.346146Z",
     "start_time": "2020-03-23T21:43:12.338344Z"
    }
   },
   "outputs": [
    {
     "data": {
      "text/plain": [
       "(489843,)"
      ]
     },
     "execution_count": 19,
     "metadata": {},
     "output_type": "execute_result"
    }
   ],
   "source": [
    "y_train.shape"
   ]
  },
  {
   "cell_type": "code",
   "execution_count": null,
   "metadata": {
    "ExecuteTime": {
     "start_time": "2020-03-23T21:42:31.399Z"
    }
   },
   "outputs": [
    {
     "name": "stderr",
     "output_type": "stream",
     "text": [
      "[Parallel(n_jobs=-2)]: Using backend ThreadingBackend with 7 concurrent workers.\n"
     ]
    }
   ],
   "source": [
    "filename = \"./models/restricted_logreg.pickle\"\n",
    "if not os.path.exists(filename):\n",
    "    now = time.time()\n",
    "    logreg = LogisticRegression(penalty=\"none\", solver=\"sag\", max_iter=10000, verbose=1, n_jobs = -2)\n",
    "    logreg.fit(X_train, y_train)\n",
    "    print(f\"fitting completed in {time.time() - now}\")\n",
    "    with open(filename, 'wb') as f:\n",
    "        pickle.dump(logreg, f)\n",
    "else:\n",
    "    with open(filename, 'rb') as f:\n",
    "        logreg = pickle.load(f)"
   ]
  },
  {
   "cell_type": "code",
   "execution_count": null,
   "metadata": {
    "ExecuteTime": {
     "start_time": "2020-03-23T21:42:31.404Z"
    }
   },
   "outputs": [],
   "source": [
    "logreg.score(X_train, y_train)"
   ]
  },
  {
   "cell_type": "code",
   "execution_count": null,
   "metadata": {
    "ExecuteTime": {
     "start_time": "2020-03-23T21:42:31.408Z"
    }
   },
   "outputs": [],
   "source": [
    "logreg.score(X_test, y_test)"
   ]
  },
  {
   "cell_type": "code",
   "execution_count": null,
   "metadata": {
    "ExecuteTime": {
     "start_time": "2020-03-23T21:42:31.411Z"
    }
   },
   "outputs": [],
   "source": [
    "roc_auc_score(y_train, logreg.predict(X_train))"
   ]
  },
  {
   "cell_type": "code",
   "execution_count": null,
   "metadata": {
    "ExecuteTime": {
     "start_time": "2020-03-23T21:42:31.414Z"
    }
   },
   "outputs": [],
   "source": [
    "roc_auc_score(y_test, logreg.predict(X_test))"
   ]
  },
  {
   "cell_type": "code",
   "execution_count": null,
   "metadata": {},
   "outputs": [],
   "source": []
  },
  {
   "cell_type": "code",
   "execution_count": null,
   "metadata": {
    "ExecuteTime": {
     "start_time": "2020-03-23T21:42:31.418Z"
    }
   },
   "outputs": [],
   "source": [
    "# cross_val_score(logreg, X_train, y_train)"
   ]
  },
  {
   "cell_type": "code",
   "execution_count": null,
   "metadata": {
    "ExecuteTime": {
     "start_time": "2020-03-23T21:42:31.422Z"
    }
   },
   "outputs": [],
   "source": [
    "y_actual = test[\"label\"].map(lambda x: 0 if x == \"normal\" else 1)\n",
    "y_actual"
   ]
  },
  {
   "cell_type": "code",
   "execution_count": null,
   "metadata": {
    "ExecuteTime": {
     "start_time": "2020-03-23T21:42:31.425Z"
    }
   },
   "outputs": [],
   "source": [
    "X_big_test = pd.get_dummies(test, columns=[\"protocol_type\", \"service\", \"flag\"], drop_first=True).drop(columns=[\"label\", \"label_binary\"])"
   ]
  },
  {
   "cell_type": "code",
   "execution_count": null,
   "metadata": {
    "ExecuteTime": {
     "start_time": "2020-03-23T21:42:31.429Z"
    }
   },
   "outputs": [],
   "source": [
    "X_big_test.columns"
   ]
  },
  {
   "cell_type": "code",
   "execution_count": null,
   "metadata": {
    "ExecuteTime": {
     "start_time": "2020-03-23T21:42:31.433Z"
    }
   },
   "outputs": [],
   "source": [
    "X_test.columns"
   ]
  },
  {
   "cell_type": "code",
   "execution_count": null,
   "metadata": {
    "ExecuteTime": {
     "start_time": "2020-03-23T21:42:31.436Z"
    }
   },
   "outputs": [],
   "source": [
    "cols_to_zero = [col for col in X_test.columns if col not in X_big_test.columns]\n",
    "for col in cols_to_zero:\n",
    "    X_big_test[col] = 0"
   ]
  },
  {
   "cell_type": "code",
   "execution_count": null,
   "metadata": {
    "ExecuteTime": {
     "start_time": "2020-03-23T21:42:31.438Z"
    }
   },
   "outputs": [],
   "source": [
    "logreg.score(X_big_test[X_test.columns], y_actual)"
   ]
  },
  {
   "cell_type": "code",
   "execution_count": null,
   "metadata": {
    "ExecuteTime": {
     "start_time": "2020-03-23T21:42:31.443Z"
    }
   },
   "outputs": [],
   "source": [
    "roc_auc_score(y_actual, logreg.predict(X_big_test[X_test.columns]))"
   ]
  },
  {
   "cell_type": "code",
   "execution_count": null,
   "metadata": {
    "ExecuteTime": {
     "start_time": "2020-03-23T21:42:31.446Z"
    }
   },
   "outputs": [],
   "source": [
    "tn, fp, fn, tp = confusion_matrix(logreg.predict(X_big_test[X_test.columns]), y_actual).ravel()"
   ]
  },
  {
   "cell_type": "code",
   "execution_count": null,
   "metadata": {
    "ExecuteTime": {
     "start_time": "2020-03-23T21:42:31.449Z"
    }
   },
   "outputs": [],
   "source": [
    "# Our sensitivity is\n",
    "(tp) / (tp + fn) "
   ]
  },
  {
   "cell_type": "code",
   "execution_count": null,
   "metadata": {
    "ExecuteTime": {
     "start_time": "2020-03-23T21:42:31.456Z"
    }
   },
   "outputs": [],
   "source": [
    "# Our precision is\n",
    "(tp) / (tp + fp)"
   ]
  },
  {
   "cell_type": "code",
   "execution_count": null,
   "metadata": {
    "ExecuteTime": {
     "start_time": "2020-03-23T21:42:31.460Z"
    }
   },
   "outputs": [],
   "source": [
    "coefs = pd.DataFrame(logreg.coef_, columns=X_test.columns, index=[\"coef_\"]).T"
   ]
  },
  {
   "cell_type": "code",
   "execution_count": null,
   "metadata": {
    "ExecuteTime": {
     "start_time": "2020-03-23T21:42:31.463Z"
    }
   },
   "outputs": [],
   "source": [
    "with pd.option_context(\"max_rows\", None):\n",
    "    display(coefs.sort_values(by=\"coef_\", ascending=False))"
   ]
  },
  {
   "cell_type": "code",
   "execution_count": null,
   "metadata": {
    "ExecuteTime": {
     "start_time": "2020-03-23T21:42:31.469Z"
    }
   },
   "outputs": [],
   "source": [
    "plt.hist(logreg.coef_[0]);\n",
    "plt.yscale('log')"
   ]
  },
  {
   "cell_type": "markdown",
   "metadata": {},
   "source": [
    "## Only using basic metadata\n",
    "It's useful to see how we do with only the first few columns:"
   ]
  },
  {
   "cell_type": "code",
   "execution_count": null,
   "metadata": {
    "ExecuteTime": {
     "start_time": "2020-03-23T21:42:31.473Z"
    }
   },
   "outputs": [],
   "source": [
    "plt.plot(X[\"land\"],'.')"
   ]
  },
  {
   "cell_type": "markdown",
   "metadata": {},
   "source": [
    "## Residuals\n",
    "Do an analysis of the resids"
   ]
  },
  {
   "cell_type": "markdown",
   "metadata": {},
   "source": [
    "Maybe simulate some internal attacks on your own network. Can you connect a networking component with a model scoring component?"
   ]
  },
  {
   "cell_type": "markdown",
   "metadata": {},
   "source": [
    "Online learning (iterative model updating). See \"vawpol wabbit\""
   ]
  },
  {
   "cell_type": "markdown",
   "metadata": {
    "ExecuteTime": {
     "end_time": "2020-03-02T01:01:04.553725Z",
     "start_time": "2020-03-02T01:01:04.530751Z"
    }
   },
   "source": [
    "See\n",
    "\n",
    "http://onlineprediction.net/?n=Main.HomePage\n",
    "\n",
    "https://duckduckgo.com/?q=vawp`ol+wabbit&t=ffab&ia=web\n",
    "    "
   ]
  },
  {
   "cell_type": "code",
   "execution_count": null,
   "metadata": {},
   "outputs": [],
   "source": []
  }
 ],
 "metadata": {
  "kernelspec": {
   "display_name": "Python 3",
   "language": "python",
   "name": "python3"
  },
  "language_info": {
   "codemirror_mode": {
    "name": "ipython",
    "version": 3
   },
   "file_extension": ".py",
   "mimetype": "text/x-python",
   "name": "python",
   "nbconvert_exporter": "python",
   "pygments_lexer": "ipython3",
   "version": "3.7.6"
  },
  "toc": {
   "base_numbering": 1,
   "nav_menu": {},
   "number_sections": true,
   "sideBar": true,
   "skip_h1_title": false,
   "title_cell": "Table of Contents",
   "title_sidebar": "Contents",
   "toc_cell": false,
   "toc_position": {},
   "toc_section_display": true,
   "toc_window_display": false
  },
  "varInspector": {
   "cols": {
    "lenName": 16,
    "lenType": 16,
    "lenVar": 40
   },
   "kernels_config": {
    "python": {
     "delete_cmd_postfix": "",
     "delete_cmd_prefix": "del ",
     "library": "var_list.py",
     "varRefreshCmd": "print(var_dic_list())"
    },
    "r": {
     "delete_cmd_postfix": ") ",
     "delete_cmd_prefix": "rm(",
     "library": "var_list.r",
     "varRefreshCmd": "cat(var_dic_list()) "
    }
   },
   "types_to_exclude": [
    "module",
    "function",
    "builtin_function_or_method",
    "instance",
    "_Feature"
   ],
   "window_display": false
  }
 },
 "nbformat": 4,
 "nbformat_minor": 2
}
