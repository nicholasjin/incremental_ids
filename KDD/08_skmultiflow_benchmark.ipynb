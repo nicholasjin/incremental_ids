{
 "cells": [
  {
   "cell_type": "markdown",
   "metadata": {},
   "source": [
    "# HST benchmark using `skmultiflow`\n",
    "\n",
    "In this notebook, we perform the same analysis as in the [previous notebook](./07_creme044_benchmark.ipynb), this time using the library `scikit-multiflow`. We find nothing different."
   ]
  },
  {
   "cell_type": "code",
   "execution_count": 1,
   "metadata": {
    "ExecuteTime": {
     "end_time": "2020-03-17T23:38:13.963533Z",
     "start_time": "2020-03-17T23:38:11.543541Z"
    }
   },
   "outputs": [],
   "source": [
    "import numpy as np\n",
    "import pandas as pd\n",
    "import matplotlib.pyplot as plt\n",
    "from skmultiflow.evaluation import EvaluatePrequential\n",
    "\n",
    "import h5py\n",
    "import time\n",
    "\n",
    "from skmultiflow.data import DataStream\n",
    "from skmultiflow.anomaly_detection import HalfSpaceTrees\n",
    "\n",
    "from sklearn.metrics import roc_auc_score"
   ]
  },
  {
   "cell_type": "code",
   "execution_count": 2,
   "metadata": {
    "ExecuteTime": {
     "end_time": "2020-03-17T23:38:14.062114Z",
     "start_time": "2020-03-17T23:38:13.966461Z"
    }
   },
   "outputs": [],
   "source": [
    "# Read in the http data\n",
    "arrays = {}\n",
    "f = h5py.File(\"http.mat\")\n",
    "for k,v in f.items():\n",
    "    arrays[k] = np.array(v)"
   ]
  },
  {
   "cell_type": "code",
   "execution_count": 3,
   "metadata": {
    "ExecuteTime": {
     "end_time": "2020-03-17T23:38:14.286589Z",
     "start_time": "2020-03-17T23:38:14.064062Z"
    }
   },
   "outputs": [],
   "source": [
    "X = pd.DataFrame(arrays[\"X\"]).T\n",
    "y = pd.DataFrame(arrays[\"y\"]).astype(int).T"
   ]
  },
  {
   "cell_type": "code",
   "execution_count": 4,
   "metadata": {
    "ExecuteTime": {
     "end_time": "2020-03-17T23:38:14.300253Z",
     "start_time": "2020-03-17T23:38:14.288542Z"
    }
   },
   "outputs": [
    {
     "data": {
      "text/plain": [
       "0    float64\n",
       "1    float64\n",
       "2    float64\n",
       "dtype: object"
      ]
     },
     "execution_count": 4,
     "metadata": {},
     "output_type": "execute_result"
    }
   ],
   "source": [
    "X.dtypes"
   ]
  },
  {
   "cell_type": "code",
   "execution_count": 5,
   "metadata": {
    "ExecuteTime": {
     "end_time": "2020-03-17T23:38:14.315869Z",
     "start_time": "2020-03-17T23:38:14.303182Z"
    }
   },
   "outputs": [
    {
     "data": {
      "text/plain": [
       "0    int32\n",
       "dtype: object"
      ]
     },
     "execution_count": 5,
     "metadata": {},
     "output_type": "execute_result"
    }
   ],
   "source": [
    "y.dtypes"
   ]
  },
  {
   "cell_type": "code",
   "execution_count": 6,
   "metadata": {
    "ExecuteTime": {
     "end_time": "2020-03-17T23:38:14.324654Z",
     "start_time": "2020-03-17T23:38:14.317830Z"
    }
   },
   "outputs": [
    {
     "data": {
      "text/plain": [
       "(567498, 3)"
      ]
     },
     "execution_count": 6,
     "metadata": {},
     "output_type": "execute_result"
    }
   ],
   "source": [
    "X.shape"
   ]
  },
  {
   "cell_type": "code",
   "execution_count": 7,
   "metadata": {
    "ExecuteTime": {
     "end_time": "2020-03-17T23:38:14.351005Z",
     "start_time": "2020-03-17T23:38:14.326606Z"
    }
   },
   "outputs": [],
   "source": [
    "stream = DataStream(data=X, y=y)\n",
    "stream.prepare_for_use()"
   ]
  },
  {
   "cell_type": "code",
   "execution_count": 8,
   "metadata": {
    "ExecuteTime": {
     "end_time": "2020-03-17T23:38:14.356861Z",
     "start_time": "2020-03-17T23:38:14.352957Z"
    }
   },
   "outputs": [],
   "source": [
    "hst = HalfSpaceTrees(n_features=3)"
   ]
  },
  {
   "cell_type": "code",
   "execution_count": 9,
   "metadata": {
    "ExecuteTime": {
     "end_time": "2020-03-18T00:13:13.873592Z",
     "start_time": "2020-03-17T23:38:14.360765Z"
    },
    "scrolled": true
   },
   "outputs": [
    {
     "name": "stdout",
     "output_type": "stream",
     "text": [
      "iteration: 10000; time elapsed: 46.37686800956726\n",
      "rocauc: have only encountered one class\n",
      "iteration: 20000; time elapsed: 83.83153009414673\n",
      "rocauc: have only encountered one class\n",
      "iteration: 30000; time elapsed: 119.3799216747284\n",
      "rocauc: have only encountered one class\n",
      "iteration: 40000; time elapsed: 151.83430290222168\n",
      "rocauc: have only encountered one class\n",
      "iteration: 50000; time elapsed: 188.51997900009155\n",
      "rocauc: have only encountered one class\n",
      "iteration: 60000; time elapsed: 224.9317181110382\n",
      "rocauc: have only encountered one class\n",
      "iteration: 70000; time elapsed: 261.61531949043274\n",
      "rocauc: have only encountered one class\n",
      "iteration: 80000; time elapsed: 297.1365633010864\n",
      "rocauc: have only encountered one class\n",
      "iteration: 90000; time elapsed: 333.0256862640381\n",
      "rocauc: have only encountered one class\n",
      "iteration: 100000; time elapsed: 369.0213453769684\n",
      "rocauc: have only encountered one class\n",
      "iteration: 110000; time elapsed: 406.15833926200867\n",
      "rocauc: have only encountered one class\n",
      "iteration: 120000; time elapsed: 441.12571907043457\n",
      "rocauc: have only encountered one class\n",
      "iteration: 130000; time elapsed: 477.39157605171204\n",
      "rocauc: have only encountered one class\n",
      "iteration: 140000; time elapsed: 515.3105115890503\n",
      "rocauc: have only encountered one class\n",
      "iteration: 150000; time elapsed: 551.6562962532043\n",
      "rocauc: have only encountered one class\n",
      "iteration: 160000; time elapsed: 586.7496690750122\n",
      "rocauc: have only encountered one class\n",
      "iteration: 170000; time elapsed: 622.2419865131378\n",
      "rocauc: have only encountered one class\n",
      "iteration: 180000; time elapsed: 659.2998969554901\n",
      "rocauc: have only encountered one class\n",
      "iteration: 190000; time elapsed: 696.5589799880981\n",
      "rocauc: have only encountered one class\n",
      "iteration: 200000; time elapsed: 732.2606279850006\n",
      "rocauc: have only encountered one class\n",
      "iteration: 210000; time elapsed: 767.7171204090118\n",
      "rocauc: 0.0022598546827621857\n",
      "iteration: 220000; time elapsed: 803.6940040588379\n",
      "rocauc: 0.0022116242241112527\n",
      "iteration: 230000; time elapsed: 842.243332862854\n",
      "rocauc: 0.0021588871285060374\n",
      "iteration: 240000; time elapsed: 880.3608858585358\n",
      "rocauc: 0.0020896941788878243\n",
      "iteration: 250000; time elapsed: 917.9611115455627\n",
      "rocauc: 0.0020420583948619897\n",
      "iteration: 260000; time elapsed: 954.9684858322144\n",
      "rocauc: 0.0019730662026271606\n",
      "iteration: 270000; time elapsed: 992.6432440280914\n",
      "rocauc: 0.0019221643904681618\n",
      "iteration: 280000; time elapsed: 1028.356347322464\n",
      "rocauc: 0.0019034988632626315\n",
      "iteration: 290000; time elapsed: 1063.7282855510712\n",
      "rocauc: 0.0018826704584673504\n",
      "iteration: 300000; time elapsed: 1100.619021654129\n",
      "rocauc: 0.001869904052737681\n",
      "iteration: 310000; time elapsed: 1137.4077010154724\n",
      "rocauc: 0.0018450482327569961\n",
      "iteration: 320000; time elapsed: 1173.362990140915\n",
      "rocauc: 0.39113866458658236\n",
      "iteration: 330000; time elapsed: 1211.1273534297943\n",
      "rocauc: 0.3972718838765224\n",
      "iteration: 340000; time elapsed: 1247.5033478736877\n",
      "rocauc: 0.40344557693727306\n",
      "iteration: 350000; time elapsed: 1285.4534986019135\n",
      "rocauc: 0.40812138471785825\n",
      "iteration: 360000; time elapsed: 1323.1474902629852\n",
      "rocauc: 0.40855744640803304\n",
      "iteration: 370000; time elapsed: 1359.5311357975006\n",
      "rocauc: 0.4122846332529538\n",
      "iteration: 380000; time elapsed: 1396.6089086532593\n",
      "rocauc: 0.41445886078537797\n",
      "iteration: 390000; time elapsed: 1434.067123889923\n",
      "rocauc: 0.4176389888833588\n",
      "iteration: 400000; time elapsed: 1471.7006788253784\n",
      "rocauc: 0.421395565460798\n",
      "iteration: 410000; time elapsed: 1508.0427899360657\n",
      "rocauc: 0.42711113762337727\n",
      "iteration: 420000; time elapsed: 1545.5190403461456\n",
      "rocauc: 0.4286201447835563\n",
      "iteration: 430000; time elapsed: 1583.5129747390747\n",
      "rocauc: 0.43035475051332517\n",
      "iteration: 440000; time elapsed: 1621.980969429016\n",
      "rocauc: 0.43441302528988274\n",
      "iteration: 450000; time elapsed: 1658.656017780304\n",
      "rocauc: 0.4382646335337855\n",
      "iteration: 460000; time elapsed: 1696.8162920475006\n",
      "rocauc: 0.43956182954656603\n",
      "iteration: 470000; time elapsed: 1734.6746938228607\n",
      "rocauc: 0.42424072579013405\n",
      "iteration: 480000; time elapsed: 1775.754316329956\n",
      "rocauc: 0.43023641146659486\n",
      "iteration: 490000; time elapsed: 1813.1481235027313\n",
      "rocauc: 0.431576007848009\n",
      "iteration: 500000; time elapsed: 1850.0317115783691\n",
      "rocauc: 0.43660914563688213\n",
      "iteration: 510000; time elapsed: 1887.4331951141357\n",
      "rocauc: 0.44269258673755985\n",
      "iteration: 520000; time elapsed: 1925.3037323951721\n",
      "rocauc: 0.4563489395139367\n",
      "iteration: 530000; time elapsed: 1962.6387913227081\n",
      "rocauc: 0.456941463893018\n",
      "iteration: 540000; time elapsed: 1999.4564836025238\n",
      "rocauc: 0.4600641160649998\n",
      "iteration: 550000; time elapsed: 2035.7319009304047\n",
      "rocauc: 0.4629090036007885\n",
      "iteration: 560000; time elapsed: 2071.951254606247\n",
      "rocauc: 0.46340476553912785\n"
     ]
    }
   ],
   "source": [
    "counter = 0\n",
    "y_true = []\n",
    "y_pred = []\n",
    "start_time = time.time()\n",
    "while stream.has_more_samples():\n",
    "    if counter % 10000 == 0 and counter > 1:\n",
    "        print(f\"iteration: {counter}; time elapsed: {time.time()-start_time}\")\n",
    "        if np.mean(y_true) != 0:\n",
    "            print(f\"rocauc: {roc_auc_score(y_true, y_pred)}\")\n",
    "        else:\n",
    "            print(f\"rocauc: have only encountered one class\")\n",
    "    X, y = stream.next_sample()\n",
    "    if counter > 250:\n",
    "        yhat = hst.predict_proba(X)[0][0]\n",
    "#         print(yhat)\n",
    "        y_pred.append(yhat)\n",
    "        y_true.append(y)\n",
    "    hst.partial_fit(X, y)\n",
    "    counter += 1"
   ]
  },
  {
   "cell_type": "code",
   "execution_count": 10,
   "metadata": {
    "ExecuteTime": {
     "end_time": "2020-03-18T00:13:15.069198Z",
     "start_time": "2020-03-18T00:13:13.876522Z"
    }
   },
   "outputs": [
    {
     "data": {
      "text/plain": [
       "0.4643603341096978"
      ]
     },
     "execution_count": 10,
     "metadata": {},
     "output_type": "execute_result"
    }
   ],
   "source": [
    "roc_auc_score(y_true, y_pred)"
   ]
  },
  {
   "cell_type": "markdown",
   "metadata": {},
   "source": [
    "# With improper preprocessing:\n",
    "We repeat the analysis, but this time we will rescale and shuffle the dataset before streaming it to our model:"
   ]
  },
  {
   "cell_type": "code",
   "execution_count": 14,
   "metadata": {
    "ExecuteTime": {
     "end_time": "2020-03-18T00:21:55.966746Z",
     "start_time": "2020-03-18T00:21:55.761787Z"
    }
   },
   "outputs": [],
   "source": [
    "X = pd.DataFrame(arrays[\"X\"]).T\n",
    "y = pd.DataFrame(arrays[\"y\"]).astype(int).T"
   ]
  },
  {
   "cell_type": "code",
   "execution_count": 15,
   "metadata": {
    "ExecuteTime": {
     "end_time": "2020-03-18T00:28:21.076704Z",
     "start_time": "2020-03-18T00:28:21.068896Z"
    }
   },
   "outputs": [],
   "source": [
    "X[\"label\"] = y"
   ]
  },
  {
   "cell_type": "code",
   "execution_count": 16,
   "metadata": {
    "ExecuteTime": {
     "end_time": "2020-03-18T00:34:32.866119Z",
     "start_time": "2020-03-18T00:34:32.846599Z"
    }
   },
   "outputs": [
    {
     "data": {
      "text/html": [
       "<div>\n",
       "<style scoped>\n",
       "    .dataframe tbody tr th:only-of-type {\n",
       "        vertical-align: middle;\n",
       "    }\n",
       "\n",
       "    .dataframe tbody tr th {\n",
       "        vertical-align: top;\n",
       "    }\n",
       "\n",
       "    .dataframe thead th {\n",
       "        text-align: right;\n",
       "    }\n",
       "</style>\n",
       "<table border=\"1\" class=\"dataframe\">\n",
       "  <thead>\n",
       "    <tr style=\"text-align: right;\">\n",
       "      <th></th>\n",
       "      <th>0</th>\n",
       "      <th>1</th>\n",
       "      <th>2</th>\n",
       "      <th>label</th>\n",
       "    </tr>\n",
       "  </thead>\n",
       "  <tbody>\n",
       "    <tr>\n",
       "      <th>0</th>\n",
       "      <td>-2.302585</td>\n",
       "      <td>5.371103</td>\n",
       "      <td>10.716107</td>\n",
       "      <td>0</td>\n",
       "    </tr>\n",
       "    <tr>\n",
       "      <th>1</th>\n",
       "      <td>-2.302585</td>\n",
       "      <td>5.088213</td>\n",
       "      <td>8.418058</td>\n",
       "      <td>0</td>\n",
       "    </tr>\n",
       "    <tr>\n",
       "      <th>2</th>\n",
       "      <td>-2.302585</td>\n",
       "      <td>5.464255</td>\n",
       "      <td>7.113224</td>\n",
       "      <td>0</td>\n",
       "    </tr>\n",
       "    <tr>\n",
       "      <th>3</th>\n",
       "      <td>-2.302585</td>\n",
       "      <td>5.451468</td>\n",
       "      <td>7.616825</td>\n",
       "      <td>0</td>\n",
       "    </tr>\n",
       "    <tr>\n",
       "      <th>4</th>\n",
       "      <td>-2.302585</td>\n",
       "      <td>5.476882</td>\n",
       "      <td>6.186414</td>\n",
       "      <td>0</td>\n",
       "    </tr>\n",
       "    <tr>\n",
       "      <th>...</th>\n",
       "      <td>...</td>\n",
       "      <td>...</td>\n",
       "      <td>...</td>\n",
       "      <td>...</td>\n",
       "    </tr>\n",
       "    <tr>\n",
       "      <th>567493</th>\n",
       "      <td>-2.302585</td>\n",
       "      <td>5.357058</td>\n",
       "      <td>7.735477</td>\n",
       "      <td>0</td>\n",
       "    </tr>\n",
       "    <tr>\n",
       "      <th>567494</th>\n",
       "      <td>-2.302585</td>\n",
       "      <td>5.389528</td>\n",
       "      <td>5.464255</td>\n",
       "      <td>0</td>\n",
       "    </tr>\n",
       "    <tr>\n",
       "      <th>567495</th>\n",
       "      <td>-2.302585</td>\n",
       "      <td>5.384954</td>\n",
       "      <td>8.191491</td>\n",
       "      <td>0</td>\n",
       "    </tr>\n",
       "    <tr>\n",
       "      <th>567496</th>\n",
       "      <td>-2.302585</td>\n",
       "      <td>5.389528</td>\n",
       "      <td>7.118097</td>\n",
       "      <td>0</td>\n",
       "    </tr>\n",
       "    <tr>\n",
       "      <th>567497</th>\n",
       "      <td>-2.302585</td>\n",
       "      <td>5.389528</td>\n",
       "      <td>7.001337</td>\n",
       "      <td>0</td>\n",
       "    </tr>\n",
       "  </tbody>\n",
       "</table>\n",
       "<p>567498 rows × 4 columns</p>\n",
       "</div>"
      ],
      "text/plain": [
       "               0         1          2  label\n",
       "0      -2.302585  5.371103  10.716107      0\n",
       "1      -2.302585  5.088213   8.418058      0\n",
       "2      -2.302585  5.464255   7.113224      0\n",
       "3      -2.302585  5.451468   7.616825      0\n",
       "4      -2.302585  5.476882   6.186414      0\n",
       "...          ...       ...        ...    ...\n",
       "567493 -2.302585  5.357058   7.735477      0\n",
       "567494 -2.302585  5.389528   5.464255      0\n",
       "567495 -2.302585  5.384954   8.191491      0\n",
       "567496 -2.302585  5.389528   7.118097      0\n",
       "567497 -2.302585  5.389528   7.001337      0\n",
       "\n",
       "[567498 rows x 4 columns]"
      ]
     },
     "execution_count": 16,
     "metadata": {},
     "output_type": "execute_result"
    }
   ],
   "source": [
    "X"
   ]
  },
  {
   "cell_type": "code",
   "execution_count": 19,
   "metadata": {
    "ExecuteTime": {
     "end_time": "2020-03-18T00:40:58.156280Z",
     "start_time": "2020-03-18T00:40:58.040091Z"
    }
   },
   "outputs": [],
   "source": [
    "X_shuffled = X.sample(frac=1).reset_index(drop=True)"
   ]
  },
  {
   "cell_type": "code",
   "execution_count": 20,
   "metadata": {
    "ExecuteTime": {
     "end_time": "2020-03-18T00:41:11.906588Z",
     "start_time": "2020-03-18T00:41:11.902683Z"
    }
   },
   "outputs": [],
   "source": [
    "from sklearn.preprocessing import StandardScaler"
   ]
  },
  {
   "cell_type": "code",
   "execution_count": 21,
   "metadata": {
    "ExecuteTime": {
     "end_time": "2020-03-18T00:41:16.090181Z",
     "start_time": "2020-03-18T00:41:16.086276Z"
    }
   },
   "outputs": [],
   "source": [
    "ss = StandardScaler()"
   ]
  },
  {
   "cell_type": "code",
   "execution_count": 22,
   "metadata": {
    "ExecuteTime": {
     "end_time": "2020-03-18T00:41:22.165290Z",
     "start_time": "2020-03-18T00:41:21.702277Z"
    }
   },
   "outputs": [],
   "source": [
    "X_shuffled[[0,1,2]] = ss.fit_transform(X_shuffled[[0,1,2]])"
   ]
  },
  {
   "cell_type": "code",
   "execution_count": 23,
   "metadata": {
    "ExecuteTime": {
     "end_time": "2020-03-18T01:16:49.645330Z",
     "start_time": "2020-03-18T00:41:29.686083Z"
    },
    "scrolled": true
   },
   "outputs": [
    {
     "name": "stdout",
     "output_type": "stream",
     "text": [
      "iteration: 10000; time elapsed: 42.48803210258484; roc_auc: 0.026033550024489066\n",
      "iteration: 20000; time elapsed: 80.49550080299377; roc_auc: 0.013527088957079839\n",
      "iteration: 30000; time elapsed: 116.57068657875061; roc_auc: 0.009280169371912497\n",
      "iteration: 40000; time elapsed: 156.4720811843872; roc_auc: 0.007274025197702383\n",
      "iteration: 50000; time elapsed: 193.39114546775818; roc_auc: 0.006152062647445824\n",
      "iteration: 60000; time elapsed: 228.73001670837402; roc_auc: 0.005323667463357042\n",
      "iteration: 70000; time elapsed: 266.105925321579; roc_auc: 0.008033486297920993\n",
      "iteration: 80000; time elapsed: 308.31938648223877; roc_auc: 0.009734251574895134\n",
      "iteration: 90000; time elapsed: 351.24908232688904; roc_auc: 0.008788051341061209\n",
      "iteration: 100000; time elapsed: 390.1844992637634; roc_auc: 0.007956055548902038\n",
      "iteration: 110000; time elapsed: 430.8786463737488; roc_auc: 0.00718191438055675\n",
      "iteration: 120000; time elapsed: 467.90228056907654; roc_auc: 0.006698625044817612\n",
      "iteration: 130000; time elapsed: 508.0474371910095; roc_auc: 0.006257753996692638\n",
      "iteration: 140000; time elapsed: 546.3129801750183; roc_auc: 0.005845382480983033\n",
      "iteration: 150000; time elapsed: 585.0456264019012; roc_auc: 0.005544600853076703\n",
      "iteration: 160000; time elapsed: 623.3018474578857; roc_auc: 0.005240490673799078\n",
      "iteration: 170000; time elapsed: 661.7992191314697; roc_auc: 0.004979688769830214\n",
      "iteration: 180000; time elapsed: 700.5385327339172; roc_auc: 0.004775718754699615\n",
      "iteration: 190000; time elapsed: 741.6472051143646; roc_auc: 0.0046022016872334665\n",
      "iteration: 200000; time elapsed: 783.3029441833496; roc_auc: 0.004440590579852708\n",
      "iteration: 210000; time elapsed: 822.1249575614929; roc_auc: 0.004285918511324181\n",
      "iteration: 220000; time elapsed: 864.6840350627899; roc_auc: 0.0041507813183466954\n",
      "iteration: 230000; time elapsed: 903.9164657592773; roc_auc: 0.0040153460230719015\n",
      "iteration: 240000; time elapsed: 939.8375914096832; roc_auc: 0.0038997264166187647\n",
      "iteration: 250000; time elapsed: 975.733500957489; roc_auc: 0.003792748165714848\n",
      "iteration: 260000; time elapsed: 1018.1551599502563; roc_auc: 0.003710771680984202\n",
      "iteration: 270000; time elapsed: 1055.695618391037; roc_auc: 0.003625903361476221\n",
      "iteration: 280000; time elapsed: 1091.7705624103546; roc_auc: 0.003529130873075775\n",
      "iteration: 290000; time elapsed: 1129.2667264938354; roc_auc: 0.003440624992082126\n",
      "iteration: 300000; time elapsed: 1166.2572720050812; roc_auc: 0.0033684545337758255\n",
      "iteration: 310000; time elapsed: 1203.1234652996063; roc_auc: 0.003312979788857746\n",
      "iteration: 320000; time elapsed: 1237.87349152565; roc_auc: 0.0032411775055337065\n",
      "iteration: 330000; time elapsed: 1275.2546517848969; roc_auc: 0.0031828603121214303\n",
      "iteration: 340000; time elapsed: 1313.1901314258575; roc_auc: 0.0031161371762274603\n",
      "iteration: 350000; time elapsed: 1352.48987865448; roc_auc: 0.0030676158806014486\n",
      "iteration: 360000; time elapsed: 1389.4591896533966; roc_auc: 0.0036254455617076\n",
      "iteration: 370000; time elapsed: 1424.507380247116; roc_auc: 0.0035396869646842294\n",
      "iteration: 380000; time elapsed: 1459.2802193164825; roc_auc: 0.003477838618595899\n",
      "iteration: 390000; time elapsed: 1493.6553046703339; roc_auc: 0.003430559379030436\n",
      "iteration: 400000; time elapsed: 1528.7913434505463; roc_auc: 0.0033760101673525637\n",
      "iteration: 410000; time elapsed: 1564.3778924942017; roc_auc: 0.003912004053740446\n",
      "iteration: 420000; time elapsed: 1604.268946647644; roc_auc: 0.003845401643930168\n",
      "iteration: 430000; time elapsed: 1643.0417952537537; roc_auc: 0.0037785010248923964\n",
      "iteration: 440000; time elapsed: 1681.0845758914948; roc_auc: 0.0037452719836750027\n",
      "iteration: 450000; time elapsed: 1719.6396570205688; roc_auc: 0.0036994605528972947\n",
      "iteration: 460000; time elapsed: 1755.2811925411224; roc_auc: 0.003646683049302893\n",
      "iteration: 470000; time elapsed: 1789.5264768600464; roc_auc: 0.0035911004493300765\n",
      "iteration: 480000; time elapsed: 1822.8585891723633; roc_auc: 0.0035572177877131175\n",
      "iteration: 490000; time elapsed: 1856.0601255893707; roc_auc: 0.0035187312420089626\n",
      "iteration: 500000; time elapsed: 1889.0876405239105; roc_auc: 0.0034640884043353705\n",
      "iteration: 510000; time elapsed: 1924.8885383605957; roc_auc: 0.0034137107834465927\n",
      "iteration: 520000; time elapsed: 1959.3684179782867; roc_auc: 0.003377918071525988\n",
      "iteration: 530000; time elapsed: 1993.7767882347107; roc_auc: 0.003337733208954032\n",
      "iteration: 540000; time elapsed: 2026.8420507907867; roc_auc: 0.003305766226339971\n",
      "iteration: 550000; time elapsed: 2060.269435405731; roc_auc: 0.003270554143995537\n",
      "iteration: 560000; time elapsed: 2093.5094799995422; roc_auc: 0.0032350976069592816\n"
     ]
    }
   ],
   "source": [
    "stream = DataStream(data=X_shuffled[[0,1,2]], y=X_shuffled[[\"label\"]])\n",
    "stream.prepare_for_use()\n",
    "hst = HalfSpaceTrees(n_features=3, size_limit=25)\n",
    "counter = 0\n",
    "y_true = []\n",
    "y_pred = []\n",
    "start_time = time.time()\n",
    "while stream.has_more_samples():\n",
    "    if counter % 10000 == 0 and counter > 0:\n",
    "        print(f\"iteration: {counter}; time elapsed: {time.time()-start_time}; roc_auc: {roc_auc_score(y_true, y_pred)}\")\n",
    "    X, y = stream.next_sample()\n",
    "    if counter > 250:\n",
    "#         print(hst.predict_proba(X)[0][0])\n",
    "        yhat = hst.predict_proba(X)[0][0]\n",
    "        y_pred.append(yhat)\n",
    "        y_true.append(y)\n",
    "    hst.partial_fit(X, y)\n",
    "    counter += 1"
   ]
  },
  {
   "cell_type": "code",
   "execution_count": 24,
   "metadata": {
    "ExecuteTime": {
     "end_time": "2020-03-18T01:19:55.386284Z",
     "start_time": "2020-03-18T01:19:54.224449Z"
    }
   },
   "outputs": [
    {
     "data": {
      "text/plain": [
       "0.003648572598435957"
      ]
     },
     "execution_count": 24,
     "metadata": {},
     "output_type": "execute_result"
    }
   ],
   "source": [
    "roc_auc_score(y_true, y_pred)"
   ]
  },
  {
   "cell_type": "code",
   "execution_count": null,
   "metadata": {},
   "outputs": [],
   "source": []
  }
 ],
 "metadata": {
  "kernelspec": {
   "display_name": "Python 3",
   "language": "python",
   "name": "python3"
  },
  "language_info": {
   "codemirror_mode": {
    "name": "ipython",
    "version": 3
   },
   "file_extension": ".py",
   "mimetype": "text/x-python",
   "name": "python",
   "nbconvert_exporter": "python",
   "pygments_lexer": "ipython3",
   "version": "3.7.6"
  },
  "toc": {
   "base_numbering": 1,
   "nav_menu": {},
   "number_sections": true,
   "sideBar": true,
   "skip_h1_title": false,
   "title_cell": "Table of Contents",
   "title_sidebar": "Contents",
   "toc_cell": false,
   "toc_position": {},
   "toc_section_display": true,
   "toc_window_display": false
  },
  "varInspector": {
   "cols": {
    "lenName": 16,
    "lenType": 16,
    "lenVar": 40
   },
   "kernels_config": {
    "python": {
     "delete_cmd_postfix": "",
     "delete_cmd_prefix": "del ",
     "library": "var_list.py",
     "varRefreshCmd": "print(var_dic_list())"
    },
    "r": {
     "delete_cmd_postfix": ") ",
     "delete_cmd_prefix": "rm(",
     "library": "var_list.r",
     "varRefreshCmd": "cat(var_dic_list()) "
    }
   },
   "types_to_exclude": [
    "module",
    "function",
    "builtin_function_or_method",
    "instance",
    "_Feature"
   ],
   "window_display": false
  }
 },
 "nbformat": 4,
 "nbformat_minor": 4
}
