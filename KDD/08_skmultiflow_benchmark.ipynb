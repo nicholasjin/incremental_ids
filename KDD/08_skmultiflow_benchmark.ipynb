{
 "cells": [
  {
   "cell_type": "code",
   "execution_count": 1,
   "metadata": {
    "ExecuteTime": {
     "end_time": "2020-03-12T17:59:26.138913Z",
     "start_time": "2020-03-12T17:59:24.690294Z"
    }
   },
   "outputs": [],
   "source": [
    "import numpy as np\n",
    "import pandas as pd\n",
    "import matplotlib.pyplot as plt\n",
    "\n",
    "from skmultiflow.data import DataStream\n",
    "from skmultiflow.anomaly_detection import HalfSpaceTrees\n",
    "from skmultiflow.evaluation import EvaluatePrequential\n",
    "\n",
    "import h5py\n",
    "import time"
   ]
  },
  {
   "cell_type": "code",
   "execution_count": 2,
   "metadata": {
    "ExecuteTime": {
     "end_time": "2020-03-12T17:59:26.216715Z",
     "start_time": "2020-03-12T17:59:26.139911Z"
    }
   },
   "outputs": [],
   "source": [
    "# Read in the http data\n",
    "arrays = {}\n",
    "f = h5py.File(\"http.mat\")\n",
    "for k,v in f.items():\n",
    "    arrays[k] = np.array(v)"
   ]
  },
  {
   "cell_type": "code",
   "execution_count": 3,
   "metadata": {
    "ExecuteTime": {
     "end_time": "2020-03-12T17:59:26.362313Z",
     "start_time": "2020-03-12T17:59:26.218672Z"
    }
   },
   "outputs": [],
   "source": [
    "X = pd.DataFrame(arrays[\"X\"]).T\n",
    "y = pd.DataFrame(arrays[\"y\"]).astype(int).T"
   ]
  },
  {
   "cell_type": "code",
   "execution_count": 4,
   "metadata": {
    "ExecuteTime": {
     "end_time": "2020-03-12T17:59:26.371289Z",
     "start_time": "2020-03-12T17:59:26.363285Z"
    }
   },
   "outputs": [
    {
     "data": {
      "text/plain": [
       "0    float64\n",
       "1    float64\n",
       "2    float64\n",
       "dtype: object"
      ]
     },
     "execution_count": 4,
     "metadata": {},
     "output_type": "execute_result"
    }
   ],
   "source": [
    "X.dtypes"
   ]
  },
  {
   "cell_type": "code",
   "execution_count": 5,
   "metadata": {
    "ExecuteTime": {
     "end_time": "2020-03-12T17:59:26.382236Z",
     "start_time": "2020-03-12T17:59:26.373268Z"
    }
   },
   "outputs": [
    {
     "data": {
      "text/plain": [
       "0    int32\n",
       "dtype: object"
      ]
     },
     "execution_count": 5,
     "metadata": {},
     "output_type": "execute_result"
    }
   ],
   "source": [
    "y.dtypes"
   ]
  },
  {
   "cell_type": "code",
   "execution_count": 6,
   "metadata": {
    "ExecuteTime": {
     "end_time": "2020-03-12T17:59:26.392221Z",
     "start_time": "2020-03-12T17:59:26.383235Z"
    }
   },
   "outputs": [
    {
     "data": {
      "text/plain": [
       "(567498, 3)"
      ]
     },
     "execution_count": 6,
     "metadata": {},
     "output_type": "execute_result"
    }
   ],
   "source": [
    "X.shape"
   ]
  },
  {
   "cell_type": "code",
   "execution_count": 7,
   "metadata": {
    "ExecuteTime": {
     "end_time": "2020-03-12T17:59:26.418159Z",
     "start_time": "2020-03-12T17:59:26.394203Z"
    }
   },
   "outputs": [],
   "source": [
    "stream = DataStream(data=X, y=y)\n",
    "stream.prepare_for_use()"
   ]
  },
  {
   "cell_type": "code",
   "execution_count": 8,
   "metadata": {
    "ExecuteTime": {
     "end_time": "2020-03-12T17:59:26.426120Z",
     "start_time": "2020-03-12T17:59:26.421132Z"
    }
   },
   "outputs": [],
   "source": [
    "hst = HalfSpaceTrees(n_features=3)"
   ]
  },
  {
   "cell_type": "code",
   "execution_count": 9,
   "metadata": {
    "ExecuteTime": {
     "end_time": "2020-03-12T18:20:58.058643Z",
     "start_time": "2020-03-12T17:59:26.429110Z"
    },
    "scrolled": true
   },
   "outputs": [
    {
     "name": "stdout",
     "output_type": "stream",
     "text": [
      "iteration: 0; time elapsed: 0.0\n",
      "iteration: 10000; time elapsed: 25.80697250366211\n",
      "iteration: 20000; time elapsed: 47.38527989387512\n",
      "iteration: 30000; time elapsed: 68.49681162834167\n",
      "iteration: 40000; time elapsed: 89.55150318145752\n",
      "iteration: 50000; time elapsed: 110.79966402053833\n",
      "iteration: 60000; time elapsed: 131.84537029266357\n",
      "iteration: 70000; time elapsed: 153.3149447441101\n",
      "iteration: 80000; time elapsed: 174.35140323638916\n",
      "iteration: 90000; time elapsed: 195.24612712860107\n",
      "iteration: 100000; time elapsed: 216.37684059143066\n",
      "iteration: 110000; time elapsed: 237.93442678451538\n",
      "iteration: 120000; time elapsed: 261.2869610786438\n",
      "iteration: 130000; time elapsed: 283.9838194847107\n",
      "iteration: 140000; time elapsed: 305.0800642967224\n",
      "iteration: 150000; time elapsed: 326.8689315319061\n",
      "iteration: 160000; time elapsed: 347.88043117523193\n",
      "iteration: 170000; time elapsed: 369.1109838485718\n",
      "iteration: 180000; time elapsed: 390.21863174438477\n",
      "iteration: 190000; time elapsed: 411.49627113342285\n",
      "iteration: 200000; time elapsed: 432.6549413204193\n",
      "iteration: 210000; time elapsed: 453.5767412185669\n",
      "iteration: 220000; time elapsed: 474.6918194293976\n",
      "iteration: 230000; time elapsed: 495.8448050022125\n",
      "iteration: 240000; time elapsed: 516.7864356040955\n",
      "iteration: 250000; time elapsed: 537.6208393573761\n",
      "iteration: 260000; time elapsed: 558.4972574710846\n",
      "iteration: 270000; time elapsed: 579.4324810504913\n",
      "iteration: 280000; time elapsed: 600.4180355072021\n",
      "iteration: 290000; time elapsed: 621.7355773448944\n",
      "iteration: 300000; time elapsed: 642.9473991394043\n",
      "iteration: 310000; time elapsed: 664.6336755752563\n",
      "iteration: 320000; time elapsed: 686.8074164390564\n",
      "iteration: 330000; time elapsed: 709.5983982086182\n",
      "iteration: 340000; time elapsed: 732.5156273841858\n",
      "iteration: 350000; time elapsed: 755.6388087272644\n",
      "iteration: 360000; time elapsed: 777.0273070335388\n",
      "iteration: 370000; time elapsed: 801.8331153392792\n",
      "iteration: 380000; time elapsed: 828.654714345932\n",
      "iteration: 390000; time elapsed: 853.9820175170898\n",
      "iteration: 400000; time elapsed: 879.2052867412567\n",
      "iteration: 410000; time elapsed: 905.2660310268402\n",
      "iteration: 420000; time elapsed: 929.703852891922\n",
      "iteration: 430000; time elapsed: 953.2541830539703\n",
      "iteration: 440000; time elapsed: 980.5653409957886\n",
      "iteration: 450000; time elapsed: 1007.2901315689087\n",
      "iteration: 460000; time elapsed: 1030.3947546482086\n",
      "iteration: 470000; time elapsed: 1054.4640152454376\n",
      "iteration: 480000; time elapsed: 1078.9566295146942\n",
      "iteration: 490000; time elapsed: 1102.9900345802307\n",
      "iteration: 500000; time elapsed: 1126.4129903316498\n",
      "iteration: 510000; time elapsed: 1151.155044555664\n",
      "iteration: 520000; time elapsed: 1173.7937064170837\n",
      "iteration: 530000; time elapsed: 1197.6658129692078\n",
      "iteration: 540000; time elapsed: 1221.0967960357666\n",
      "iteration: 550000; time elapsed: 1247.6780469417572\n",
      "iteration: 560000; time elapsed: 1272.391089439392\n"
     ]
    }
   ],
   "source": [
    "counter = 0\n",
    "y_true = []\n",
    "y_pred = []\n",
    "start_time = time.time()\n",
    "while stream.has_more_samples():\n",
    "    if counter % 10000 == 0:\n",
    "        print(f\"iteration: {counter}; time elapsed: {time.time()-start_time}\")\n",
    "    X, y = stream.next_sample()\n",
    "    if counter > 250:\n",
    "        yhat = hst.predict(X)\n",
    "        y_pred.append(yhat)\n",
    "        y_true.append(y)\n",
    "    hst.partial_fit(X, y)\n",
    "    counter += 1"
   ]
  },
  {
   "cell_type": "code",
   "execution_count": 11,
   "metadata": {
    "ExecuteTime": {
     "end_time": "2020-03-12T18:24:36.291364Z",
     "start_time": "2020-03-12T18:24:36.286333Z"
    }
   },
   "outputs": [],
   "source": [
    "from sklearn.metrics import roc_auc_score"
   ]
  },
  {
   "cell_type": "code",
   "execution_count": 12,
   "metadata": {
    "ExecuteTime": {
     "end_time": "2020-03-12T18:25:53.194477Z",
     "start_time": "2020-03-12T18:25:52.071181Z"
    }
   },
   "outputs": [
    {
     "data": {
      "text/plain": [
       "0.5042477467020117"
      ]
     },
     "execution_count": 12,
     "metadata": {},
     "output_type": "execute_result"
    }
   ],
   "source": [
    "roc_auc_score(y_true, y_pred)"
   ]
  },
  {
   "cell_type": "code",
   "execution_count": null,
   "metadata": {},
   "outputs": [],
   "source": []
  }
 ],
 "metadata": {
  "kernelspec": {
   "display_name": "Python 3",
   "language": "python",
   "name": "python3"
  },
  "language_info": {
   "codemirror_mode": {
    "name": "ipython",
    "version": 3
   },
   "file_extension": ".py",
   "mimetype": "text/x-python",
   "name": "python",
   "nbconvert_exporter": "python",
   "pygments_lexer": "ipython3",
   "version": "3.7.6"
  },
  "toc": {
   "base_numbering": 1,
   "nav_menu": {},
   "number_sections": true,
   "sideBar": true,
   "skip_h1_title": false,
   "title_cell": "Table of Contents",
   "title_sidebar": "Contents",
   "toc_cell": false,
   "toc_position": {},
   "toc_section_display": true,
   "toc_window_display": false
  },
  "varInspector": {
   "cols": {
    "lenName": 16,
    "lenType": 16,
    "lenVar": 40
   },
   "kernels_config": {
    "python": {
     "delete_cmd_postfix": "",
     "delete_cmd_prefix": "del ",
     "library": "var_list.py",
     "varRefreshCmd": "print(var_dic_list())"
    },
    "r": {
     "delete_cmd_postfix": ") ",
     "delete_cmd_prefix": "rm(",
     "library": "var_list.r",
     "varRefreshCmd": "cat(var_dic_list()) "
    }
   },
   "types_to_exclude": [
    "module",
    "function",
    "builtin_function_or_method",
    "instance",
    "_Feature"
   ],
   "window_display": false
  }
 },
 "nbformat": 4,
 "nbformat_minor": 4
}
