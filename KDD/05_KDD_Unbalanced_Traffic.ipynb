{
 "cells": [
  {
   "cell_type": "markdown",
   "metadata": {},
   "source": [
    "# Incremental Logistic Regression (Unbalanced Traffic)\n",
    "Our previous model's success was predicated on having a large number of prelabeled data. In a real life environment, this is unrealistic; we only have the raw, unlabelled data that we observe over time, and almost certainly will not be able to hand-label half a million points.\n",
    "\n",
    "In this notebook, we will simulate our logistic regression model's performance against a stream of mostly background events with sporadic malicious traffic. The CTU dataset has a relative occurrence of around .17%, so that is what we will emulate."
   ]
  },
  {
   "cell_type": "code",
   "execution_count": 1,
   "metadata": {
    "ExecuteTime": {
     "end_time": "2020-03-10T16:54:01.591403Z",
     "start_time": "2020-03-10T16:54:00.276397Z"
    }
   },
   "outputs": [],
   "source": [
    "import string\n",
    "import os\n",
    "import pickle\n",
    "\n",
    "\n",
    "import numpy as np\n",
    "import pandas as pd\n",
    "import matplotlib.pyplot as plt\n",
    "\n",
    "from pprint import pprint\n",
    "\n",
    "from creme import stream\n",
    "from creme import model_selection\n",
    "from creme import compose\n",
    "from creme import feature_extraction\n",
    "from creme import linear_model\n",
    "from creme import metrics\n",
    "from creme import preprocessing\n",
    "from creme import stats\n",
    "from creme import anomaly"
   ]
  },
  {
   "cell_type": "code",
   "execution_count": 2,
   "metadata": {
    "ExecuteTime": {
     "end_time": "2020-03-10T16:54:01.600366Z",
     "start_time": "2020-03-10T16:54:01.592362Z"
    }
   },
   "outputs": [],
   "source": [
    "train_attack_types = pd.read_csv(\"datasets/training_attack_types.txt\", delimiter=\" \", header=None, names= [\"attack_type\", \"attack_category\"])"
   ]
  },
  {
   "cell_type": "code",
   "execution_count": 3,
   "metadata": {
    "ExecuteTime": {
     "end_time": "2020-03-10T16:54:01.613321Z",
     "start_time": "2020-03-10T16:54:01.602349Z"
    }
   },
   "outputs": [
    {
     "data": {
      "text/plain": [
       "'dos'"
      ]
     },
     "execution_count": 3,
     "metadata": {},
     "output_type": "execute_result"
    }
   ],
   "source": [
    "target = \"back\"\n",
    "train_attack_types.loc[train_attack_types[\"attack_type\"]==target, \"attack_category\"].values[0]"
   ]
  },
  {
   "cell_type": "code",
   "execution_count": 4,
   "metadata": {
    "ExecuteTime": {
     "end_time": "2020-03-10T16:54:01.627269Z",
     "start_time": "2020-03-10T16:54:01.615302Z"
    }
   },
   "outputs": [
    {
     "data": {
      "text/plain": [
       "['duration',\n",
       " 'protocol_type',\n",
       " 'service',\n",
       " 'flag',\n",
       " 'src_bytes',\n",
       " 'dst_bytes',\n",
       " 'land',\n",
       " 'wrong_fragment',\n",
       " 'urgent',\n",
       " 'label']"
      ]
     },
     "execution_count": 4,
     "metadata": {},
     "output_type": "execute_result"
    }
   ],
   "source": [
    "cols = list(pd.read_csv(\"datasets/kddcup.names.txt\", skiprows=1, header=None)[0].map(lambda x: str(x).split(\":\")[0]).values)\n",
    "cols.append(\"label\")\n",
    "\n",
    "\n",
    "reduced_cols = cols[:9]\n",
    "reduced_cols.append(\"label\")\n",
    "\n",
    "reduced_cols"
   ]
  },
  {
   "cell_type": "code",
   "execution_count": 5,
   "metadata": {
    "ExecuteTime": {
     "end_time": "2020-03-10T16:54:16.075658Z",
     "start_time": "2020-03-10T16:54:01.629264Z"
    }
   },
   "outputs": [],
   "source": [
    "train = pd.read_csv(\"datasets/kddcup.data.corrected.txt\", header=None, names=cols)"
   ]
  },
  {
   "cell_type": "code",
   "execution_count": 6,
   "metadata": {
    "ExecuteTime": {
     "end_time": "2020-03-10T16:54:16.935835Z",
     "start_time": "2020-03-10T16:54:16.076656Z"
    }
   },
   "outputs": [],
   "source": [
    "train = train[reduced_cols].copy()"
   ]
  },
  {
   "cell_type": "code",
   "execution_count": 7,
   "metadata": {
    "ExecuteTime": {
     "end_time": "2020-03-10T16:54:17.858711Z",
     "start_time": "2020-03-10T16:54:16.937831Z"
    }
   },
   "outputs": [],
   "source": [
    "test = pd.read_csv(\"datasets/corrected.txt\", header=None, names=cols)"
   ]
  },
  {
   "cell_type": "code",
   "execution_count": 8,
   "metadata": {
    "ExecuteTime": {
     "end_time": "2020-03-10T16:54:17.923519Z",
     "start_time": "2020-03-10T16:54:17.862681Z"
    }
   },
   "outputs": [],
   "source": [
    "test = test[reduced_cols].copy()"
   ]
  },
  {
   "cell_type": "code",
   "execution_count": 9,
   "metadata": {
    "ExecuteTime": {
     "end_time": "2020-03-10T16:54:17.948456Z",
     "start_time": "2020-03-10T16:54:17.925513Z"
    }
   },
   "outputs": [
    {
     "data": {
      "text/html": [
       "<div>\n",
       "<style scoped>\n",
       "    .dataframe tbody tr th:only-of-type {\n",
       "        vertical-align: middle;\n",
       "    }\n",
       "\n",
       "    .dataframe tbody tr th {\n",
       "        vertical-align: top;\n",
       "    }\n",
       "\n",
       "    .dataframe thead th {\n",
       "        text-align: right;\n",
       "    }\n",
       "</style>\n",
       "<table border=\"1\" class=\"dataframe\">\n",
       "  <thead>\n",
       "    <tr style=\"text-align: right;\">\n",
       "      <th></th>\n",
       "      <th>duration</th>\n",
       "      <th>protocol_type</th>\n",
       "      <th>service</th>\n",
       "      <th>flag</th>\n",
       "      <th>src_bytes</th>\n",
       "      <th>dst_bytes</th>\n",
       "      <th>land</th>\n",
       "      <th>wrong_fragment</th>\n",
       "      <th>urgent</th>\n",
       "      <th>label</th>\n",
       "    </tr>\n",
       "  </thead>\n",
       "  <tbody>\n",
       "    <tr>\n",
       "      <th>0</th>\n",
       "      <td>0</td>\n",
       "      <td>tcp</td>\n",
       "      <td>http</td>\n",
       "      <td>SF</td>\n",
       "      <td>215</td>\n",
       "      <td>45076</td>\n",
       "      <td>0</td>\n",
       "      <td>0</td>\n",
       "      <td>0</td>\n",
       "      <td>normal.</td>\n",
       "    </tr>\n",
       "    <tr>\n",
       "      <th>1</th>\n",
       "      <td>0</td>\n",
       "      <td>tcp</td>\n",
       "      <td>http</td>\n",
       "      <td>SF</td>\n",
       "      <td>162</td>\n",
       "      <td>4528</td>\n",
       "      <td>0</td>\n",
       "      <td>0</td>\n",
       "      <td>0</td>\n",
       "      <td>normal.</td>\n",
       "    </tr>\n",
       "    <tr>\n",
       "      <th>2</th>\n",
       "      <td>0</td>\n",
       "      <td>tcp</td>\n",
       "      <td>http</td>\n",
       "      <td>SF</td>\n",
       "      <td>236</td>\n",
       "      <td>1228</td>\n",
       "      <td>0</td>\n",
       "      <td>0</td>\n",
       "      <td>0</td>\n",
       "      <td>normal.</td>\n",
       "    </tr>\n",
       "    <tr>\n",
       "      <th>3</th>\n",
       "      <td>0</td>\n",
       "      <td>tcp</td>\n",
       "      <td>http</td>\n",
       "      <td>SF</td>\n",
       "      <td>233</td>\n",
       "      <td>2032</td>\n",
       "      <td>0</td>\n",
       "      <td>0</td>\n",
       "      <td>0</td>\n",
       "      <td>normal.</td>\n",
       "    </tr>\n",
       "    <tr>\n",
       "      <th>4</th>\n",
       "      <td>0</td>\n",
       "      <td>tcp</td>\n",
       "      <td>http</td>\n",
       "      <td>SF</td>\n",
       "      <td>239</td>\n",
       "      <td>486</td>\n",
       "      <td>0</td>\n",
       "      <td>0</td>\n",
       "      <td>0</td>\n",
       "      <td>normal.</td>\n",
       "    </tr>\n",
       "  </tbody>\n",
       "</table>\n",
       "</div>"
      ],
      "text/plain": [
       "   duration protocol_type service flag  src_bytes  dst_bytes  land  \\\n",
       "0         0           tcp    http   SF        215      45076     0   \n",
       "1         0           tcp    http   SF        162       4528     0   \n",
       "2         0           tcp    http   SF        236       1228     0   \n",
       "3         0           tcp    http   SF        233       2032     0   \n",
       "4         0           tcp    http   SF        239        486     0   \n",
       "\n",
       "   wrong_fragment  urgent    label  \n",
       "0               0       0  normal.  \n",
       "1               0       0  normal.  \n",
       "2               0       0  normal.  \n",
       "3               0       0  normal.  \n",
       "4               0       0  normal.  "
      ]
     },
     "execution_count": 9,
     "metadata": {},
     "output_type": "execute_result"
    }
   ],
   "source": [
    "train.head()"
   ]
  },
  {
   "cell_type": "code",
   "execution_count": 10,
   "metadata": {
    "ExecuteTime": {
     "end_time": "2020-03-10T16:54:17.964431Z",
     "start_time": "2020-03-10T16:54:17.951468Z"
    }
   },
   "outputs": [
    {
     "data": {
      "text/html": [
       "<div>\n",
       "<style scoped>\n",
       "    .dataframe tbody tr th:only-of-type {\n",
       "        vertical-align: middle;\n",
       "    }\n",
       "\n",
       "    .dataframe tbody tr th {\n",
       "        vertical-align: top;\n",
       "    }\n",
       "\n",
       "    .dataframe thead th {\n",
       "        text-align: right;\n",
       "    }\n",
       "</style>\n",
       "<table border=\"1\" class=\"dataframe\">\n",
       "  <thead>\n",
       "    <tr style=\"text-align: right;\">\n",
       "      <th></th>\n",
       "      <th>duration</th>\n",
       "      <th>protocol_type</th>\n",
       "      <th>service</th>\n",
       "      <th>flag</th>\n",
       "      <th>src_bytes</th>\n",
       "      <th>dst_bytes</th>\n",
       "      <th>land</th>\n",
       "      <th>wrong_fragment</th>\n",
       "      <th>urgent</th>\n",
       "      <th>label</th>\n",
       "    </tr>\n",
       "  </thead>\n",
       "  <tbody>\n",
       "    <tr>\n",
       "      <th>0</th>\n",
       "      <td>0</td>\n",
       "      <td>udp</td>\n",
       "      <td>private</td>\n",
       "      <td>SF</td>\n",
       "      <td>105</td>\n",
       "      <td>146</td>\n",
       "      <td>0</td>\n",
       "      <td>0</td>\n",
       "      <td>0</td>\n",
       "      <td>normal.</td>\n",
       "    </tr>\n",
       "    <tr>\n",
       "      <th>1</th>\n",
       "      <td>0</td>\n",
       "      <td>udp</td>\n",
       "      <td>private</td>\n",
       "      <td>SF</td>\n",
       "      <td>105</td>\n",
       "      <td>146</td>\n",
       "      <td>0</td>\n",
       "      <td>0</td>\n",
       "      <td>0</td>\n",
       "      <td>normal.</td>\n",
       "    </tr>\n",
       "    <tr>\n",
       "      <th>2</th>\n",
       "      <td>0</td>\n",
       "      <td>udp</td>\n",
       "      <td>private</td>\n",
       "      <td>SF</td>\n",
       "      <td>105</td>\n",
       "      <td>146</td>\n",
       "      <td>0</td>\n",
       "      <td>0</td>\n",
       "      <td>0</td>\n",
       "      <td>normal.</td>\n",
       "    </tr>\n",
       "    <tr>\n",
       "      <th>3</th>\n",
       "      <td>0</td>\n",
       "      <td>udp</td>\n",
       "      <td>private</td>\n",
       "      <td>SF</td>\n",
       "      <td>105</td>\n",
       "      <td>146</td>\n",
       "      <td>0</td>\n",
       "      <td>0</td>\n",
       "      <td>0</td>\n",
       "      <td>snmpgetattack.</td>\n",
       "    </tr>\n",
       "    <tr>\n",
       "      <th>4</th>\n",
       "      <td>0</td>\n",
       "      <td>udp</td>\n",
       "      <td>private</td>\n",
       "      <td>SF</td>\n",
       "      <td>105</td>\n",
       "      <td>146</td>\n",
       "      <td>0</td>\n",
       "      <td>0</td>\n",
       "      <td>0</td>\n",
       "      <td>snmpgetattack.</td>\n",
       "    </tr>\n",
       "  </tbody>\n",
       "</table>\n",
       "</div>"
      ],
      "text/plain": [
       "   duration protocol_type  service flag  src_bytes  dst_bytes  land  \\\n",
       "0         0           udp  private   SF        105        146     0   \n",
       "1         0           udp  private   SF        105        146     0   \n",
       "2         0           udp  private   SF        105        146     0   \n",
       "3         0           udp  private   SF        105        146     0   \n",
       "4         0           udp  private   SF        105        146     0   \n",
       "\n",
       "   wrong_fragment  urgent           label  \n",
       "0               0       0         normal.  \n",
       "1               0       0         normal.  \n",
       "2               0       0         normal.  \n",
       "3               0       0  snmpgetattack.  \n",
       "4               0       0  snmpgetattack.  "
      ]
     },
     "execution_count": 10,
     "metadata": {},
     "output_type": "execute_result"
    }
   ],
   "source": [
    "test.head()"
   ]
  },
  {
   "cell_type": "markdown",
   "metadata": {},
   "source": [
    "# Preprocessing"
   ]
  },
  {
   "cell_type": "markdown",
   "metadata": {},
   "source": [
    "## Process the label column\n",
    "We want to remove the period. Then we want to generate three label columns:"
   ]
  },
  {
   "cell_type": "code",
   "execution_count": 11,
   "metadata": {
    "ExecuteTime": {
     "end_time": "2020-03-10T16:54:19.838704Z",
     "start_time": "2020-03-10T16:54:17.966404Z"
    }
   },
   "outputs": [],
   "source": [
    "train[\"label\"] = train[\"label\"].map(lambda x: x.split(\".\")[0])\n",
    "test[\"label\"] = test[\"label\"].map(lambda x: x.split(\".\")[0])"
   ]
  },
  {
   "cell_type": "markdown",
   "metadata": {},
   "source": [
    "### Binary label (normal/malicious)"
   ]
  },
  {
   "cell_type": "code",
   "execution_count": 12,
   "metadata": {
    "ExecuteTime": {
     "end_time": "2020-03-10T16:54:22.010752Z",
     "start_time": "2020-03-10T16:54:19.840699Z"
    }
   },
   "outputs": [],
   "source": [
    "train[\"label_binary\"] = train[\"label\"].map(lambda x: 0 if x==\"normal\" else 1)\n",
    "test[\"label_binary\"] = test[\"label\"].map(lambda x: 0 if x==\"normal\" else 1)"
   ]
  },
  {
   "cell_type": "code",
   "execution_count": 13,
   "metadata": {
    "ExecuteTime": {
     "end_time": "2020-03-10T16:54:22.028133Z",
     "start_time": "2020-03-10T16:54:22.012724Z"
    }
   },
   "outputs": [
    {
     "data": {
      "text/plain": [
       "1    250436\n",
       "0     60593\n",
       "Name: label_binary, dtype: int64"
      ]
     },
     "execution_count": 13,
     "metadata": {},
     "output_type": "execute_result"
    }
   ],
   "source": [
    "test[\"label_binary\"].value_counts()"
   ]
  },
  {
   "cell_type": "code",
   "execution_count": 14,
   "metadata": {
    "ExecuteTime": {
     "end_time": "2020-03-10T16:54:22.118890Z",
     "start_time": "2020-03-10T16:54:22.030128Z"
    }
   },
   "outputs": [
    {
     "data": {
      "text/plain": [
       "1    3925650\n",
       "0     972781\n",
       "Name: label_binary, dtype: int64"
      ]
     },
     "execution_count": 14,
     "metadata": {},
     "output_type": "execute_result"
    }
   ],
   "source": [
    "train[\"label_binary\"].value_counts()"
   ]
  },
  {
   "cell_type": "code",
   "execution_count": 15,
   "metadata": {
    "ExecuteTime": {
     "end_time": "2020-03-10T16:54:26.283388Z",
     "start_time": "2020-03-10T16:54:22.120885Z"
    }
   },
   "outputs": [],
   "source": [
    "# X = pd.get_dummies(train, columns=[\"protocol_type\", \"service\", \"flag\"], drop_first=True).drop(columns=[\"label\", \"label_binary\"])\n",
    "train_shuffled = train.sample(frac=1).reset_index(drop=True)"
   ]
  },
  {
   "cell_type": "markdown",
   "metadata": {},
   "source": [
    "# Subsampling\n"
   ]
  },
  {
   "cell_type": "code",
   "execution_count": 16,
   "metadata": {
    "ExecuteTime": {
     "end_time": "2020-03-10T16:54:26.364154Z",
     "start_time": "2020-03-10T16:54:26.285363Z"
    }
   },
   "outputs": [
    {
     "data": {
      "text/plain": [
       "1    3925650\n",
       "0     972781\n",
       "Name: label_binary, dtype: int64"
      ]
     },
     "execution_count": 16,
     "metadata": {},
     "output_type": "execute_result"
    }
   ],
   "source": [
    "train[\"label_binary\"].value_counts()"
   ]
  },
  {
   "cell_type": "code",
   "execution_count": 17,
   "metadata": {
    "ExecuteTime": {
     "end_time": "2020-03-10T16:54:26.372131Z",
     "start_time": "2020-03-10T16:54:26.366155Z"
    }
   },
   "outputs": [
    {
     "data": {
      "text/plain": [
       "1653.7277"
      ]
     },
     "execution_count": 17,
     "metadata": {},
     "output_type": "execute_result"
    }
   ],
   "source": [
    "972781*0.0017"
   ]
  },
  {
   "cell_type": "markdown",
   "metadata": {},
   "source": [
    "We'll sample 1500 instances from the positive class, shuffle it in with all of the negative class. "
   ]
  },
  {
   "cell_type": "code",
   "execution_count": 18,
   "metadata": {
    "ExecuteTime": {
     "end_time": "2020-03-10T16:54:26.382106Z",
     "start_time": "2020-03-10T16:54:26.374126Z"
    }
   },
   "outputs": [
    {
     "data": {
      "text/plain": [
       "(4898431, 11)"
      ]
     },
     "execution_count": 18,
     "metadata": {},
     "output_type": "execute_result"
    }
   ],
   "source": [
    "train.shape"
   ]
  },
  {
   "cell_type": "code",
   "execution_count": 19,
   "metadata": {
    "ExecuteTime": {
     "end_time": "2020-03-10T16:54:26.392098Z",
     "start_time": "2020-03-10T16:54:26.383103Z"
    }
   },
   "outputs": [
    {
     "data": {
      "text/plain": [
       "(311029, 11)"
      ]
     },
     "execution_count": 19,
     "metadata": {},
     "output_type": "execute_result"
    }
   ],
   "source": [
    "test.shape"
   ]
  },
  {
   "cell_type": "code",
   "execution_count": 20,
   "metadata": {
    "ExecuteTime": {
     "end_time": "2020-03-10T16:54:27.577564Z",
     "start_time": "2020-03-10T16:54:26.393078Z"
    }
   },
   "outputs": [],
   "source": [
    "subsampled_malware = train.loc[train[\"label_binary\"]==1].sample(1500)\n",
    "background = train.loc[train[\"label_binary\"]==0].iloc[250:]\n",
    "warmup = train.loc[train[\"label_binary\"]==0].iloc[:250]\n",
    "df = pd.concat([subsampled_malware, background])"
   ]
  },
  {
   "cell_type": "code",
   "execution_count": 21,
   "metadata": {
    "ExecuteTime": {
     "end_time": "2020-03-10T16:54:28.228691Z",
     "start_time": "2020-03-10T16:54:27.578526Z"
    }
   },
   "outputs": [],
   "source": [
    "df = df.sample(frac=1).reset_index(drop=True)"
   ]
  },
  {
   "cell_type": "code",
   "execution_count": null,
   "metadata": {},
   "outputs": [],
   "source": []
  },
  {
   "cell_type": "markdown",
   "metadata": {},
   "source": [
    "# Streaming Logistic Regression (imbalanced traffic)\n",
    "## Data stream\n",
    "Here we will build our data stream"
   ]
  },
  {
   "cell_type": "code",
   "execution_count": 70,
   "metadata": {
    "ExecuteTime": {
     "end_time": "2020-03-10T18:01:45.334104Z",
     "start_time": "2020-03-10T18:01:45.264267Z"
    }
   },
   "outputs": [],
   "source": [
    "datastream = stream.iter_pandas(df.drop(columns=[\"label_binary\", \"label\"]), df[\"label_binary\"])\n",
    "warmup_stream = stream.iter_pandas(warmup.drop(columns=[\"label_binary\", \"label\"]), warmup[\"label_binary\"])\n",
    "# teststream = stream.iter_pandas(holdout.drop(columns=[\"label_binary\", \"label\"]), holdout[\"label_binary\"]"
   ]
  },
  {
   "cell_type": "markdown",
   "metadata": {},
   "source": [
    "## Pipeline\n",
    "We will scale and one-hot-encode."
   ]
  },
  {
   "cell_type": "code",
   "execution_count": 71,
   "metadata": {
    "ExecuteTime": {
     "end_time": "2020-03-10T18:01:46.340627Z",
     "start_time": "2020-03-10T18:01:46.331633Z"
    }
   },
   "outputs": [
    {
     "data": {
      "text/plain": [
       "duration           int64\n",
       "protocol_type     object\n",
       "service           object\n",
       "flag              object\n",
       "src_bytes          int64\n",
       "dst_bytes          int64\n",
       "land               int64\n",
       "wrong_fragment     int64\n",
       "urgent             int64\n",
       "label             object\n",
       "label_binary       int64\n",
       "dtype: object"
      ]
     },
     "execution_count": 71,
     "metadata": {},
     "output_type": "execute_result"
    }
   ],
   "source": [
    "train.dtypes"
   ]
  },
  {
   "cell_type": "code",
   "execution_count": 72,
   "metadata": {
    "ExecuteTime": {
     "end_time": "2020-03-10T18:01:47.332025Z",
     "start_time": "2020-03-10T18:01:47.326042Z"
    }
   },
   "outputs": [],
   "source": [
    "cols_string = [col for col,col_type in zip(train.columns[:-2], train.dtypes[:-2]) if col_type == \"object\"]"
   ]
  },
  {
   "cell_type": "code",
   "execution_count": 73,
   "metadata": {
    "ExecuteTime": {
     "end_time": "2020-03-10T18:01:48.381754Z",
     "start_time": "2020-03-10T18:01:48.301966Z"
    }
   },
   "outputs": [
    {
     "data": {
      "image/svg+xml": [
       "<?xml version=\"1.0\" encoding=\"UTF-8\" standalone=\"no\"?>\r\n",
       "<!DOCTYPE svg PUBLIC \"-//W3C//DTD SVG 1.1//EN\"\r\n",
       " \"http://www.w3.org/Graphics/SVG/1.1/DTD/svg11.dtd\">\r\n",
       "<!-- Generated by graphviz version 2.38.0 (20140413.2041)\r\n",
       " -->\r\n",
       "<!-- Title: %3 Pages: 1 -->\r\n",
       "<svg width=\"839pt\" height=\"332pt\"\r\n",
       " viewBox=\"0.00 0.00 839.28 332.00\" xmlns=\"http://www.w3.org/2000/svg\" xmlns:xlink=\"http://www.w3.org/1999/xlink\">\r\n",
       "<g id=\"graph0\" class=\"graph\" transform=\"scale(1 1) rotate(0) translate(4 328)\">\r\n",
       "<title>%3</title>\r\n",
       "<polygon fill=\"white\" stroke=\"none\" points=\"-4,4 -4,-328 835.277,-328 835.277,4 -4,4\"/>\r\n",
       "<!-- x -->\r\n",
       "<g id=\"node1\" class=\"node\"><title>x</title>\r\n",
       "<ellipse fill=\"none\" stroke=\"black\" cx=\"399.039\" cy=\"-306\" rx=\"27\" ry=\"18\"/>\r\n",
       "<text text-anchor=\"middle\" x=\"399.039\" y=\"-302.3\" font-family=\"Times New Roman,serif\" font-size=\"14.00\">x</text>\r\n",
       "</g>\r\n",
       "<!-- OneHotEncoder(protocol_type) -->\r\n",
       "<g id=\"node2\" class=\"node\"><title>OneHotEncoder(protocol_type)</title>\r\n",
       "<ellipse fill=\"none\" stroke=\"black\" cx=\"128.039\" cy=\"-162\" rx=\"128.077\" ry=\"18\"/>\r\n",
       "<text text-anchor=\"middle\" x=\"128.039\" y=\"-158.3\" font-family=\"Times New Roman,serif\" font-size=\"14.00\">OneHotEncoder(protocol_type)</text>\r\n",
       "</g>\r\n",
       "<!-- x&#45;&gt;OneHotEncoder(protocol_type) -->\r\n",
       "<g id=\"edge1\" class=\"edge\"><title>x&#45;&gt;OneHotEncoder(protocol_type)</title>\r\n",
       "<path fill=\"none\" stroke=\"black\" d=\"M378.224,-294.093C333.4,-270.606 227.073,-214.893 168.493,-184.198\"/>\r\n",
       "<polygon fill=\"black\" stroke=\"black\" points=\"170,-181.036 159.518,-179.495 166.751,-187.236 170,-181.036\"/>\r\n",
       "</g>\r\n",
       "<!-- OneHotEncoder(service) -->\r\n",
       "<g id=\"node3\" class=\"node\"><title>OneHotEncoder(service)</title>\r\n",
       "<ellipse fill=\"none\" stroke=\"black\" cx=\"375.039\" cy=\"-162\" rx=\"101.282\" ry=\"18\"/>\r\n",
       "<text text-anchor=\"middle\" x=\"375.039\" y=\"-158.3\" font-family=\"Times New Roman,serif\" font-size=\"14.00\">OneHotEncoder(service)</text>\r\n",
       "</g>\r\n",
       "<!-- x&#45;&gt;OneHotEncoder(service) -->\r\n",
       "<g id=\"edge2\" class=\"edge\"><title>x&#45;&gt;OneHotEncoder(service)</title>\r\n",
       "<path fill=\"none\" stroke=\"black\" d=\"M384.559,-290.712C375.589,-280.797 364.885,-266.762 360.039,-252 353.348,-231.62 358.102,-207.586 363.974,-189.634\"/>\r\n",
       "<polygon fill=\"black\" stroke=\"black\" points=\"367.314,-190.69 367.384,-180.095 360.722,-188.334 367.314,-190.69\"/>\r\n",
       "</g>\r\n",
       "<!-- OneHotEncoder(flag) -->\r\n",
       "<g id=\"node4\" class=\"node\"><title>OneHotEncoder(flag)</title>\r\n",
       "<ellipse fill=\"none\" stroke=\"black\" cx=\"458.039\" cy=\"-234\" rx=\"89.0842\" ry=\"18\"/>\r\n",
       "<text text-anchor=\"middle\" x=\"458.039\" y=\"-230.3\" font-family=\"Times New Roman,serif\" font-size=\"14.00\">OneHotEncoder(flag)</text>\r\n",
       "</g>\r\n",
       "<!-- x&#45;&gt;OneHotEncoder(flag) -->\r\n",
       "<g id=\"edge3\" class=\"edge\"><title>x&#45;&gt;OneHotEncoder(flag)</title>\r\n",
       "<path fill=\"none\" stroke=\"black\" d=\"M411.841,-289.811C419.222,-281.054 428.682,-269.83 437.117,-259.822\"/>\r\n",
       "<polygon fill=\"black\" stroke=\"black\" points=\"439.835,-262.029 443.603,-252.127 434.482,-257.517 439.835,-262.029\"/>\r\n",
       "</g>\r\n",
       "<!-- ~[&#39;flag&#39;, &#39;protocol_type&#39;, &#39;service&#39;] -->\r\n",
       "<g id=\"node5\" class=\"node\"><title>~[&#39;flag&#39;, &#39;protocol_type&#39;, &#39;service&#39;]</title>\r\n",
       "<ellipse fill=\"none\" stroke=\"black\" cx=\"698.039\" cy=\"-234\" rx=\"133.477\" ry=\"18\"/>\r\n",
       "<text text-anchor=\"middle\" x=\"698.039\" y=\"-230.3\" font-family=\"Times New Roman,serif\" font-size=\"14.00\">~[&#39;flag&#39;, &#39;protocol_type&#39;, &#39;service&#39;]</text>\r\n",
       "</g>\r\n",
       "<!-- x&#45;&gt;~[&#39;flag&#39;, &#39;protocol_type&#39;, &#39;service&#39;] -->\r\n",
       "<g id=\"edge5\" class=\"edge\"><title>x&#45;&gt;~[&#39;flag&#39;, &#39;protocol_type&#39;, &#39;service&#39;]</title>\r\n",
       "<path fill=\"none\" stroke=\"black\" d=\"M424.017,-299.152C467.672,-288.932 559.412,-267.454 624.705,-252.168\"/>\r\n",
       "<polygon fill=\"black\" stroke=\"black\" points=\"625.602,-255.553 634.541,-249.866 624.007,-248.737 625.602,-255.553\"/>\r\n",
       "</g>\r\n",
       "<!-- LogisticRegression -->\r\n",
       "<g id=\"node7\" class=\"node\"><title>LogisticRegression</title>\r\n",
       "<ellipse fill=\"none\" stroke=\"black\" cx=\"439.039\" cy=\"-90\" rx=\"80.6858\" ry=\"18\"/>\r\n",
       "<text text-anchor=\"middle\" x=\"439.039\" y=\"-86.3\" font-family=\"Times New Roman,serif\" font-size=\"14.00\">LogisticRegression</text>\r\n",
       "</g>\r\n",
       "<!-- OneHotEncoder(protocol_type)&#45;&gt;LogisticRegression -->\r\n",
       "<g id=\"edge7\" class=\"edge\"><title>OneHotEncoder(protocol_type)&#45;&gt;LogisticRegression</title>\r\n",
       "<path fill=\"none\" stroke=\"black\" d=\"M192.856,-146.411C246.122,-134.422 321.209,-117.521 374.42,-105.544\"/>\r\n",
       "<polygon fill=\"black\" stroke=\"black\" points=\"375.437,-108.903 384.424,-103.293 373.9,-102.074 375.437,-108.903\"/>\r\n",
       "</g>\r\n",
       "<!-- OneHotEncoder(service)&#45;&gt;LogisticRegression -->\r\n",
       "<g id=\"edge8\" class=\"edge\"><title>OneHotEncoder(service)&#45;&gt;LogisticRegression</title>\r\n",
       "<path fill=\"none\" stroke=\"black\" d=\"M390.531,-144.055C398.392,-135.457 408.084,-124.857 416.732,-115.397\"/>\r\n",
       "<polygon fill=\"black\" stroke=\"black\" points=\"419.524,-117.531 423.689,-107.789 414.358,-112.808 419.524,-117.531\"/>\r\n",
       "</g>\r\n",
       "<!-- OneHotEncoder(flag)&#45;&gt;LogisticRegression -->\r\n",
       "<g id=\"edge9\" class=\"edge\"><title>OneHotEncoder(flag)&#45;&gt;LogisticRegression</title>\r\n",
       "<path fill=\"none\" stroke=\"black\" d=\"M469.785,-216.059C480.782,-197.996 494.246,-168.656 485.039,-144 480.992,-133.164 473.62,-123.076 465.947,-114.671\"/>\r\n",
       "<polygon fill=\"black\" stroke=\"black\" points=\"468.39,-112.164 458.901,-107.453 463.381,-117.054 468.39,-112.164\"/>\r\n",
       "</g>\r\n",
       "<!-- StandardScaler -->\r\n",
       "<g id=\"node6\" class=\"node\"><title>StandardScaler</title>\r\n",
       "<ellipse fill=\"none\" stroke=\"black\" cx=\"631.039\" cy=\"-162\" rx=\"65.7887\" ry=\"18\"/>\r\n",
       "<text text-anchor=\"middle\" x=\"631.039\" y=\"-158.3\" font-family=\"Times New Roman,serif\" font-size=\"14.00\">StandardScaler</text>\r\n",
       "</g>\r\n",
       "<!-- ~[&#39;flag&#39;, &#39;protocol_type&#39;, &#39;service&#39;]&#45;&gt;StandardScaler -->\r\n",
       "<g id=\"edge4\" class=\"edge\"><title>~[&#39;flag&#39;, &#39;protocol_type&#39;, &#39;service&#39;]&#45;&gt;StandardScaler</title>\r\n",
       "<path fill=\"none\" stroke=\"black\" d=\"M681.82,-216.055C673.508,-207.371 663.241,-196.644 654.119,-187.114\"/>\r\n",
       "<polygon fill=\"black\" stroke=\"black\" points=\"656.551,-184.593 647.108,-179.789 651.494,-189.433 656.551,-184.593\"/>\r\n",
       "</g>\r\n",
       "<!-- StandardScaler&#45;&gt;LogisticRegression -->\r\n",
       "<g id=\"edge10\" class=\"edge\"><title>StandardScaler&#45;&gt;LogisticRegression</title>\r\n",
       "<path fill=\"none\" stroke=\"black\" d=\"M593.106,-147.17C563.294,-136.302 521.517,-121.07 488.985,-109.21\"/>\r\n",
       "<polygon fill=\"black\" stroke=\"black\" points=\"489.804,-105.783 479.21,-105.646 487.406,-112.359 489.804,-105.783\"/>\r\n",
       "</g>\r\n",
       "<!-- y -->\r\n",
       "<g id=\"node8\" class=\"node\"><title>y</title>\r\n",
       "<ellipse fill=\"none\" stroke=\"black\" cx=\"439.039\" cy=\"-18\" rx=\"27\" ry=\"18\"/>\r\n",
       "<text text-anchor=\"middle\" x=\"439.039\" y=\"-14.3\" font-family=\"Times New Roman,serif\" font-size=\"14.00\">y</text>\r\n",
       "</g>\r\n",
       "<!-- LogisticRegression&#45;&gt;y -->\r\n",
       "<g id=\"edge6\" class=\"edge\"><title>LogisticRegression&#45;&gt;y</title>\r\n",
       "<path fill=\"none\" stroke=\"black\" d=\"M439.039,-71.6966C439.039,-63.9827 439.039,-54.7125 439.039,-46.1124\"/>\r\n",
       "<polygon fill=\"black\" stroke=\"black\" points=\"442.539,-46.1043 439.039,-36.1043 435.539,-46.1044 442.539,-46.1043\"/>\r\n",
       "</g>\r\n",
       "</g>\r\n",
       "</svg>\r\n"
      ],
      "text/plain": [
       "<graphviz.dot.Digraph at 0x2241ba3de88>"
      ]
     },
     "execution_count": 73,
     "metadata": {},
     "output_type": "execute_result"
    }
   ],
   "source": [
    "string_processor = (compose.TransformerUnion([preprocessing.OneHotEncoder(col) for col in cols_string]))\n",
    "num_processor = compose.Blacklister(*cols_string)|preprocessing.StandardScaler()\n",
    "model =  num_processor + string_processor\n",
    "model |= linear_model.LogisticRegression()\n",
    "model.draw()"
   ]
  },
  {
   "cell_type": "code",
   "execution_count": 74,
   "metadata": {
    "ExecuteTime": {
     "end_time": "2020-03-10T18:01:50.788840Z",
     "start_time": "2020-03-10T18:01:50.782854Z"
    }
   },
   "outputs": [
    {
     "data": {
      "text/plain": [
       "(974031, 11)"
      ]
     },
     "execution_count": 74,
     "metadata": {},
     "output_type": "execute_result"
    }
   ],
   "source": [
    "df.shape"
   ]
  },
  {
   "cell_type": "code",
   "execution_count": 67,
   "metadata": {
    "ExecuteTime": {
     "end_time": "2020-03-10T17:56:29.855396Z",
     "start_time": "2020-03-10T17:56:29.849411Z"
    }
   },
   "outputs": [],
   "source": [
    "# rocauc=metrics.ROCAUC()\n",
    "cm = metrics.ConfusionMatrix()\n",
    "recall = metrics.Recall()\n",
    "f1 = metrics.F1()\n",
    "precision = metrics.Precision()"
   ]
  },
  {
   "cell_type": "code",
   "execution_count": 69,
   "metadata": {
    "ExecuteTime": {
     "end_time": "2020-03-10T18:01:36.430498Z",
     "start_time": "2020-03-10T17:56:35.640869Z"
    },
    "scrolled": true
   },
   "outputs": [
    {
     "name": "stdout",
     "output_type": "stream",
     "text": [
      "Current iteration: 0\n",
      "Current iteration: 10000\n",
      "Current iteration: 20000\n",
      "Current iteration: 30000\n",
      "Current iteration: 40000\n",
      "Current iteration: 50000\n",
      "Current iteration: 60000\n",
      "Current iteration: 70000\n",
      "Current iteration: 80000\n",
      "Current iteration: 90000\n",
      "Current iteration: 100000\n",
      "Current iteration: 110000\n",
      "Current iteration: 120000\n",
      "Current iteration: 130000\n",
      "Current iteration: 140000\n",
      "Current iteration: 150000\n",
      "Current iteration: 160000\n",
      "Current iteration: 170000\n",
      "Current iteration: 180000\n",
      "Current iteration: 190000\n",
      "Current iteration: 200000\n",
      "Current iteration: 210000\n",
      "Current iteration: 220000\n",
      "Current iteration: 230000\n",
      "Current iteration: 240000\n",
      "Current iteration: 250000\n",
      "Current iteration: 260000\n",
      "Current iteration: 270000\n",
      "Current iteration: 280000\n",
      "Current iteration: 290000\n",
      "Current iteration: 300000\n",
      "Current iteration: 310000\n",
      "Current iteration: 320000\n",
      "Current iteration: 330000\n",
      "Current iteration: 340000\n",
      "Current iteration: 350000\n",
      "Current iteration: 360000\n",
      "Current iteration: 370000\n",
      "Current iteration: 380000\n",
      "Current iteration: 390000\n",
      "Current iteration: 400000\n",
      "Current iteration: 410000\n",
      "Current iteration: 420000\n",
      "Current iteration: 430000\n",
      "Current iteration: 440000\n",
      "Current iteration: 450000\n",
      "Current iteration: 460000\n",
      "Current iteration: 470000\n",
      "Current iteration: 480000\n",
      "Current iteration: 490000\n",
      "Current iteration: 500000\n",
      "Current iteration: 510000\n",
      "Current iteration: 520000\n",
      "Current iteration: 530000\n",
      "Current iteration: 540000\n",
      "Current iteration: 550000\n",
      "Current iteration: 560000\n",
      "Current iteration: 570000\n",
      "Current iteration: 580000\n",
      "Current iteration: 590000\n",
      "Current iteration: 600000\n",
      "Current iteration: 610000\n",
      "Current iteration: 620000\n",
      "Current iteration: 630000\n",
      "Current iteration: 640000\n",
      "Current iteration: 650000\n",
      "Current iteration: 660000\n",
      "Current iteration: 670000\n",
      "Current iteration: 680000\n",
      "Current iteration: 690000\n",
      "Current iteration: 700000\n",
      "Current iteration: 710000\n",
      "Current iteration: 720000\n",
      "Current iteration: 730000\n",
      "Current iteration: 740000\n",
      "Current iteration: 750000\n",
      "Current iteration: 760000\n",
      "Current iteration: 770000\n",
      "Current iteration: 780000\n",
      "Current iteration: 790000\n",
      "Current iteration: 800000\n",
      "Current iteration: 810000\n",
      "Current iteration: 820000\n",
      "Current iteration: 830000\n",
      "Current iteration: 840000\n",
      "Current iteration: 850000\n",
      "Current iteration: 860000\n",
      "Current iteration: 870000\n",
      "Current iteration: 880000\n",
      "Current iteration: 890000\n",
      "Current iteration: 900000\n",
      "Current iteration: 910000\n",
      "Current iteration: 920000\n",
      "Current iteration: 930000\n",
      "Current iteration: 940000\n",
      "Current iteration: 950000\n",
      "Current iteration: 960000\n",
      "Current iteration: 970000\n",
      "Recall: 0.\n",
      "F1: 0.\n",
      "Precision: 0.\n"
     ]
    }
   ],
   "source": [
    "# Run\n",
    "counter=0\n",
    "for x,y in datastream:\n",
    "    if counter%10000 == 0:\n",
    "        print(f\"Current iteration: {counter}\")\n",
    "\n",
    "    y_pred = model.predict_one(x)\n",
    "    if y_pred == y == 1:\n",
    "        print(\"gottem\")\n",
    "    \n",
    "#     rocauc.update(y, y_pred)\n",
    "    cm.update(y, y_pred)\n",
    "    recall.update(y, y_pred)\n",
    "    f1.update(y, y_pred)\n",
    "    precision.update(y, y_pred)\n",
    "    \n",
    "    model.fit_one(x, y)\n",
    "    counter+=1\n",
    "# print(rocauc)\n",
    "# print(cm)\n",
    "print(recall)\n",
    "print(f1)\n",
    "print(precision)"
   ]
  },
  {
   "cell_type": "code",
   "execution_count": 75,
   "metadata": {
    "ExecuteTime": {
     "end_time": "2020-03-10T18:02:25.007135Z",
     "start_time": "2020-03-10T18:02:25.002147Z"
    }
   },
   "outputs": [
    {
     "data": {
      "text/plain": [
       "                   0         1\n",
       "         0  972527.0         0\n",
       "         1    1500.0         0"
      ]
     },
     "execution_count": 75,
     "metadata": {},
     "output_type": "execute_result"
    }
   ],
   "source": [
    "cm"
   ]
  },
  {
   "cell_type": "markdown",
   "metadata": {},
   "source": [
    "This is a disaster! Not a single malicious instance is correctly classified. In hindsight it is not that surprising that this model failed to learn what constituted malware. The target class was extremely rare, so the logistic regression was perfectly happy just mispredicting 0.17% of the dataset.\n",
    "\n",
    "In the next notebook, we will look at using "
   ]
  }
 ],
 "metadata": {
  "kernelspec": {
   "display_name": "Python 3",
   "language": "python",
   "name": "python3"
  },
  "language_info": {
   "codemirror_mode": {
    "name": "ipython",
    "version": 3
   },
   "file_extension": ".py",
   "mimetype": "text/x-python",
   "name": "python",
   "nbconvert_exporter": "python",
   "pygments_lexer": "ipython3",
   "version": "3.7.6"
  },
  "toc": {
   "base_numbering": 1,
   "nav_menu": {},
   "number_sections": true,
   "sideBar": true,
   "skip_h1_title": false,
   "title_cell": "Table of Contents",
   "title_sidebar": "Contents",
   "toc_cell": false,
   "toc_position": {},
   "toc_section_display": true,
   "toc_window_display": false
  },
  "varInspector": {
   "cols": {
    "lenName": 16,
    "lenType": 16,
    "lenVar": 40
   },
   "kernels_config": {
    "python": {
     "delete_cmd_postfix": "",
     "delete_cmd_prefix": "del ",
     "library": "var_list.py",
     "varRefreshCmd": "print(var_dic_list())"
    },
    "r": {
     "delete_cmd_postfix": ") ",
     "delete_cmd_prefix": "rm(",
     "library": "var_list.r",
     "varRefreshCmd": "cat(var_dic_list()) "
    }
   },
   "position": {
    "height": "378.517px",
    "left": "1852px",
    "right": "20px",
    "top": "138px",
    "width": "655.333px"
   },
   "types_to_exclude": [
    "module",
    "function",
    "builtin_function_or_method",
    "instance",
    "_Feature"
   ],
   "window_display": true
  }
 },
 "nbformat": 4,
 "nbformat_minor": 2
}
