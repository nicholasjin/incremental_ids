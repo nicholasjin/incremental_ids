{
 "cells": [
  {
   "cell_type": "markdown",
   "metadata": {},
   "source": [
    "# [Data Dictionary](http://kdd.ics.uci.edu/databases/kddcup99/task.html)\n",
    "# "
   ]
  },
  {
   "cell_type": "code",
   "execution_count": 19,
   "metadata": {
    "ExecuteTime": {
     "end_time": "2020-03-12T12:37:33.538489Z",
     "start_time": "2020-03-12T12:37:33.534486Z"
    }
   },
   "outputs": [],
   "source": [
    "import string\n",
    "\n",
    "import numpy as np\n",
    "import pandas as pd\n",
    "import matplotlib.pyplot as plt\n",
    "\n",
    "from sklearn.linear_model import LogisticRegression, LogisticRegressionCV\n",
    "from sklearn.model_selection import cross_val_score, train_test_split, GridSearchCV\n",
    "from sklearn.metrics import confusion_matrix, roc_auc_score"
   ]
  },
  {
   "cell_type": "code",
   "execution_count": 2,
   "metadata": {
    "ExecuteTime": {
     "end_time": "2020-03-12T12:36:51.722420Z",
     "start_time": "2020-03-12T12:36:51.707460Z"
    }
   },
   "outputs": [],
   "source": [
    "train_attack_types = pd.read_csv(\"datasets/training_attack_types.txt\", delimiter=\" \", header=None, names= [\"attack_type\", \"attack_category\"])"
   ]
  },
  {
   "cell_type": "code",
   "execution_count": 3,
   "metadata": {
    "ExecuteTime": {
     "end_time": "2020-03-12T12:36:51.747355Z",
     "start_time": "2020-03-12T12:36:51.738377Z"
    }
   },
   "outputs": [
    {
     "data": {
      "text/plain": [
       "'dos'"
      ]
     },
     "execution_count": 3,
     "metadata": {},
     "output_type": "execute_result"
    }
   ],
   "source": [
    "target = \"back\"\n",
    "train_attack_types.loc[train_attack_types[\"attack_type\"]==target, \"attack_category\"].values[0]"
   ]
  },
  {
   "cell_type": "code",
   "execution_count": 4,
   "metadata": {
    "ExecuteTime": {
     "end_time": "2020-03-12T12:36:51.775279Z",
     "start_time": "2020-03-12T12:36:51.758324Z"
    }
   },
   "outputs": [
    {
     "data": {
      "text/plain": [
       "['duration',\n",
       " 'protocol_type',\n",
       " 'service',\n",
       " 'flag',\n",
       " 'src_bytes',\n",
       " 'dst_bytes',\n",
       " 'land',\n",
       " 'wrong_fragment',\n",
       " 'urgent',\n",
       " 'hot',\n",
       " 'num_failed_logins',\n",
       " 'logged_in',\n",
       " 'num_compromised',\n",
       " 'root_shell',\n",
       " 'su_attempted',\n",
       " 'num_root',\n",
       " 'num_file_creations',\n",
       " 'num_shells',\n",
       " 'num_access_files',\n",
       " 'num_outbound_cmds',\n",
       " 'is_host_login',\n",
       " 'is_guest_login',\n",
       " 'count',\n",
       " 'srv_count',\n",
       " 'serror_rate',\n",
       " 'srv_serror_rate',\n",
       " 'rerror_rate',\n",
       " 'srv_rerror_rate',\n",
       " 'same_srv_rate',\n",
       " 'diff_srv_rate',\n",
       " 'srv_diff_host_rate',\n",
       " 'dst_host_count',\n",
       " 'dst_host_srv_count',\n",
       " 'dst_host_same_srv_rate',\n",
       " 'dst_host_diff_srv_rate',\n",
       " 'dst_host_same_src_port_rate',\n",
       " 'dst_host_srv_diff_host_rate',\n",
       " 'dst_host_serror_rate',\n",
       " 'dst_host_srv_serror_rate',\n",
       " 'dst_host_rerror_rate',\n",
       " 'dst_host_srv_rerror_rate',\n",
       " 'label']"
      ]
     },
     "execution_count": 4,
     "metadata": {},
     "output_type": "execute_result"
    }
   ],
   "source": [
    "cols = list(pd.read_csv(\"datasets/kddcup.names.txt\", skiprows=1, header=None)[0].map(lambda x: str(x).split(\":\")[0]).values)\n",
    "cols.append(\"label\")\n",
    "cols"
   ]
  },
  {
   "cell_type": "code",
   "execution_count": 5,
   "metadata": {
    "ExecuteTime": {
     "end_time": "2020-03-12T12:37:04.725315Z",
     "start_time": "2020-03-12T12:36:52.191827Z"
    }
   },
   "outputs": [],
   "source": [
    "train = pd.read_csv(\"datasets/kddcup.data.corrected.txt\", header=None, names=cols)"
   ]
  },
  {
   "cell_type": "code",
   "execution_count": 6,
   "metadata": {
    "ExecuteTime": {
     "end_time": "2020-03-12T12:37:06.785772Z",
     "start_time": "2020-03-12T12:37:05.949010Z"
    }
   },
   "outputs": [],
   "source": [
    "test = pd.read_csv(\"datasets/corrected.txt\", header=None, names=cols)"
   ]
  },
  {
   "cell_type": "code",
   "execution_count": 7,
   "metadata": {
    "ExecuteTime": {
     "end_time": "2020-03-12T12:37:08.117422Z",
     "start_time": "2020-03-12T12:37:08.088288Z"
    }
   },
   "outputs": [
    {
     "data": {
      "text/html": [
       "<div>\n",
       "<style scoped>\n",
       "    .dataframe tbody tr th:only-of-type {\n",
       "        vertical-align: middle;\n",
       "    }\n",
       "\n",
       "    .dataframe tbody tr th {\n",
       "        vertical-align: top;\n",
       "    }\n",
       "\n",
       "    .dataframe thead th {\n",
       "        text-align: right;\n",
       "    }\n",
       "</style>\n",
       "<table border=\"1\" class=\"dataframe\">\n",
       "  <thead>\n",
       "    <tr style=\"text-align: right;\">\n",
       "      <th></th>\n",
       "      <th>duration</th>\n",
       "      <th>protocol_type</th>\n",
       "      <th>service</th>\n",
       "      <th>flag</th>\n",
       "      <th>src_bytes</th>\n",
       "      <th>dst_bytes</th>\n",
       "      <th>land</th>\n",
       "      <th>wrong_fragment</th>\n",
       "      <th>urgent</th>\n",
       "      <th>hot</th>\n",
       "      <th>...</th>\n",
       "      <th>dst_host_srv_count</th>\n",
       "      <th>dst_host_same_srv_rate</th>\n",
       "      <th>dst_host_diff_srv_rate</th>\n",
       "      <th>dst_host_same_src_port_rate</th>\n",
       "      <th>dst_host_srv_diff_host_rate</th>\n",
       "      <th>dst_host_serror_rate</th>\n",
       "      <th>dst_host_srv_serror_rate</th>\n",
       "      <th>dst_host_rerror_rate</th>\n",
       "      <th>dst_host_srv_rerror_rate</th>\n",
       "      <th>label</th>\n",
       "    </tr>\n",
       "  </thead>\n",
       "  <tbody>\n",
       "    <tr>\n",
       "      <th>0</th>\n",
       "      <td>0</td>\n",
       "      <td>tcp</td>\n",
       "      <td>http</td>\n",
       "      <td>SF</td>\n",
       "      <td>215</td>\n",
       "      <td>45076</td>\n",
       "      <td>0</td>\n",
       "      <td>0</td>\n",
       "      <td>0</td>\n",
       "      <td>0</td>\n",
       "      <td>...</td>\n",
       "      <td>0</td>\n",
       "      <td>0.0</td>\n",
       "      <td>0.0</td>\n",
       "      <td>0.00</td>\n",
       "      <td>0.0</td>\n",
       "      <td>0.0</td>\n",
       "      <td>0.0</td>\n",
       "      <td>0.0</td>\n",
       "      <td>0.0</td>\n",
       "      <td>normal.</td>\n",
       "    </tr>\n",
       "    <tr>\n",
       "      <th>1</th>\n",
       "      <td>0</td>\n",
       "      <td>tcp</td>\n",
       "      <td>http</td>\n",
       "      <td>SF</td>\n",
       "      <td>162</td>\n",
       "      <td>4528</td>\n",
       "      <td>0</td>\n",
       "      <td>0</td>\n",
       "      <td>0</td>\n",
       "      <td>0</td>\n",
       "      <td>...</td>\n",
       "      <td>1</td>\n",
       "      <td>1.0</td>\n",
       "      <td>0.0</td>\n",
       "      <td>1.00</td>\n",
       "      <td>0.0</td>\n",
       "      <td>0.0</td>\n",
       "      <td>0.0</td>\n",
       "      <td>0.0</td>\n",
       "      <td>0.0</td>\n",
       "      <td>normal.</td>\n",
       "    </tr>\n",
       "    <tr>\n",
       "      <th>2</th>\n",
       "      <td>0</td>\n",
       "      <td>tcp</td>\n",
       "      <td>http</td>\n",
       "      <td>SF</td>\n",
       "      <td>236</td>\n",
       "      <td>1228</td>\n",
       "      <td>0</td>\n",
       "      <td>0</td>\n",
       "      <td>0</td>\n",
       "      <td>0</td>\n",
       "      <td>...</td>\n",
       "      <td>2</td>\n",
       "      <td>1.0</td>\n",
       "      <td>0.0</td>\n",
       "      <td>0.50</td>\n",
       "      <td>0.0</td>\n",
       "      <td>0.0</td>\n",
       "      <td>0.0</td>\n",
       "      <td>0.0</td>\n",
       "      <td>0.0</td>\n",
       "      <td>normal.</td>\n",
       "    </tr>\n",
       "    <tr>\n",
       "      <th>3</th>\n",
       "      <td>0</td>\n",
       "      <td>tcp</td>\n",
       "      <td>http</td>\n",
       "      <td>SF</td>\n",
       "      <td>233</td>\n",
       "      <td>2032</td>\n",
       "      <td>0</td>\n",
       "      <td>0</td>\n",
       "      <td>0</td>\n",
       "      <td>0</td>\n",
       "      <td>...</td>\n",
       "      <td>3</td>\n",
       "      <td>1.0</td>\n",
       "      <td>0.0</td>\n",
       "      <td>0.33</td>\n",
       "      <td>0.0</td>\n",
       "      <td>0.0</td>\n",
       "      <td>0.0</td>\n",
       "      <td>0.0</td>\n",
       "      <td>0.0</td>\n",
       "      <td>normal.</td>\n",
       "    </tr>\n",
       "    <tr>\n",
       "      <th>4</th>\n",
       "      <td>0</td>\n",
       "      <td>tcp</td>\n",
       "      <td>http</td>\n",
       "      <td>SF</td>\n",
       "      <td>239</td>\n",
       "      <td>486</td>\n",
       "      <td>0</td>\n",
       "      <td>0</td>\n",
       "      <td>0</td>\n",
       "      <td>0</td>\n",
       "      <td>...</td>\n",
       "      <td>4</td>\n",
       "      <td>1.0</td>\n",
       "      <td>0.0</td>\n",
       "      <td>0.25</td>\n",
       "      <td>0.0</td>\n",
       "      <td>0.0</td>\n",
       "      <td>0.0</td>\n",
       "      <td>0.0</td>\n",
       "      <td>0.0</td>\n",
       "      <td>normal.</td>\n",
       "    </tr>\n",
       "  </tbody>\n",
       "</table>\n",
       "<p>5 rows × 42 columns</p>\n",
       "</div>"
      ],
      "text/plain": [
       "   duration protocol_type service flag  src_bytes  dst_bytes  land  \\\n",
       "0         0           tcp    http   SF        215      45076     0   \n",
       "1         0           tcp    http   SF        162       4528     0   \n",
       "2         0           tcp    http   SF        236       1228     0   \n",
       "3         0           tcp    http   SF        233       2032     0   \n",
       "4         0           tcp    http   SF        239        486     0   \n",
       "\n",
       "   wrong_fragment  urgent  hot  ...  dst_host_srv_count  \\\n",
       "0               0       0    0  ...                   0   \n",
       "1               0       0    0  ...                   1   \n",
       "2               0       0    0  ...                   2   \n",
       "3               0       0    0  ...                   3   \n",
       "4               0       0    0  ...                   4   \n",
       "\n",
       "   dst_host_same_srv_rate  dst_host_diff_srv_rate  \\\n",
       "0                     0.0                     0.0   \n",
       "1                     1.0                     0.0   \n",
       "2                     1.0                     0.0   \n",
       "3                     1.0                     0.0   \n",
       "4                     1.0                     0.0   \n",
       "\n",
       "   dst_host_same_src_port_rate  dst_host_srv_diff_host_rate  \\\n",
       "0                         0.00                          0.0   \n",
       "1                         1.00                          0.0   \n",
       "2                         0.50                          0.0   \n",
       "3                         0.33                          0.0   \n",
       "4                         0.25                          0.0   \n",
       "\n",
       "   dst_host_serror_rate  dst_host_srv_serror_rate  dst_host_rerror_rate  \\\n",
       "0                   0.0                       0.0                   0.0   \n",
       "1                   0.0                       0.0                   0.0   \n",
       "2                   0.0                       0.0                   0.0   \n",
       "3                   0.0                       0.0                   0.0   \n",
       "4                   0.0                       0.0                   0.0   \n",
       "\n",
       "   dst_host_srv_rerror_rate    label  \n",
       "0                       0.0  normal.  \n",
       "1                       0.0  normal.  \n",
       "2                       0.0  normal.  \n",
       "3                       0.0  normal.  \n",
       "4                       0.0  normal.  \n",
       "\n",
       "[5 rows x 42 columns]"
      ]
     },
     "execution_count": 7,
     "metadata": {},
     "output_type": "execute_result"
    }
   ],
   "source": [
    "train.head()"
   ]
  },
  {
   "cell_type": "code",
   "execution_count": 8,
   "metadata": {
    "ExecuteTime": {
     "end_time": "2020-03-12T12:37:09.448862Z",
     "start_time": "2020-03-12T12:37:09.423929Z"
    }
   },
   "outputs": [
    {
     "data": {
      "text/html": [
       "<div>\n",
       "<style scoped>\n",
       "    .dataframe tbody tr th:only-of-type {\n",
       "        vertical-align: middle;\n",
       "    }\n",
       "\n",
       "    .dataframe tbody tr th {\n",
       "        vertical-align: top;\n",
       "    }\n",
       "\n",
       "    .dataframe thead th {\n",
       "        text-align: right;\n",
       "    }\n",
       "</style>\n",
       "<table border=\"1\" class=\"dataframe\">\n",
       "  <thead>\n",
       "    <tr style=\"text-align: right;\">\n",
       "      <th></th>\n",
       "      <th>duration</th>\n",
       "      <th>protocol_type</th>\n",
       "      <th>service</th>\n",
       "      <th>flag</th>\n",
       "      <th>src_bytes</th>\n",
       "      <th>dst_bytes</th>\n",
       "      <th>land</th>\n",
       "      <th>wrong_fragment</th>\n",
       "      <th>urgent</th>\n",
       "      <th>hot</th>\n",
       "      <th>...</th>\n",
       "      <th>dst_host_srv_count</th>\n",
       "      <th>dst_host_same_srv_rate</th>\n",
       "      <th>dst_host_diff_srv_rate</th>\n",
       "      <th>dst_host_same_src_port_rate</th>\n",
       "      <th>dst_host_srv_diff_host_rate</th>\n",
       "      <th>dst_host_serror_rate</th>\n",
       "      <th>dst_host_srv_serror_rate</th>\n",
       "      <th>dst_host_rerror_rate</th>\n",
       "      <th>dst_host_srv_rerror_rate</th>\n",
       "      <th>label</th>\n",
       "    </tr>\n",
       "  </thead>\n",
       "  <tbody>\n",
       "    <tr>\n",
       "      <th>0</th>\n",
       "      <td>0</td>\n",
       "      <td>udp</td>\n",
       "      <td>private</td>\n",
       "      <td>SF</td>\n",
       "      <td>105</td>\n",
       "      <td>146</td>\n",
       "      <td>0</td>\n",
       "      <td>0</td>\n",
       "      <td>0</td>\n",
       "      <td>0</td>\n",
       "      <td>...</td>\n",
       "      <td>254</td>\n",
       "      <td>1.0</td>\n",
       "      <td>0.01</td>\n",
       "      <td>0.00</td>\n",
       "      <td>0.0</td>\n",
       "      <td>0.0</td>\n",
       "      <td>0.0</td>\n",
       "      <td>0.0</td>\n",
       "      <td>0.0</td>\n",
       "      <td>normal.</td>\n",
       "    </tr>\n",
       "    <tr>\n",
       "      <th>1</th>\n",
       "      <td>0</td>\n",
       "      <td>udp</td>\n",
       "      <td>private</td>\n",
       "      <td>SF</td>\n",
       "      <td>105</td>\n",
       "      <td>146</td>\n",
       "      <td>0</td>\n",
       "      <td>0</td>\n",
       "      <td>0</td>\n",
       "      <td>0</td>\n",
       "      <td>...</td>\n",
       "      <td>254</td>\n",
       "      <td>1.0</td>\n",
       "      <td>0.01</td>\n",
       "      <td>0.00</td>\n",
       "      <td>0.0</td>\n",
       "      <td>0.0</td>\n",
       "      <td>0.0</td>\n",
       "      <td>0.0</td>\n",
       "      <td>0.0</td>\n",
       "      <td>normal.</td>\n",
       "    </tr>\n",
       "    <tr>\n",
       "      <th>2</th>\n",
       "      <td>0</td>\n",
       "      <td>udp</td>\n",
       "      <td>private</td>\n",
       "      <td>SF</td>\n",
       "      <td>105</td>\n",
       "      <td>146</td>\n",
       "      <td>0</td>\n",
       "      <td>0</td>\n",
       "      <td>0</td>\n",
       "      <td>0</td>\n",
       "      <td>...</td>\n",
       "      <td>254</td>\n",
       "      <td>1.0</td>\n",
       "      <td>0.01</td>\n",
       "      <td>0.00</td>\n",
       "      <td>0.0</td>\n",
       "      <td>0.0</td>\n",
       "      <td>0.0</td>\n",
       "      <td>0.0</td>\n",
       "      <td>0.0</td>\n",
       "      <td>normal.</td>\n",
       "    </tr>\n",
       "    <tr>\n",
       "      <th>3</th>\n",
       "      <td>0</td>\n",
       "      <td>udp</td>\n",
       "      <td>private</td>\n",
       "      <td>SF</td>\n",
       "      <td>105</td>\n",
       "      <td>146</td>\n",
       "      <td>0</td>\n",
       "      <td>0</td>\n",
       "      <td>0</td>\n",
       "      <td>0</td>\n",
       "      <td>...</td>\n",
       "      <td>254</td>\n",
       "      <td>1.0</td>\n",
       "      <td>0.01</td>\n",
       "      <td>0.00</td>\n",
       "      <td>0.0</td>\n",
       "      <td>0.0</td>\n",
       "      <td>0.0</td>\n",
       "      <td>0.0</td>\n",
       "      <td>0.0</td>\n",
       "      <td>snmpgetattack.</td>\n",
       "    </tr>\n",
       "    <tr>\n",
       "      <th>4</th>\n",
       "      <td>0</td>\n",
       "      <td>udp</td>\n",
       "      <td>private</td>\n",
       "      <td>SF</td>\n",
       "      <td>105</td>\n",
       "      <td>146</td>\n",
       "      <td>0</td>\n",
       "      <td>0</td>\n",
       "      <td>0</td>\n",
       "      <td>0</td>\n",
       "      <td>...</td>\n",
       "      <td>254</td>\n",
       "      <td>1.0</td>\n",
       "      <td>0.01</td>\n",
       "      <td>0.01</td>\n",
       "      <td>0.0</td>\n",
       "      <td>0.0</td>\n",
       "      <td>0.0</td>\n",
       "      <td>0.0</td>\n",
       "      <td>0.0</td>\n",
       "      <td>snmpgetattack.</td>\n",
       "    </tr>\n",
       "  </tbody>\n",
       "</table>\n",
       "<p>5 rows × 42 columns</p>\n",
       "</div>"
      ],
      "text/plain": [
       "   duration protocol_type  service flag  src_bytes  dst_bytes  land  \\\n",
       "0         0           udp  private   SF        105        146     0   \n",
       "1         0           udp  private   SF        105        146     0   \n",
       "2         0           udp  private   SF        105        146     0   \n",
       "3         0           udp  private   SF        105        146     0   \n",
       "4         0           udp  private   SF        105        146     0   \n",
       "\n",
       "   wrong_fragment  urgent  hot  ...  dst_host_srv_count  \\\n",
       "0               0       0    0  ...                 254   \n",
       "1               0       0    0  ...                 254   \n",
       "2               0       0    0  ...                 254   \n",
       "3               0       0    0  ...                 254   \n",
       "4               0       0    0  ...                 254   \n",
       "\n",
       "   dst_host_same_srv_rate  dst_host_diff_srv_rate  \\\n",
       "0                     1.0                    0.01   \n",
       "1                     1.0                    0.01   \n",
       "2                     1.0                    0.01   \n",
       "3                     1.0                    0.01   \n",
       "4                     1.0                    0.01   \n",
       "\n",
       "   dst_host_same_src_port_rate  dst_host_srv_diff_host_rate  \\\n",
       "0                         0.00                          0.0   \n",
       "1                         0.00                          0.0   \n",
       "2                         0.00                          0.0   \n",
       "3                         0.00                          0.0   \n",
       "4                         0.01                          0.0   \n",
       "\n",
       "   dst_host_serror_rate  dst_host_srv_serror_rate  dst_host_rerror_rate  \\\n",
       "0                   0.0                       0.0                   0.0   \n",
       "1                   0.0                       0.0                   0.0   \n",
       "2                   0.0                       0.0                   0.0   \n",
       "3                   0.0                       0.0                   0.0   \n",
       "4                   0.0                       0.0                   0.0   \n",
       "\n",
       "   dst_host_srv_rerror_rate           label  \n",
       "0                       0.0         normal.  \n",
       "1                       0.0         normal.  \n",
       "2                       0.0         normal.  \n",
       "3                       0.0  snmpgetattack.  \n",
       "4                       0.0  snmpgetattack.  \n",
       "\n",
       "[5 rows x 42 columns]"
      ]
     },
     "execution_count": 8,
     "metadata": {},
     "output_type": "execute_result"
    }
   ],
   "source": [
    "test.head()"
   ]
  },
  {
   "cell_type": "markdown",
   "metadata": {},
   "source": [
    "# EDA"
   ]
  },
  {
   "cell_type": "markdown",
   "metadata": {},
   "source": [
    "## Process the label column\n",
    "We want to remove the period. Then we want to generate three label columns:"
   ]
  },
  {
   "cell_type": "code",
   "execution_count": 9,
   "metadata": {
    "ExecuteTime": {
     "end_time": "2020-03-12T12:37:12.387002Z",
     "start_time": "2020-03-12T12:37:10.751377Z"
    }
   },
   "outputs": [],
   "source": [
    "train[\"label\"] = train[\"label\"].map(lambda x: x.split(\".\")[0])\n",
    "test[\"label\"] = test[\"label\"].map(lambda x: x.split(\".\")[0])"
   ]
  },
  {
   "cell_type": "markdown",
   "metadata": {},
   "source": [
    "### Binary label (normal/malicious)"
   ]
  },
  {
   "cell_type": "code",
   "execution_count": 10,
   "metadata": {
    "ExecuteTime": {
     "end_time": "2020-03-12T12:37:15.509734Z",
     "start_time": "2020-03-12T12:37:13.751353Z"
    }
   },
   "outputs": [],
   "source": [
    "train[\"label_binary\"] = train[\"label\"].map(lambda x: 0 if x==\"normal\" else 1)\n",
    "test[\"label_binary\"] = test[\"label\"].map(lambda x: 0 if x==\"normal\" else 1)"
   ]
  },
  {
   "cell_type": "code",
   "execution_count": 11,
   "metadata": {
    "ExecuteTime": {
     "end_time": "2020-03-12T12:37:16.936693Z",
     "start_time": "2020-03-12T12:37:16.902561Z"
    }
   },
   "outputs": [
    {
     "data": {
      "text/plain": [
       "1    250436\n",
       "0     60593\n",
       "Name: label_binary, dtype: int64"
      ]
     },
     "execution_count": 11,
     "metadata": {},
     "output_type": "execute_result"
    }
   ],
   "source": [
    "test[\"label_binary\"].value_counts()"
   ]
  },
  {
   "cell_type": "code",
   "execution_count": 12,
   "metadata": {
    "ExecuteTime": {
     "end_time": "2020-03-12T12:37:18.492549Z",
     "start_time": "2020-03-12T12:37:18.419748Z"
    }
   },
   "outputs": [
    {
     "data": {
      "text/plain": [
       "1    3925650\n",
       "0     972781\n",
       "Name: label_binary, dtype: int64"
      ]
     },
     "execution_count": 12,
     "metadata": {},
     "output_type": "execute_result"
    }
   ],
   "source": [
    "train[\"label_binary\"].value_counts()"
   ]
  },
  {
   "cell_type": "markdown",
   "metadata": {},
   "source": [
    "### Coarse multiclass label (normal, probe, u2r, r2l, dos)"
   ]
  },
  {
   "cell_type": "code",
   "execution_count": 13,
   "metadata": {
    "ExecuteTime": {
     "end_time": "2020-03-12T12:37:19.981546Z",
     "start_time": "2020-03-12T12:37:19.969584Z"
    },
    "scrolled": true
   },
   "outputs": [
    {
     "data": {
      "text/html": [
       "<div>\n",
       "<style scoped>\n",
       "    .dataframe tbody tr th:only-of-type {\n",
       "        vertical-align: middle;\n",
       "    }\n",
       "\n",
       "    .dataframe tbody tr th {\n",
       "        vertical-align: top;\n",
       "    }\n",
       "\n",
       "    .dataframe thead th {\n",
       "        text-align: right;\n",
       "    }\n",
       "</style>\n",
       "<table border=\"1\" class=\"dataframe\">\n",
       "  <thead>\n",
       "    <tr style=\"text-align: right;\">\n",
       "      <th></th>\n",
       "      <th>attack_type</th>\n",
       "      <th>attack_category</th>\n",
       "    </tr>\n",
       "  </thead>\n",
       "  <tbody>\n",
       "    <tr>\n",
       "      <th>0</th>\n",
       "      <td>back</td>\n",
       "      <td>dos</td>\n",
       "    </tr>\n",
       "    <tr>\n",
       "      <th>1</th>\n",
       "      <td>buffer_overflow</td>\n",
       "      <td>u2r</td>\n",
       "    </tr>\n",
       "    <tr>\n",
       "      <th>2</th>\n",
       "      <td>ftp_write</td>\n",
       "      <td>r2l</td>\n",
       "    </tr>\n",
       "    <tr>\n",
       "      <th>3</th>\n",
       "      <td>guess_passwd</td>\n",
       "      <td>r2l</td>\n",
       "    </tr>\n",
       "    <tr>\n",
       "      <th>4</th>\n",
       "      <td>imap</td>\n",
       "      <td>r2l</td>\n",
       "    </tr>\n",
       "    <tr>\n",
       "      <th>5</th>\n",
       "      <td>ipsweep</td>\n",
       "      <td>probe</td>\n",
       "    </tr>\n",
       "    <tr>\n",
       "      <th>6</th>\n",
       "      <td>land</td>\n",
       "      <td>dos</td>\n",
       "    </tr>\n",
       "    <tr>\n",
       "      <th>7</th>\n",
       "      <td>loadmodule</td>\n",
       "      <td>u2r</td>\n",
       "    </tr>\n",
       "    <tr>\n",
       "      <th>8</th>\n",
       "      <td>multihop</td>\n",
       "      <td>r2l</td>\n",
       "    </tr>\n",
       "    <tr>\n",
       "      <th>9</th>\n",
       "      <td>neptune</td>\n",
       "      <td>dos</td>\n",
       "    </tr>\n",
       "    <tr>\n",
       "      <th>10</th>\n",
       "      <td>nmap</td>\n",
       "      <td>probe</td>\n",
       "    </tr>\n",
       "    <tr>\n",
       "      <th>11</th>\n",
       "      <td>perl</td>\n",
       "      <td>u2r</td>\n",
       "    </tr>\n",
       "    <tr>\n",
       "      <th>12</th>\n",
       "      <td>phf</td>\n",
       "      <td>r2l</td>\n",
       "    </tr>\n",
       "    <tr>\n",
       "      <th>13</th>\n",
       "      <td>pod</td>\n",
       "      <td>dos</td>\n",
       "    </tr>\n",
       "    <tr>\n",
       "      <th>14</th>\n",
       "      <td>portsweep</td>\n",
       "      <td>probe</td>\n",
       "    </tr>\n",
       "    <tr>\n",
       "      <th>15</th>\n",
       "      <td>rootkit</td>\n",
       "      <td>u2r</td>\n",
       "    </tr>\n",
       "    <tr>\n",
       "      <th>16</th>\n",
       "      <td>satan</td>\n",
       "      <td>probe</td>\n",
       "    </tr>\n",
       "    <tr>\n",
       "      <th>17</th>\n",
       "      <td>smurf</td>\n",
       "      <td>dos</td>\n",
       "    </tr>\n",
       "    <tr>\n",
       "      <th>18</th>\n",
       "      <td>spy</td>\n",
       "      <td>r2l</td>\n",
       "    </tr>\n",
       "    <tr>\n",
       "      <th>19</th>\n",
       "      <td>teardrop</td>\n",
       "      <td>dos</td>\n",
       "    </tr>\n",
       "    <tr>\n",
       "      <th>20</th>\n",
       "      <td>warezclient</td>\n",
       "      <td>r2l</td>\n",
       "    </tr>\n",
       "    <tr>\n",
       "      <th>21</th>\n",
       "      <td>warezmaster</td>\n",
       "      <td>r2l</td>\n",
       "    </tr>\n",
       "  </tbody>\n",
       "</table>\n",
       "</div>"
      ],
      "text/plain": [
       "        attack_type attack_category\n",
       "0              back             dos\n",
       "1   buffer_overflow             u2r\n",
       "2         ftp_write             r2l\n",
       "3      guess_passwd             r2l\n",
       "4              imap             r2l\n",
       "5           ipsweep           probe\n",
       "6              land             dos\n",
       "7        loadmodule             u2r\n",
       "8          multihop             r2l\n",
       "9           neptune             dos\n",
       "10             nmap           probe\n",
       "11             perl             u2r\n",
       "12              phf             r2l\n",
       "13              pod             dos\n",
       "14        portsweep           probe\n",
       "15          rootkit             u2r\n",
       "16            satan           probe\n",
       "17            smurf             dos\n",
       "18              spy             r2l\n",
       "19         teardrop             dos\n",
       "20      warezclient             r2l\n",
       "21      warezmaster             r2l"
      ]
     },
     "execution_count": 13,
     "metadata": {},
     "output_type": "execute_result"
    }
   ],
   "source": [
    "train_attack_types"
   ]
  },
  {
   "cell_type": "code",
   "execution_count": 14,
   "metadata": {
    "ExecuteTime": {
     "end_time": "2020-03-12T12:37:21.395769Z",
     "start_time": "2020-03-12T12:37:21.391775Z"
    }
   },
   "outputs": [],
   "source": [
    "attack_dict_coarse = {\n",
    "    i:j for i,j in zip(train_attack_types[\"attack_type\"], train_attack_types[\"attack_category\"])\n",
    "} \n",
    "attack_dict_coarse[\"normal\"] = \"normal\""
   ]
  },
  {
   "cell_type": "code",
   "execution_count": 15,
   "metadata": {
    "ExecuteTime": {
     "end_time": "2020-03-12T12:37:23.715584Z",
     "start_time": "2020-03-12T12:37:22.769091Z"
    }
   },
   "outputs": [],
   "source": [
    "train[\"label_coarse\"] = train[\"label\"].map(attack_dict_coarse).map({\n",
    "    \"normal\":0,\n",
    "    \"dos\": 1,\n",
    "    \"probe\": 2,\n",
    "    \"r2l\": 3,\n",
    "    \"u2r\": 4\n",
    "})"
   ]
  },
  {
   "cell_type": "code",
   "execution_count": 16,
   "metadata": {
    "ExecuteTime": {
     "end_time": "2020-03-12T12:37:25.413020Z",
     "start_time": "2020-03-12T12:37:25.325257Z"
    }
   },
   "outputs": [
    {
     "data": {
      "text/plain": [
       "1    3883370\n",
       "0     972781\n",
       "2      41102\n",
       "3       1126\n",
       "4         52\n",
       "Name: label_coarse, dtype: int64"
      ]
     },
     "execution_count": 16,
     "metadata": {},
     "output_type": "execute_result"
    }
   ],
   "source": [
    "train[\"label_coarse\"].value_counts()"
   ]
  },
  {
   "cell_type": "code",
   "execution_count": 17,
   "metadata": {
    "ExecuteTime": {
     "end_time": "2020-03-12T12:37:27.051660Z",
     "start_time": "2020-03-12T12:37:26.974842Z"
    }
   },
   "outputs": [
    {
     "data": {
      "text/plain": [
       "1.0    223298\n",
       "0.0     60593\n",
       "3.0      5993\n",
       "2.0      2377\n",
       "4.0        39\n",
       "Name: label_coarse, dtype: int64"
      ]
     },
     "execution_count": 17,
     "metadata": {},
     "output_type": "execute_result"
    }
   ],
   "source": [
    "test[\"label_coarse\"] = test[\"label\"].map(attack_dict_coarse).map({\n",
    "    \"normal\":0,\n",
    "    \"dos\": 1,\n",
    "    \"probe\": 2,\n",
    "    \"r2l\": 3,\n",
    "    \"u2r\": 4\n",
    "})\n",
    "test[\"label_coarse\"].value_counts()"
   ]
  },
  {
   "cell_type": "markdown",
   "metadata": {},
   "source": [
    "### Fine-grained multiclass label (all)."
   ]
  },
  {
   "cell_type": "code",
   "execution_count": 21,
   "metadata": {
    "ExecuteTime": {
     "end_time": "2020-03-04T18:46:45.671642Z",
     "start_time": "2020-03-04T18:46:45.626767Z"
    }
   },
   "outputs": [
    {
     "data": {
      "text/plain": [
       "smurf              164091\n",
       "normal              60593\n",
       "neptune             58001\n",
       "snmpgetattack        7741\n",
       "mailbomb             5000\n",
       "guess_passwd         4367\n",
       "snmpguess            2406\n",
       "satan                1633\n",
       "warezmaster          1602\n",
       "back                 1098\n",
       "mscan                1053\n",
       "apache2               794\n",
       "processtable          759\n",
       "saint                 736\n",
       "portsweep             354\n",
       "ipsweep               306\n",
       "httptunnel            158\n",
       "pod                    87\n",
       "nmap                   84\n",
       "buffer_overflow        22\n",
       "multihop               18\n",
       "sendmail               17\n",
       "named                  17\n",
       "ps                     16\n",
       "rootkit                13\n",
       "xterm                  13\n",
       "teardrop               12\n",
       "xlock                   9\n",
       "land                    9\n",
       "xsnoop                  4\n",
       "ftp_write               3\n",
       "perl                    2\n",
       "loadmodule              2\n",
       "sqlattack               2\n",
       "phf                     2\n",
       "udpstorm                2\n",
       "worm                    2\n",
       "imap                    1\n",
       "Name: label, dtype: int64"
      ]
     },
     "execution_count": 21,
     "metadata": {},
     "output_type": "execute_result"
    }
   ],
   "source": [
    "test[\"label\"].value_counts()"
   ]
  },
  {
   "cell_type": "code",
   "execution_count": 20,
   "metadata": {
    "ExecuteTime": {
     "end_time": "2020-03-12T12:37:44.296310Z",
     "start_time": "2020-03-12T12:37:44.288333Z"
    }
   },
   "outputs": [
    {
     "data": {
      "text/plain": [
       "0         0.0\n",
       "1         0.0\n",
       "2         0.0\n",
       "3         NaN\n",
       "4         NaN\n",
       "         ... \n",
       "311024    0.0\n",
       "311025    0.0\n",
       "311026    0.0\n",
       "311027    0.0\n",
       "311028    0.0\n",
       "Name: label_coarse, Length: 311029, dtype: float64"
      ]
     },
     "execution_count": 20,
     "metadata": {},
     "output_type": "execute_result"
    }
   ],
   "source": [
    "test[\"label_coarse\"]"
   ]
  },
  {
   "cell_type": "code",
   "execution_count": 21,
   "metadata": {
    "ExecuteTime": {
     "end_time": "2020-03-12T12:37:52.141773Z",
     "start_time": "2020-03-12T12:37:45.857362Z"
    }
   },
   "outputs": [
    {
     "data": {
      "text/html": [
       "<div>\n",
       "<style scoped>\n",
       "    .dataframe tbody tr th:only-of-type {\n",
       "        vertical-align: middle;\n",
       "    }\n",
       "\n",
       "    .dataframe tbody tr th {\n",
       "        vertical-align: top;\n",
       "    }\n",
       "\n",
       "    .dataframe thead th {\n",
       "        text-align: right;\n",
       "    }\n",
       "</style>\n",
       "<table border=\"1\" class=\"dataframe\">\n",
       "  <thead>\n",
       "    <tr style=\"text-align: right;\">\n",
       "      <th></th>\n",
       "      <th>duration</th>\n",
       "      <th>src_bytes</th>\n",
       "      <th>dst_bytes</th>\n",
       "      <th>land</th>\n",
       "      <th>wrong_fragment</th>\n",
       "      <th>urgent</th>\n",
       "      <th>hot</th>\n",
       "      <th>num_failed_logins</th>\n",
       "      <th>logged_in</th>\n",
       "      <th>num_compromised</th>\n",
       "      <th>...</th>\n",
       "      <th>dst_host_same_srv_rate</th>\n",
       "      <th>dst_host_diff_srv_rate</th>\n",
       "      <th>dst_host_same_src_port_rate</th>\n",
       "      <th>dst_host_srv_diff_host_rate</th>\n",
       "      <th>dst_host_serror_rate</th>\n",
       "      <th>dst_host_srv_serror_rate</th>\n",
       "      <th>dst_host_rerror_rate</th>\n",
       "      <th>dst_host_srv_rerror_rate</th>\n",
       "      <th>label_binary</th>\n",
       "      <th>label_coarse</th>\n",
       "    </tr>\n",
       "  </thead>\n",
       "  <tbody>\n",
       "    <tr>\n",
       "      <th>count</th>\n",
       "      <td>4.898431e+06</td>\n",
       "      <td>4.898431e+06</td>\n",
       "      <td>4.898431e+06</td>\n",
       "      <td>4.898431e+06</td>\n",
       "      <td>4.898431e+06</td>\n",
       "      <td>4.898431e+06</td>\n",
       "      <td>4.898431e+06</td>\n",
       "      <td>4.898431e+06</td>\n",
       "      <td>4.898431e+06</td>\n",
       "      <td>4.898431e+06</td>\n",
       "      <td>...</td>\n",
       "      <td>4.898431e+06</td>\n",
       "      <td>4.898431e+06</td>\n",
       "      <td>4.898431e+06</td>\n",
       "      <td>4.898431e+06</td>\n",
       "      <td>4.898431e+06</td>\n",
       "      <td>4.898431e+06</td>\n",
       "      <td>4.898431e+06</td>\n",
       "      <td>4.898431e+06</td>\n",
       "      <td>4.898431e+06</td>\n",
       "      <td>4.898431e+06</td>\n",
       "    </tr>\n",
       "    <tr>\n",
       "      <th>mean</th>\n",
       "      <td>4.834243e+01</td>\n",
       "      <td>1.834621e+03</td>\n",
       "      <td>1.093623e+03</td>\n",
       "      <td>5.716116e-06</td>\n",
       "      <td>6.487792e-04</td>\n",
       "      <td>7.961733e-06</td>\n",
       "      <td>1.243766e-02</td>\n",
       "      <td>3.205108e-05</td>\n",
       "      <td>1.435290e-01</td>\n",
       "      <td>8.088304e-03</td>\n",
       "      <td>...</td>\n",
       "      <td>7.537132e-01</td>\n",
       "      <td>3.071111e-02</td>\n",
       "      <td>6.050520e-01</td>\n",
       "      <td>6.464107e-03</td>\n",
       "      <td>1.780911e-01</td>\n",
       "      <td>1.778859e-01</td>\n",
       "      <td>5.792780e-02</td>\n",
       "      <td>5.765941e-02</td>\n",
       "      <td>8.014097e-01</td>\n",
       "      <td>8.102921e-01</td>\n",
       "    </tr>\n",
       "    <tr>\n",
       "      <th>std</th>\n",
       "      <td>7.233298e+02</td>\n",
       "      <td>9.414311e+05</td>\n",
       "      <td>6.450123e+05</td>\n",
       "      <td>2.390833e-03</td>\n",
       "      <td>4.285434e-02</td>\n",
       "      <td>7.215084e-03</td>\n",
       "      <td>4.689782e-01</td>\n",
       "      <td>7.299408e-03</td>\n",
       "      <td>3.506116e-01</td>\n",
       "      <td>3.856481e+00</td>\n",
       "      <td>...</td>\n",
       "      <td>4.111860e-01</td>\n",
       "      <td>1.085432e-01</td>\n",
       "      <td>4.809877e-01</td>\n",
       "      <td>4.125978e-02</td>\n",
       "      <td>3.818382e-01</td>\n",
       "      <td>3.821774e-01</td>\n",
       "      <td>2.309428e-01</td>\n",
       "      <td>2.309777e-01</td>\n",
       "      <td>3.989389e-01</td>\n",
       "      <td>4.147374e-01</td>\n",
       "    </tr>\n",
       "    <tr>\n",
       "      <th>min</th>\n",
       "      <td>0.000000e+00</td>\n",
       "      <td>0.000000e+00</td>\n",
       "      <td>0.000000e+00</td>\n",
       "      <td>0.000000e+00</td>\n",
       "      <td>0.000000e+00</td>\n",
       "      <td>0.000000e+00</td>\n",
       "      <td>0.000000e+00</td>\n",
       "      <td>0.000000e+00</td>\n",
       "      <td>0.000000e+00</td>\n",
       "      <td>0.000000e+00</td>\n",
       "      <td>...</td>\n",
       "      <td>0.000000e+00</td>\n",
       "      <td>0.000000e+00</td>\n",
       "      <td>0.000000e+00</td>\n",
       "      <td>0.000000e+00</td>\n",
       "      <td>0.000000e+00</td>\n",
       "      <td>0.000000e+00</td>\n",
       "      <td>0.000000e+00</td>\n",
       "      <td>0.000000e+00</td>\n",
       "      <td>0.000000e+00</td>\n",
       "      <td>0.000000e+00</td>\n",
       "    </tr>\n",
       "    <tr>\n",
       "      <th>25%</th>\n",
       "      <td>0.000000e+00</td>\n",
       "      <td>4.500000e+01</td>\n",
       "      <td>0.000000e+00</td>\n",
       "      <td>0.000000e+00</td>\n",
       "      <td>0.000000e+00</td>\n",
       "      <td>0.000000e+00</td>\n",
       "      <td>0.000000e+00</td>\n",
       "      <td>0.000000e+00</td>\n",
       "      <td>0.000000e+00</td>\n",
       "      <td>0.000000e+00</td>\n",
       "      <td>...</td>\n",
       "      <td>4.100000e-01</td>\n",
       "      <td>0.000000e+00</td>\n",
       "      <td>0.000000e+00</td>\n",
       "      <td>0.000000e+00</td>\n",
       "      <td>0.000000e+00</td>\n",
       "      <td>0.000000e+00</td>\n",
       "      <td>0.000000e+00</td>\n",
       "      <td>0.000000e+00</td>\n",
       "      <td>1.000000e+00</td>\n",
       "      <td>1.000000e+00</td>\n",
       "    </tr>\n",
       "    <tr>\n",
       "      <th>50%</th>\n",
       "      <td>0.000000e+00</td>\n",
       "      <td>5.200000e+02</td>\n",
       "      <td>0.000000e+00</td>\n",
       "      <td>0.000000e+00</td>\n",
       "      <td>0.000000e+00</td>\n",
       "      <td>0.000000e+00</td>\n",
       "      <td>0.000000e+00</td>\n",
       "      <td>0.000000e+00</td>\n",
       "      <td>0.000000e+00</td>\n",
       "      <td>0.000000e+00</td>\n",
       "      <td>...</td>\n",
       "      <td>1.000000e+00</td>\n",
       "      <td>0.000000e+00</td>\n",
       "      <td>1.000000e+00</td>\n",
       "      <td>0.000000e+00</td>\n",
       "      <td>0.000000e+00</td>\n",
       "      <td>0.000000e+00</td>\n",
       "      <td>0.000000e+00</td>\n",
       "      <td>0.000000e+00</td>\n",
       "      <td>1.000000e+00</td>\n",
       "      <td>1.000000e+00</td>\n",
       "    </tr>\n",
       "    <tr>\n",
       "      <th>75%</th>\n",
       "      <td>0.000000e+00</td>\n",
       "      <td>1.032000e+03</td>\n",
       "      <td>0.000000e+00</td>\n",
       "      <td>0.000000e+00</td>\n",
       "      <td>0.000000e+00</td>\n",
       "      <td>0.000000e+00</td>\n",
       "      <td>0.000000e+00</td>\n",
       "      <td>0.000000e+00</td>\n",
       "      <td>0.000000e+00</td>\n",
       "      <td>0.000000e+00</td>\n",
       "      <td>...</td>\n",
       "      <td>1.000000e+00</td>\n",
       "      <td>4.000000e-02</td>\n",
       "      <td>1.000000e+00</td>\n",
       "      <td>0.000000e+00</td>\n",
       "      <td>0.000000e+00</td>\n",
       "      <td>0.000000e+00</td>\n",
       "      <td>0.000000e+00</td>\n",
       "      <td>0.000000e+00</td>\n",
       "      <td>1.000000e+00</td>\n",
       "      <td>1.000000e+00</td>\n",
       "    </tr>\n",
       "    <tr>\n",
       "      <th>max</th>\n",
       "      <td>5.832900e+04</td>\n",
       "      <td>1.379964e+09</td>\n",
       "      <td>1.309937e+09</td>\n",
       "      <td>1.000000e+00</td>\n",
       "      <td>3.000000e+00</td>\n",
       "      <td>1.400000e+01</td>\n",
       "      <td>7.700000e+01</td>\n",
       "      <td>5.000000e+00</td>\n",
       "      <td>1.000000e+00</td>\n",
       "      <td>7.479000e+03</td>\n",
       "      <td>...</td>\n",
       "      <td>1.000000e+00</td>\n",
       "      <td>1.000000e+00</td>\n",
       "      <td>1.000000e+00</td>\n",
       "      <td>1.000000e+00</td>\n",
       "      <td>1.000000e+00</td>\n",
       "      <td>1.000000e+00</td>\n",
       "      <td>1.000000e+00</td>\n",
       "      <td>1.000000e+00</td>\n",
       "      <td>1.000000e+00</td>\n",
       "      <td>4.000000e+00</td>\n",
       "    </tr>\n",
       "  </tbody>\n",
       "</table>\n",
       "<p>8 rows × 40 columns</p>\n",
       "</div>"
      ],
      "text/plain": [
       "           duration     src_bytes     dst_bytes          land  wrong_fragment  \\\n",
       "count  4.898431e+06  4.898431e+06  4.898431e+06  4.898431e+06    4.898431e+06   \n",
       "mean   4.834243e+01  1.834621e+03  1.093623e+03  5.716116e-06    6.487792e-04   \n",
       "std    7.233298e+02  9.414311e+05  6.450123e+05  2.390833e-03    4.285434e-02   \n",
       "min    0.000000e+00  0.000000e+00  0.000000e+00  0.000000e+00    0.000000e+00   \n",
       "25%    0.000000e+00  4.500000e+01  0.000000e+00  0.000000e+00    0.000000e+00   \n",
       "50%    0.000000e+00  5.200000e+02  0.000000e+00  0.000000e+00    0.000000e+00   \n",
       "75%    0.000000e+00  1.032000e+03  0.000000e+00  0.000000e+00    0.000000e+00   \n",
       "max    5.832900e+04  1.379964e+09  1.309937e+09  1.000000e+00    3.000000e+00   \n",
       "\n",
       "             urgent           hot  num_failed_logins     logged_in  \\\n",
       "count  4.898431e+06  4.898431e+06       4.898431e+06  4.898431e+06   \n",
       "mean   7.961733e-06  1.243766e-02       3.205108e-05  1.435290e-01   \n",
       "std    7.215084e-03  4.689782e-01       7.299408e-03  3.506116e-01   \n",
       "min    0.000000e+00  0.000000e+00       0.000000e+00  0.000000e+00   \n",
       "25%    0.000000e+00  0.000000e+00       0.000000e+00  0.000000e+00   \n",
       "50%    0.000000e+00  0.000000e+00       0.000000e+00  0.000000e+00   \n",
       "75%    0.000000e+00  0.000000e+00       0.000000e+00  0.000000e+00   \n",
       "max    1.400000e+01  7.700000e+01       5.000000e+00  1.000000e+00   \n",
       "\n",
       "       num_compromised  ...  dst_host_same_srv_rate  dst_host_diff_srv_rate  \\\n",
       "count     4.898431e+06  ...            4.898431e+06            4.898431e+06   \n",
       "mean      8.088304e-03  ...            7.537132e-01            3.071111e-02   \n",
       "std       3.856481e+00  ...            4.111860e-01            1.085432e-01   \n",
       "min       0.000000e+00  ...            0.000000e+00            0.000000e+00   \n",
       "25%       0.000000e+00  ...            4.100000e-01            0.000000e+00   \n",
       "50%       0.000000e+00  ...            1.000000e+00            0.000000e+00   \n",
       "75%       0.000000e+00  ...            1.000000e+00            4.000000e-02   \n",
       "max       7.479000e+03  ...            1.000000e+00            1.000000e+00   \n",
       "\n",
       "       dst_host_same_src_port_rate  dst_host_srv_diff_host_rate  \\\n",
       "count                 4.898431e+06                 4.898431e+06   \n",
       "mean                  6.050520e-01                 6.464107e-03   \n",
       "std                   4.809877e-01                 4.125978e-02   \n",
       "min                   0.000000e+00                 0.000000e+00   \n",
       "25%                   0.000000e+00                 0.000000e+00   \n",
       "50%                   1.000000e+00                 0.000000e+00   \n",
       "75%                   1.000000e+00                 0.000000e+00   \n",
       "max                   1.000000e+00                 1.000000e+00   \n",
       "\n",
       "       dst_host_serror_rate  dst_host_srv_serror_rate  dst_host_rerror_rate  \\\n",
       "count          4.898431e+06              4.898431e+06          4.898431e+06   \n",
       "mean           1.780911e-01              1.778859e-01          5.792780e-02   \n",
       "std            3.818382e-01              3.821774e-01          2.309428e-01   \n",
       "min            0.000000e+00              0.000000e+00          0.000000e+00   \n",
       "25%            0.000000e+00              0.000000e+00          0.000000e+00   \n",
       "50%            0.000000e+00              0.000000e+00          0.000000e+00   \n",
       "75%            0.000000e+00              0.000000e+00          0.000000e+00   \n",
       "max            1.000000e+00              1.000000e+00          1.000000e+00   \n",
       "\n",
       "       dst_host_srv_rerror_rate  label_binary  label_coarse  \n",
       "count              4.898431e+06  4.898431e+06  4.898431e+06  \n",
       "mean               5.765941e-02  8.014097e-01  8.102921e-01  \n",
       "std                2.309777e-01  3.989389e-01  4.147374e-01  \n",
       "min                0.000000e+00  0.000000e+00  0.000000e+00  \n",
       "25%                0.000000e+00  1.000000e+00  1.000000e+00  \n",
       "50%                0.000000e+00  1.000000e+00  1.000000e+00  \n",
       "75%                0.000000e+00  1.000000e+00  1.000000e+00  \n",
       "max                1.000000e+00  1.000000e+00  4.000000e+00  \n",
       "\n",
       "[8 rows x 40 columns]"
      ]
     },
     "execution_count": 21,
     "metadata": {},
     "output_type": "execute_result"
    }
   ],
   "source": [
    "train.describe()"
   ]
  },
  {
   "cell_type": "code",
   "execution_count": 22,
   "metadata": {
    "ExecuteTime": {
     "end_time": "2020-03-12T12:38:03.252549Z",
     "start_time": "2020-03-12T12:37:54.244645Z"
    }
   },
   "outputs": [],
   "source": [
    "X = pd.get_dummies(train, columns=[\"protocol_type\", \"service\", \"flag\"], drop_first=True).drop(columns=[\"label\", \"label_binary\", \"label_coarse\"])"
   ]
  },
  {
   "cell_type": "markdown",
   "metadata": {},
   "source": [
    "# Logistic Regression\n",
    "Our baseline model will always be logistic regression. Our dataset is far too large to train in any reasonable amount of time, so we'll have a larger test holdout than normal."
   ]
  },
  {
   "cell_type": "code",
   "execution_count": 23,
   "metadata": {
    "ExecuteTime": {
     "end_time": "2020-03-12T12:38:05.342498Z",
     "start_time": "2020-03-12T12:38:05.337512Z"
    }
   },
   "outputs": [],
   "source": [
    "y = train[\"label_binary\"]"
   ]
  },
  {
   "cell_type": "code",
   "execution_count": 24,
   "metadata": {
    "ExecuteTime": {
     "end_time": "2020-03-12T12:38:13.947503Z",
     "start_time": "2020-03-12T12:38:07.345144Z"
    }
   },
   "outputs": [],
   "source": [
    "X_train, X_test, y_train, y_test = train_test_split(X, y, test_size=0.99)"
   ]
  },
  {
   "cell_type": "code",
   "execution_count": 25,
   "metadata": {
    "ExecuteTime": {
     "end_time": "2020-03-12T12:38:16.609364Z",
     "start_time": "2020-03-12T12:38:16.603387Z"
    }
   },
   "outputs": [
    {
     "data": {
      "text/plain": [
       "(48984, 119)"
      ]
     },
     "execution_count": 25,
     "metadata": {},
     "output_type": "execute_result"
    }
   ],
   "source": [
    "X_train.shape"
   ]
  },
  {
   "cell_type": "code",
   "execution_count": 26,
   "metadata": {
    "ExecuteTime": {
     "end_time": "2020-03-12T12:38:19.211416Z",
     "start_time": "2020-03-12T12:38:19.206417Z"
    }
   },
   "outputs": [
    {
     "data": {
      "text/plain": [
       "(48984,)"
      ]
     },
     "execution_count": 26,
     "metadata": {},
     "output_type": "execute_result"
    }
   ],
   "source": [
    "y_train.shape"
   ]
  },
  {
   "cell_type": "code",
   "execution_count": 27,
   "metadata": {
    "ExecuteTime": {
     "end_time": "2020-03-12T12:42:28.009210Z",
     "start_time": "2020-03-12T12:38:21.839374Z"
    }
   },
   "outputs": [
    {
     "name": "stderr",
     "output_type": "stream",
     "text": [
      "[Parallel(n_jobs=-2)]: Using backend ThreadingBackend with 7 concurrent workers.\n"
     ]
    },
    {
     "name": "stdout",
     "output_type": "stream",
     "text": [
      "convergence after 3881 epochs took 246 seconds\n"
     ]
    },
    {
     "name": "stderr",
     "output_type": "stream",
     "text": [
      "[Parallel(n_jobs=-2)]: Done   1 out of   1 | elapsed:  4.1min finished\n"
     ]
    },
    {
     "data": {
      "text/plain": [
       "LogisticRegression(C=1.0, class_weight=None, dual=False, fit_intercept=True,\n",
       "                   intercept_scaling=1, l1_ratio=None, max_iter=10000,\n",
       "                   multi_class='auto', n_jobs=-2, penalty='none',\n",
       "                   random_state=None, solver='sag', tol=0.0001, verbose=1,\n",
       "                   warm_start=False)"
      ]
     },
     "execution_count": 27,
     "metadata": {},
     "output_type": "execute_result"
    }
   ],
   "source": [
    "logreg = LogisticRegression(penalty=\"none\", solver=\"sag\", max_iter=10000, verbose=1, n_jobs = -2)\n",
    "logreg.fit(X_train, y_train)"
   ]
  },
  {
   "cell_type": "code",
   "execution_count": 28,
   "metadata": {
    "ExecuteTime": {
     "end_time": "2020-03-12T12:42:30.765260Z",
     "start_time": "2020-03-12T12:42:30.700021Z"
    }
   },
   "outputs": [
    {
     "data": {
      "text/plain": [
       "0.9517189286297566"
      ]
     },
     "execution_count": 28,
     "metadata": {},
     "output_type": "execute_result"
    }
   ],
   "source": [
    "logreg.score(X_train, y_train)"
   ]
  },
  {
   "cell_type": "code",
   "execution_count": 29,
   "metadata": {
    "ExecuteTime": {
     "end_time": "2020-03-12T12:42:37.981946Z",
     "start_time": "2020-03-12T12:42:33.603645Z"
    }
   },
   "outputs": [
    {
     "data": {
      "text/plain": [
       "0.9517848117527627"
      ]
     },
     "execution_count": 29,
     "metadata": {},
     "output_type": "execute_result"
    }
   ],
   "source": [
    "logreg.score(X_test, y_test)"
   ]
  },
  {
   "cell_type": "code",
   "execution_count": 30,
   "metadata": {
    "ExecuteTime": {
     "end_time": "2020-03-12T12:43:21.264133Z",
     "start_time": "2020-03-12T12:43:21.204314Z"
    }
   },
   "outputs": [
    {
     "data": {
      "text/plain": [
       "0.8809953016736294"
      ]
     },
     "execution_count": 30,
     "metadata": {},
     "output_type": "execute_result"
    }
   ],
   "source": [
    "roc_auc_score(y_train, logreg.predict(X_train))"
   ]
  },
  {
   "cell_type": "code",
   "execution_count": 31,
   "metadata": {
    "ExecuteTime": {
     "end_time": "2020-03-12T12:43:39.293263Z",
     "start_time": "2020-03-12T12:43:34.488116Z"
    }
   },
   "outputs": [
    {
     "data": {
      "text/plain": [
       "0.8813256178102143"
      ]
     },
     "execution_count": 31,
     "metadata": {},
     "output_type": "execute_result"
    }
   ],
   "source": [
    "roc_auc_score(y_test, logreg.predict(X_test))"
   ]
  },
  {
   "cell_type": "code",
   "execution_count": null,
   "metadata": {
    "ExecuteTime": {
     "start_time": "2020-02-27T18:52:31.615Z"
    }
   },
   "outputs": [],
   "source": [
    "# cross_val_score(logreg, X_train, y_train)"
   ]
  },
  {
   "cell_type": "code",
   "execution_count": 32,
   "metadata": {
    "ExecuteTime": {
     "end_time": "2020-03-12T12:47:12.812020Z",
     "start_time": "2020-03-12T12:47:12.692344Z"
    }
   },
   "outputs": [
    {
     "data": {
      "text/plain": [
       "0         0\n",
       "1         0\n",
       "2         0\n",
       "3         1\n",
       "4         1\n",
       "         ..\n",
       "311024    0\n",
       "311025    0\n",
       "311026    0\n",
       "311027    0\n",
       "311028    0\n",
       "Name: label, Length: 311029, dtype: int64"
      ]
     },
     "execution_count": 32,
     "metadata": {},
     "output_type": "execute_result"
    }
   ],
   "source": [
    "y_actual = test[\"label\"].map(lambda x: 0 if x == \"normal\" else 1)\n",
    "y_actual"
   ]
  },
  {
   "cell_type": "code",
   "execution_count": 33,
   "metadata": {
    "ExecuteTime": {
     "end_time": "2020-03-12T12:47:16.221903Z",
     "start_time": "2020-03-12T12:47:15.542696Z"
    }
   },
   "outputs": [],
   "source": [
    "X_big_test = pd.get_dummies(test, columns=[\"protocol_type\", \"service\", \"flag\"], drop_first=True).drop(columns=[\"label\", \"label_binary\"])"
   ]
  },
  {
   "cell_type": "code",
   "execution_count": 34,
   "metadata": {
    "ExecuteTime": {
     "end_time": "2020-03-12T12:47:18.861844Z",
     "start_time": "2020-03-12T12:47:18.856831Z"
    }
   },
   "outputs": [
    {
     "data": {
      "text/plain": [
       "Index(['duration', 'src_bytes', 'dst_bytes', 'land', 'wrong_fragment',\n",
       "       'urgent', 'hot', 'num_failed_logins', 'logged_in', 'num_compromised',\n",
       "       ...\n",
       "       'flag_REJ', 'flag_RSTO', 'flag_RSTOS0', 'flag_RSTR', 'flag_S0',\n",
       "       'flag_S1', 'flag_S2', 'flag_S3', 'flag_SF', 'flag_SH'],\n",
       "      dtype='object', length=115)"
      ]
     },
     "execution_count": 34,
     "metadata": {},
     "output_type": "execute_result"
    }
   ],
   "source": [
    "X_big_test.columns"
   ]
  },
  {
   "cell_type": "code",
   "execution_count": 35,
   "metadata": {
    "ExecuteTime": {
     "end_time": "2020-03-12T12:47:21.544770Z",
     "start_time": "2020-03-12T12:47:21.538763Z"
    }
   },
   "outputs": [
    {
     "data": {
      "text/plain": [
       "Index(['duration', 'src_bytes', 'dst_bytes', 'land', 'wrong_fragment',\n",
       "       'urgent', 'hot', 'num_failed_logins', 'logged_in', 'num_compromised',\n",
       "       ...\n",
       "       'flag_REJ', 'flag_RSTO', 'flag_RSTOS0', 'flag_RSTR', 'flag_S0',\n",
       "       'flag_S1', 'flag_S2', 'flag_S3', 'flag_SF', 'flag_SH'],\n",
       "      dtype='object', length=119)"
      ]
     },
     "execution_count": 35,
     "metadata": {},
     "output_type": "execute_result"
    }
   ],
   "source": [
    "X_test.columns"
   ]
  },
  {
   "cell_type": "code",
   "execution_count": 36,
   "metadata": {
    "ExecuteTime": {
     "end_time": "2020-03-12T12:47:24.227570Z",
     "start_time": "2020-03-12T12:47:24.212642Z"
    }
   },
   "outputs": [],
   "source": [
    "cols_to_zero = [col for col in X_test.columns if col not in X_big_test.columns]\n",
    "for col in cols_to_zero:\n",
    "    X_big_test[col] = 0"
   ]
  },
  {
   "cell_type": "code",
   "execution_count": 37,
   "metadata": {
    "ExecuteTime": {
     "end_time": "2020-03-12T12:47:27.379142Z",
     "start_time": "2020-03-12T12:47:26.904411Z"
    }
   },
   "outputs": [
    {
     "data": {
      "text/plain": [
       "0.9134100035687991"
      ]
     },
     "execution_count": 37,
     "metadata": {},
     "output_type": "execute_result"
    }
   ],
   "source": [
    "logreg.score(X_big_test[X_test.columns], y_actual)"
   ]
  },
  {
   "cell_type": "code",
   "execution_count": 38,
   "metadata": {
    "ExecuteTime": {
     "end_time": "2020-03-12T12:48:00.403035Z",
     "start_time": "2020-03-12T12:47:59.974182Z"
    }
   },
   "outputs": [
    {
     "data": {
      "text/plain": [
       "0.8310892010331374"
      ]
     },
     "execution_count": 38,
     "metadata": {},
     "output_type": "execute_result"
    }
   ],
   "source": [
    "roc_auc_score(y_actual, logreg.predict(X_big_test[X_test.columns]))"
   ]
  },
  {
   "cell_type": "code",
   "execution_count": 37,
   "metadata": {
    "ExecuteTime": {
     "end_time": "2020-02-27T20:11:30.450575Z",
     "start_time": "2020-02-27T20:11:29.824205Z"
    }
   },
   "outputs": [],
   "source": [
    "tn, fp, fn, tp = confusion_matrix(logreg.predict(X_big_test[X_test.columns]), y_actual).ravel()"
   ]
  },
  {
   "cell_type": "code",
   "execution_count": 38,
   "metadata": {
    "ExecuteTime": {
     "end_time": "2020-02-27T20:11:49.494188Z",
     "start_time": "2020-02-27T20:11:49.474444Z"
    }
   },
   "outputs": [
    {
     "data": {
      "text/plain": [
       "0.9185488755048431"
      ]
     },
     "execution_count": 38,
     "metadata": {},
     "output_type": "execute_result"
    }
   ],
   "source": [
    "# Our sensitivity is\n",
    "(tp) / (tp + fn) "
   ]
  },
  {
   "cell_type": "code",
   "execution_count": 39,
   "metadata": {
    "ExecuteTime": {
     "end_time": "2020-02-27T20:11:54.014290Z",
     "start_time": "2020-02-27T20:11:53.995443Z"
    }
   },
   "outputs": [
    {
     "data": {
      "text/plain": [
       "0.9871623887939434"
      ]
     },
     "execution_count": 39,
     "metadata": {},
     "output_type": "execute_result"
    }
   ],
   "source": [
    "# Our precision is\n",
    "(tp) / (tp + fp)"
   ]
  },
  {
   "cell_type": "code",
   "execution_count": 49,
   "metadata": {
    "ExecuteTime": {
     "end_time": "2020-02-27T20:14:36.680498Z",
     "start_time": "2020-02-27T20:14:36.674227Z"
    }
   },
   "outputs": [],
   "source": [
    "coefs = pd.DataFrame(logreg.coef_, columns=X_test.columns, index=[\"coef_\"]).T"
   ]
  },
  {
   "cell_type": "code",
   "execution_count": 56,
   "metadata": {
    "ExecuteTime": {
     "end_time": "2020-02-27T20:19:47.109613Z",
     "start_time": "2020-02-27T20:19:47.063900Z"
    }
   },
   "outputs": [
    {
     "data": {
      "text/html": [
       "<div>\n",
       "<style scoped>\n",
       "    .dataframe tbody tr th:only-of-type {\n",
       "        vertical-align: middle;\n",
       "    }\n",
       "\n",
       "    .dataframe tbody tr th {\n",
       "        vertical-align: top;\n",
       "    }\n",
       "\n",
       "    .dataframe thead th {\n",
       "        text-align: right;\n",
       "    }\n",
       "</style>\n",
       "<table border=\"1\" class=\"dataframe\">\n",
       "  <thead>\n",
       "    <tr style=\"text-align: right;\">\n",
       "      <th></th>\n",
       "      <th>coef_</th>\n",
       "    </tr>\n",
       "  </thead>\n",
       "  <tbody>\n",
       "    <tr>\n",
       "      <th>count</th>\n",
       "      <td>2.389644e-03</td>\n",
       "    </tr>\n",
       "    <tr>\n",
       "      <th>srv_count</th>\n",
       "      <td>1.842836e-03</td>\n",
       "    </tr>\n",
       "    <tr>\n",
       "      <th>dst_host_count</th>\n",
       "      <td>1.306798e-03</td>\n",
       "    </tr>\n",
       "    <tr>\n",
       "      <th>dst_host_srv_count</th>\n",
       "      <td>4.859674e-04</td>\n",
       "    </tr>\n",
       "    <tr>\n",
       "      <th>service_ecr_i</th>\n",
       "      <td>3.619133e-06</td>\n",
       "    </tr>\n",
       "    <tr>\n",
       "      <th>dst_host_same_src_port_rate</th>\n",
       "      <td>3.334232e-06</td>\n",
       "    </tr>\n",
       "    <tr>\n",
       "      <th>service_private</th>\n",
       "      <td>2.584658e-06</td>\n",
       "    </tr>\n",
       "    <tr>\n",
       "      <th>serror_rate</th>\n",
       "      <td>2.449654e-06</td>\n",
       "    </tr>\n",
       "    <tr>\n",
       "      <th>dst_host_srv_serror_rate</th>\n",
       "      <td>2.448911e-06</td>\n",
       "    </tr>\n",
       "    <tr>\n",
       "      <th>dst_host_serror_rate</th>\n",
       "      <td>2.447952e-06</td>\n",
       "    </tr>\n",
       "    <tr>\n",
       "      <th>srv_serror_rate</th>\n",
       "      <td>2.447795e-06</td>\n",
       "    </tr>\n",
       "    <tr>\n",
       "      <th>flag_S0</th>\n",
       "      <td>2.446442e-06</td>\n",
       "    </tr>\n",
       "    <tr>\n",
       "      <th>dst_host_same_srv_rate</th>\n",
       "      <td>1.785212e-06</td>\n",
       "    </tr>\n",
       "    <tr>\n",
       "      <th>same_srv_rate</th>\n",
       "      <td>1.446044e-06</td>\n",
       "    </tr>\n",
       "    <tr>\n",
       "      <th>flag_SF</th>\n",
       "      <td>1.376036e-06</td>\n",
       "    </tr>\n",
       "    <tr>\n",
       "      <th>protocol_type_tcp</th>\n",
       "      <td>1.325119e-06</td>\n",
       "    </tr>\n",
       "    <tr>\n",
       "      <th>dst_host_srv_rerror_rate</th>\n",
       "      <td>4.240133e-07</td>\n",
       "    </tr>\n",
       "    <tr>\n",
       "      <th>srv_rerror_rate</th>\n",
       "      <td>4.183734e-07</td>\n",
       "    </tr>\n",
       "    <tr>\n",
       "      <th>rerror_rate</th>\n",
       "      <td>4.151981e-07</td>\n",
       "    </tr>\n",
       "    <tr>\n",
       "      <th>dst_host_rerror_rate</th>\n",
       "      <td>4.140428e-07</td>\n",
       "    </tr>\n",
       "    <tr>\n",
       "      <th>flag_REJ</th>\n",
       "      <td>3.788846e-07</td>\n",
       "    </tr>\n",
       "    <tr>\n",
       "      <th>diff_srv_rate</th>\n",
       "      <td>1.753300e-07</td>\n",
       "    </tr>\n",
       "    <tr>\n",
       "      <th>dst_host_diff_srv_rate</th>\n",
       "      <td>9.076077e-08</td>\n",
       "    </tr>\n",
       "    <tr>\n",
       "      <th>service_eco_i</th>\n",
       "      <td>3.991278e-08</td>\n",
       "    </tr>\n",
       "    <tr>\n",
       "      <th>hot</th>\n",
       "      <td>3.978043e-08</td>\n",
       "    </tr>\n",
       "    <tr>\n",
       "      <th>flag_RSTR</th>\n",
       "      <td>2.190777e-08</td>\n",
       "    </tr>\n",
       "    <tr>\n",
       "      <th>flag_RSTO</th>\n",
       "      <td>1.427089e-08</td>\n",
       "    </tr>\n",
       "    <tr>\n",
       "      <th>wrong_fragment</th>\n",
       "      <td>1.265448e-08</td>\n",
       "    </tr>\n",
       "    <tr>\n",
       "      <th>num_compromised</th>\n",
       "      <td>8.384518e-09</td>\n",
       "    </tr>\n",
       "    <tr>\n",
       "      <th>service_courier</th>\n",
       "      <td>5.075701e-09</td>\n",
       "    </tr>\n",
       "    <tr>\n",
       "      <th>service_uucp</th>\n",
       "      <td>4.682378e-09</td>\n",
       "    </tr>\n",
       "    <tr>\n",
       "      <th>service_netbios_ssn</th>\n",
       "      <td>4.584007e-09</td>\n",
       "    </tr>\n",
       "    <tr>\n",
       "      <th>service_bgp</th>\n",
       "      <td>4.351923e-09</td>\n",
       "    </tr>\n",
       "    <tr>\n",
       "      <th>service_netbios_ns</th>\n",
       "      <td>4.301569e-09</td>\n",
       "    </tr>\n",
       "    <tr>\n",
       "      <th>service_hostnames</th>\n",
       "      <td>4.259283e-09</td>\n",
       "    </tr>\n",
       "    <tr>\n",
       "      <th>service_gopher</th>\n",
       "      <td>4.181394e-09</td>\n",
       "    </tr>\n",
       "    <tr>\n",
       "      <th>service_remote_job</th>\n",
       "      <td>4.076872e-09</td>\n",
       "    </tr>\n",
       "    <tr>\n",
       "      <th>service_daytime</th>\n",
       "      <td>3.978165e-09</td>\n",
       "    </tr>\n",
       "    <tr>\n",
       "      <th>service_name</th>\n",
       "      <td>3.755910e-09</td>\n",
       "    </tr>\n",
       "    <tr>\n",
       "      <th>service_systat</th>\n",
       "      <td>3.706150e-09</td>\n",
       "    </tr>\n",
       "    <tr>\n",
       "      <th>service_nntp</th>\n",
       "      <td>3.606562e-09</td>\n",
       "    </tr>\n",
       "    <tr>\n",
       "      <th>service_whois</th>\n",
       "      <td>3.592429e-09</td>\n",
       "    </tr>\n",
       "    <tr>\n",
       "      <th>service_efs</th>\n",
       "      <td>3.495224e-09</td>\n",
       "    </tr>\n",
       "    <tr>\n",
       "      <th>service_Z39_50</th>\n",
       "      <td>3.472996e-09</td>\n",
       "    </tr>\n",
       "    <tr>\n",
       "      <th>service_domain</th>\n",
       "      <td>3.417225e-09</td>\n",
       "    </tr>\n",
       "    <tr>\n",
       "      <th>service_ctf</th>\n",
       "      <td>3.395540e-09</td>\n",
       "    </tr>\n",
       "    <tr>\n",
       "      <th>flag_SH</th>\n",
       "      <td>3.346655e-09</td>\n",
       "    </tr>\n",
       "    <tr>\n",
       "      <th>service_http_443</th>\n",
       "      <td>3.254142e-09</td>\n",
       "    </tr>\n",
       "    <tr>\n",
       "      <th>service_discard</th>\n",
       "      <td>3.252048e-09</td>\n",
       "    </tr>\n",
       "    <tr>\n",
       "      <th>service_nnsp</th>\n",
       "      <td>3.208076e-09</td>\n",
       "    </tr>\n",
       "    <tr>\n",
       "      <th>service_sql_net</th>\n",
       "      <td>3.094731e-09</td>\n",
       "    </tr>\n",
       "    <tr>\n",
       "      <th>service_uucp_path</th>\n",
       "      <td>3.021303e-09</td>\n",
       "    </tr>\n",
       "    <tr>\n",
       "      <th>service_echo</th>\n",
       "      <td>3.001865e-09</td>\n",
       "    </tr>\n",
       "    <tr>\n",
       "      <th>service_shell</th>\n",
       "      <td>2.972703e-09</td>\n",
       "    </tr>\n",
       "    <tr>\n",
       "      <th>service_link</th>\n",
       "      <td>2.970527e-09</td>\n",
       "    </tr>\n",
       "    <tr>\n",
       "      <th>service_exec</th>\n",
       "      <td>2.954426e-09</td>\n",
       "    </tr>\n",
       "    <tr>\n",
       "      <th>service_login</th>\n",
       "      <td>2.941860e-09</td>\n",
       "    </tr>\n",
       "    <tr>\n",
       "      <th>service_ssh</th>\n",
       "      <td>2.926554e-09</td>\n",
       "    </tr>\n",
       "    <tr>\n",
       "      <th>service_mtp</th>\n",
       "      <td>2.898884e-09</td>\n",
       "    </tr>\n",
       "    <tr>\n",
       "      <th>service_netstat</th>\n",
       "      <td>2.723106e-09</td>\n",
       "    </tr>\n",
       "    <tr>\n",
       "      <th>service_netbios_dgm</th>\n",
       "      <td>2.681843e-09</td>\n",
       "    </tr>\n",
       "    <tr>\n",
       "      <th>service_printer</th>\n",
       "      <td>2.661392e-09</td>\n",
       "    </tr>\n",
       "    <tr>\n",
       "      <th>service_imap4</th>\n",
       "      <td>2.659874e-09</td>\n",
       "    </tr>\n",
       "    <tr>\n",
       "      <th>service_vmnet</th>\n",
       "      <td>2.587603e-09</td>\n",
       "    </tr>\n",
       "    <tr>\n",
       "      <th>service_iso_tsap</th>\n",
       "      <td>2.447225e-09</td>\n",
       "    </tr>\n",
       "    <tr>\n",
       "      <th>service_csnet_ns</th>\n",
       "      <td>2.393109e-09</td>\n",
       "    </tr>\n",
       "    <tr>\n",
       "      <th>service_kshell</th>\n",
       "      <td>2.389952e-09</td>\n",
       "    </tr>\n",
       "    <tr>\n",
       "      <th>service_rje</th>\n",
       "      <td>2.364248e-09</td>\n",
       "    </tr>\n",
       "    <tr>\n",
       "      <th>service_telnet</th>\n",
       "      <td>2.224382e-09</td>\n",
       "    </tr>\n",
       "    <tr>\n",
       "      <th>service_sunrpc</th>\n",
       "      <td>1.820419e-09</td>\n",
       "    </tr>\n",
       "    <tr>\n",
       "      <th>service_supdup</th>\n",
       "      <td>1.815496e-09</td>\n",
       "    </tr>\n",
       "    <tr>\n",
       "      <th>service_klogin</th>\n",
       "      <td>1.785948e-09</td>\n",
       "    </tr>\n",
       "    <tr>\n",
       "      <th>service_ldap</th>\n",
       "      <td>1.731144e-09</td>\n",
       "    </tr>\n",
       "    <tr>\n",
       "      <th>flag_RSTOS0</th>\n",
       "      <td>1.478636e-09</td>\n",
       "    </tr>\n",
       "    <tr>\n",
       "      <th>service_time</th>\n",
       "      <td>1.424529e-09</td>\n",
       "    </tr>\n",
       "    <tr>\n",
       "      <th>service_pop_2</th>\n",
       "      <td>8.407491e-10</td>\n",
       "    </tr>\n",
       "    <tr>\n",
       "      <th>root_shell</th>\n",
       "      <td>7.167207e-10</td>\n",
       "    </tr>\n",
       "    <tr>\n",
       "      <th>land</th>\n",
       "      <td>7.114923e-10</td>\n",
       "    </tr>\n",
       "    <tr>\n",
       "      <th>service_tim_i</th>\n",
       "      <td>0.000000e+00</td>\n",
       "    </tr>\n",
       "    <tr>\n",
       "      <th>service_tftp_u</th>\n",
       "      <td>0.000000e+00</td>\n",
       "    </tr>\n",
       "    <tr>\n",
       "      <th>service_pm_dump</th>\n",
       "      <td>0.000000e+00</td>\n",
       "    </tr>\n",
       "    <tr>\n",
       "      <th>service_aol</th>\n",
       "      <td>0.000000e+00</td>\n",
       "    </tr>\n",
       "    <tr>\n",
       "      <th>service_harvest</th>\n",
       "      <td>0.000000e+00</td>\n",
       "    </tr>\n",
       "    <tr>\n",
       "      <th>is_host_login</th>\n",
       "      <td>0.000000e+00</td>\n",
       "    </tr>\n",
       "    <tr>\n",
       "      <th>service_http_8001</th>\n",
       "      <td>0.000000e+00</td>\n",
       "    </tr>\n",
       "    <tr>\n",
       "      <th>service_http_2784</th>\n",
       "      <td>0.000000e+00</td>\n",
       "    </tr>\n",
       "    <tr>\n",
       "      <th>num_outbound_cmds</th>\n",
       "      <td>0.000000e+00</td>\n",
       "    </tr>\n",
       "    <tr>\n",
       "      <th>urgent</th>\n",
       "      <td>-3.035719e-13</td>\n",
       "    </tr>\n",
       "    <tr>\n",
       "      <th>su_attempted</th>\n",
       "      <td>-6.071439e-13</td>\n",
       "    </tr>\n",
       "    <tr>\n",
       "      <th>flag_S3</th>\n",
       "      <td>-3.052186e-10</td>\n",
       "    </tr>\n",
       "    <tr>\n",
       "      <th>num_failed_logins</th>\n",
       "      <td>-3.685389e-10</td>\n",
       "    </tr>\n",
       "    <tr>\n",
       "      <th>service_red_i</th>\n",
       "      <td>-3.902725e-10</td>\n",
       "    </tr>\n",
       "    <tr>\n",
       "      <th>service_urh_i</th>\n",
       "      <td>-3.978425e-10</td>\n",
       "    </tr>\n",
       "    <tr>\n",
       "      <th>flag_S2</th>\n",
       "      <td>-4.045151e-10</td>\n",
       "    </tr>\n",
       "    <tr>\n",
       "      <th>flag_S1</th>\n",
       "      <td>-6.845552e-10</td>\n",
       "    </tr>\n",
       "    <tr>\n",
       "      <th>service_X11</th>\n",
       "      <td>-7.311893e-10</td>\n",
       "    </tr>\n",
       "    <tr>\n",
       "      <th>service_pop_3</th>\n",
       "      <td>-1.039569e-09</td>\n",
       "    </tr>\n",
       "    <tr>\n",
       "      <th>num_shells</th>\n",
       "      <td>-1.182416e-09</td>\n",
       "    </tr>\n",
       "    <tr>\n",
       "      <th>service_ftp</th>\n",
       "      <td>-2.853395e-09</td>\n",
       "    </tr>\n",
       "    <tr>\n",
       "      <th>service_auth</th>\n",
       "      <td>-4.844986e-09</td>\n",
       "    </tr>\n",
       "    <tr>\n",
       "      <th>is_guest_login</th>\n",
       "      <td>-5.420299e-09</td>\n",
       "    </tr>\n",
       "    <tr>\n",
       "      <th>num_access_files</th>\n",
       "      <td>-6.883315e-09</td>\n",
       "    </tr>\n",
       "    <tr>\n",
       "      <th>service_finger</th>\n",
       "      <td>-8.080868e-09</td>\n",
       "    </tr>\n",
       "    <tr>\n",
       "      <th>num_file_creations</th>\n",
       "      <td>-1.056302e-08</td>\n",
       "    </tr>\n",
       "    <tr>\n",
       "      <th>service_ntp_u</th>\n",
       "      <td>-1.413567e-08</td>\n",
       "    </tr>\n",
       "    <tr>\n",
       "      <th>service_urp_i</th>\n",
       "      <td>-2.053513e-08</td>\n",
       "    </tr>\n",
       "    <tr>\n",
       "      <th>dst_host_srv_diff_host_rate</th>\n",
       "      <td>-2.912542e-08</td>\n",
       "    </tr>\n",
       "    <tr>\n",
       "      <th>num_root</th>\n",
       "      <td>-6.350364e-08</td>\n",
       "    </tr>\n",
       "    <tr>\n",
       "      <th>service_other</th>\n",
       "      <td>-1.396699e-07</td>\n",
       "    </tr>\n",
       "    <tr>\n",
       "      <th>service_ftp_data</th>\n",
       "      <td>-1.426351e-07</td>\n",
       "    </tr>\n",
       "    <tr>\n",
       "      <th>service_domain_u</th>\n",
       "      <td>-2.458384e-07</td>\n",
       "    </tr>\n",
       "    <tr>\n",
       "      <th>srv_diff_host_rate</th>\n",
       "      <td>-3.235973e-07</td>\n",
       "    </tr>\n",
       "    <tr>\n",
       "      <th>service_smtp</th>\n",
       "      <td>-3.251802e-07</td>\n",
       "    </tr>\n",
       "    <tr>\n",
       "      <th>src_bytes</th>\n",
       "      <td>-4.068427e-07</td>\n",
       "    </tr>\n",
       "    <tr>\n",
       "      <th>protocol_type_udp</th>\n",
       "      <td>-7.218685e-07</td>\n",
       "    </tr>\n",
       "    <tr>\n",
       "      <th>service_http</th>\n",
       "      <td>-1.235274e-06</td>\n",
       "    </tr>\n",
       "    <tr>\n",
       "      <th>logged_in</th>\n",
       "      <td>-1.486806e-06</td>\n",
       "    </tr>\n",
       "    <tr>\n",
       "      <th>duration</th>\n",
       "      <td>-3.048707e-04</td>\n",
       "    </tr>\n",
       "    <tr>\n",
       "      <th>dst_bytes</th>\n",
       "      <td>-1.271689e-03</td>\n",
       "    </tr>\n",
       "  </tbody>\n",
       "</table>\n",
       "</div>"
      ],
      "text/plain": [
       "                                    coef_\n",
       "count                        2.389644e-03\n",
       "srv_count                    1.842836e-03\n",
       "dst_host_count               1.306798e-03\n",
       "dst_host_srv_count           4.859674e-04\n",
       "service_ecr_i                3.619133e-06\n",
       "dst_host_same_src_port_rate  3.334232e-06\n",
       "service_private              2.584658e-06\n",
       "serror_rate                  2.449654e-06\n",
       "dst_host_srv_serror_rate     2.448911e-06\n",
       "dst_host_serror_rate         2.447952e-06\n",
       "srv_serror_rate              2.447795e-06\n",
       "flag_S0                      2.446442e-06\n",
       "dst_host_same_srv_rate       1.785212e-06\n",
       "same_srv_rate                1.446044e-06\n",
       "flag_SF                      1.376036e-06\n",
       "protocol_type_tcp            1.325119e-06\n",
       "dst_host_srv_rerror_rate     4.240133e-07\n",
       "srv_rerror_rate              4.183734e-07\n",
       "rerror_rate                  4.151981e-07\n",
       "dst_host_rerror_rate         4.140428e-07\n",
       "flag_REJ                     3.788846e-07\n",
       "diff_srv_rate                1.753300e-07\n",
       "dst_host_diff_srv_rate       9.076077e-08\n",
       "service_eco_i                3.991278e-08\n",
       "hot                          3.978043e-08\n",
       "flag_RSTR                    2.190777e-08\n",
       "flag_RSTO                    1.427089e-08\n",
       "wrong_fragment               1.265448e-08\n",
       "num_compromised              8.384518e-09\n",
       "service_courier              5.075701e-09\n",
       "service_uucp                 4.682378e-09\n",
       "service_netbios_ssn          4.584007e-09\n",
       "service_bgp                  4.351923e-09\n",
       "service_netbios_ns           4.301569e-09\n",
       "service_hostnames            4.259283e-09\n",
       "service_gopher               4.181394e-09\n",
       "service_remote_job           4.076872e-09\n",
       "service_daytime              3.978165e-09\n",
       "service_name                 3.755910e-09\n",
       "service_systat               3.706150e-09\n",
       "service_nntp                 3.606562e-09\n",
       "service_whois                3.592429e-09\n",
       "service_efs                  3.495224e-09\n",
       "service_Z39_50               3.472996e-09\n",
       "service_domain               3.417225e-09\n",
       "service_ctf                  3.395540e-09\n",
       "flag_SH                      3.346655e-09\n",
       "service_http_443             3.254142e-09\n",
       "service_discard              3.252048e-09\n",
       "service_nnsp                 3.208076e-09\n",
       "service_sql_net              3.094731e-09\n",
       "service_uucp_path            3.021303e-09\n",
       "service_echo                 3.001865e-09\n",
       "service_shell                2.972703e-09\n",
       "service_link                 2.970527e-09\n",
       "service_exec                 2.954426e-09\n",
       "service_login                2.941860e-09\n",
       "service_ssh                  2.926554e-09\n",
       "service_mtp                  2.898884e-09\n",
       "service_netstat              2.723106e-09\n",
       "service_netbios_dgm          2.681843e-09\n",
       "service_printer              2.661392e-09\n",
       "service_imap4                2.659874e-09\n",
       "service_vmnet                2.587603e-09\n",
       "service_iso_tsap             2.447225e-09\n",
       "service_csnet_ns             2.393109e-09\n",
       "service_kshell               2.389952e-09\n",
       "service_rje                  2.364248e-09\n",
       "service_telnet               2.224382e-09\n",
       "service_sunrpc               1.820419e-09\n",
       "service_supdup               1.815496e-09\n",
       "service_klogin               1.785948e-09\n",
       "service_ldap                 1.731144e-09\n",
       "flag_RSTOS0                  1.478636e-09\n",
       "service_time                 1.424529e-09\n",
       "service_pop_2                8.407491e-10\n",
       "root_shell                   7.167207e-10\n",
       "land                         7.114923e-10\n",
       "service_tim_i                0.000000e+00\n",
       "service_tftp_u               0.000000e+00\n",
       "service_pm_dump              0.000000e+00\n",
       "service_aol                  0.000000e+00\n",
       "service_harvest              0.000000e+00\n",
       "is_host_login                0.000000e+00\n",
       "service_http_8001            0.000000e+00\n",
       "service_http_2784            0.000000e+00\n",
       "num_outbound_cmds            0.000000e+00\n",
       "urgent                      -3.035719e-13\n",
       "su_attempted                -6.071439e-13\n",
       "flag_S3                     -3.052186e-10\n",
       "num_failed_logins           -3.685389e-10\n",
       "service_red_i               -3.902725e-10\n",
       "service_urh_i               -3.978425e-10\n",
       "flag_S2                     -4.045151e-10\n",
       "flag_S1                     -6.845552e-10\n",
       "service_X11                 -7.311893e-10\n",
       "service_pop_3               -1.039569e-09\n",
       "num_shells                  -1.182416e-09\n",
       "service_ftp                 -2.853395e-09\n",
       "service_auth                -4.844986e-09\n",
       "is_guest_login              -5.420299e-09\n",
       "num_access_files            -6.883315e-09\n",
       "service_finger              -8.080868e-09\n",
       "num_file_creations          -1.056302e-08\n",
       "service_ntp_u               -1.413567e-08\n",
       "service_urp_i               -2.053513e-08\n",
       "dst_host_srv_diff_host_rate -2.912542e-08\n",
       "num_root                    -6.350364e-08\n",
       "service_other               -1.396699e-07\n",
       "service_ftp_data            -1.426351e-07\n",
       "service_domain_u            -2.458384e-07\n",
       "srv_diff_host_rate          -3.235973e-07\n",
       "service_smtp                -3.251802e-07\n",
       "src_bytes                   -4.068427e-07\n",
       "protocol_type_udp           -7.218685e-07\n",
       "service_http                -1.235274e-06\n",
       "logged_in                   -1.486806e-06\n",
       "duration                    -3.048707e-04\n",
       "dst_bytes                   -1.271689e-03"
      ]
     },
     "metadata": {},
     "output_type": "display_data"
    }
   ],
   "source": [
    "with pd.option_context(\"max_rows\", None):\n",
    "    display(coefs.sort_values(by=\"coef_\", ascending=False))"
   ]
  },
  {
   "cell_type": "markdown",
   "metadata": {},
   "source": [
    "## restricted features\n"
   ]
  },
  {
   "cell_type": "code",
   "execution_count": 62,
   "metadata": {
    "ExecuteTime": {
     "end_time": "2020-02-27T20:34:07.243131Z",
     "start_time": "2020-02-27T20:34:06.424032Z"
    }
   },
   "outputs": [
    {
     "data": {
      "image/png": "[encoded data removed]",
      "text/plain": [
       "<Figure size 432x288 with 1 Axes>"
      ]
     },
     "metadata": {
      "needs_background": "light"
     },
     "output_type": "display_data"
    }
   ],
   "source": [
    "plt.hist(logreg.coef_[0]);\n",
    "plt.yscale('log')"
   ]
  },
  {
   "cell_type": "code",
   "execution_count": 61,
   "metadata": {
    "ExecuteTime": {
     "end_time": "2020-02-27T20:33:34.156958Z",
     "start_time": "2020-02-27T20:33:34.139385Z"
    }
   },
   "outputs": [
    {
     "data": {
      "text/plain": [
       "array([[-3.04870687e-04, -4.06842695e-07, -1.27168903e-03,\n",
       "         7.11492292e-10,  1.26544826e-08, -3.03571945e-13,\n",
       "         3.97804285e-08, -3.68538854e-10, -1.48680640e-06,\n",
       "         8.38451803e-09,  7.16720700e-10, -6.07143891e-13,\n",
       "        -6.35036449e-08, -1.05630183e-08, -1.18241615e-09,\n",
       "        -6.88331550e-09,  0.00000000e+00,  0.00000000e+00,\n",
       "        -5.42029909e-09,  2.38964391e-03,  1.84283565e-03,\n",
       "         2.44965448e-06,  2.44779507e-06,  4.15198098e-07,\n",
       "         4.18373430e-07,  1.44604396e-06,  1.75329957e-07,\n",
       "        -3.23597337e-07,  1.30679802e-03,  4.85967382e-04,\n",
       "         1.78521165e-06,  9.07607672e-08,  3.33423163e-06,\n",
       "        -2.91254241e-08,  2.44795183e-06,  2.44891118e-06,\n",
       "         4.14042803e-07,  4.24013305e-07,  1.32511891e-06,\n",
       "        -7.21868507e-07, -7.31189313e-10,  3.47299565e-09,\n",
       "         0.00000000e+00, -4.84498595e-09,  4.35192263e-09,\n",
       "         5.07570074e-09,  2.39310882e-09,  3.39554015e-09,\n",
       "         3.97816525e-09,  3.25204832e-09,  3.41722524e-09,\n",
       "        -2.45838351e-07,  3.00186487e-09,  3.99127794e-08,\n",
       "         3.61913253e-06,  3.49522449e-09,  2.95442635e-09,\n",
       "        -8.08086822e-09, -2.85339478e-09, -1.42635061e-07,\n",
       "         4.18139376e-09,  0.00000000e+00,  4.25928306e-09,\n",
       "        -1.23527356e-06,  0.00000000e+00,  3.25414240e-09,\n",
       "         0.00000000e+00,  2.65987430e-09,  2.44722507e-09,\n",
       "         1.78594815e-09,  2.38995176e-09,  1.73114365e-09,\n",
       "         2.97052726e-09,  2.94185988e-09,  2.89888361e-09,\n",
       "         3.75591044e-09,  2.68184312e-09,  4.30156943e-09,\n",
       "         4.58400686e-09,  2.72310560e-09,  3.20807577e-09,\n",
       "         3.60656193e-09, -1.41356658e-08, -1.39669873e-07,\n",
       "         0.00000000e+00,  8.40749121e-10, -1.03956873e-09,\n",
       "         2.66139191e-09,  2.58465822e-06, -3.90272477e-10,\n",
       "         4.07687217e-09,  2.36424827e-09,  2.97270268e-09,\n",
       "        -3.25180223e-07,  3.09473060e-09,  2.92655414e-09,\n",
       "         1.82041935e-09,  1.81549574e-09,  3.70614967e-09,\n",
       "         2.22438185e-09,  0.00000000e+00,  0.00000000e+00,\n",
       "         1.42452938e-09, -3.97842506e-10, -2.05351254e-08,\n",
       "         4.68237751e-09,  3.02130257e-09,  2.58760293e-09,\n",
       "         3.59242867e-09,  3.78884631e-07,  1.42708927e-08,\n",
       "         1.47863578e-09,  2.19077656e-08,  2.44644211e-06,\n",
       "        -6.84555168e-10, -4.04515140e-10, -3.05218594e-10,\n",
       "         1.37603607e-06,  3.34665524e-09]])"
      ]
     },
     "execution_count": 61,
     "metadata": {},
     "output_type": "execute_result"
    }
   ],
   "source": [
    "logreg.coef_"
   ]
  },
  {
   "cell_type": "markdown",
   "metadata": {},
   "source": [
    "## Only using basic metadata\n",
    "It's useful to see how we do with only the first few columns:"
   ]
  },
  {
   "cell_type": "code",
   "execution_count": null,
   "metadata": {},
   "outputs": [],
   "source": []
  },
  {
   "cell_type": "markdown",
   "metadata": {},
   "source": [
    "## Residuals\n",
    "Do an analysis of the resids"
   ]
  },
  {
   "cell_type": "markdown",
   "metadata": {},
   "source": [
    "Maybe simulate some internal attacks on your own network. Can you connect a networking component with a model scoring component?"
   ]
  },
  {
   "cell_type": "markdown",
   "metadata": {},
   "source": [
    "Online learning (iterative model updating). See \"vawpol wabbit\""
   ]
  },
  {
   "cell_type": "markdown",
   "metadata": {
    "ExecuteTime": {
     "end_time": "2020-03-02T01:01:04.553725Z",
     "start_time": "2020-03-02T01:01:04.530751Z"
    }
   },
   "source": [
    "See\n",
    "\n",
    "http://onlineprediction.net/?n=Main.HomePage\n",
    "\n",
    "https://duckduckgo.com/?q=vawp`ol+wabbit&t=ffab&ia=web\n",
    "    "
   ]
  },
  {
   "cell_type": "code",
   "execution_count": null,
   "metadata": {},
   "outputs": [],
   "source": []
  }
 ],
 "metadata": {
  "kernelspec": {
   "display_name": "Python 3",
   "language": "python",
   "name": "python3"
  },
  "language_info": {
   "codemirror_mode": {
    "name": "ipython",
    "version": 3
   },
   "file_extension": ".py",
   "mimetype": "text/x-python",
   "name": "python",
   "nbconvert_exporter": "python",
   "pygments_lexer": "ipython3",
   "version": "3.7.6"
  },
  "toc": {
   "base_numbering": 1,
   "nav_menu": {},
   "number_sections": true,
   "sideBar": true,
   "skip_h1_title": false,
   "title_cell": "Table of Contents",
   "title_sidebar": "Contents",
   "toc_cell": false,
   "toc_position": {},
   "toc_section_display": true,
   "toc_window_display": false
  },
  "varInspector": {
   "cols": {
    "lenName": 16,
    "lenType": 16,
    "lenVar": 40
   },
   "kernels_config": {
    "python": {
     "delete_cmd_postfix": "",
     "delete_cmd_prefix": "del ",
     "library": "var_list.py",
     "varRefreshCmd": "print(var_dic_list())"
    },
    "r": {
     "delete_cmd_postfix": ") ",
     "delete_cmd_prefix": "rm(",
     "library": "var_list.r",
     "varRefreshCmd": "cat(var_dic_list()) "
    }
   },
   "types_to_exclude": [
    "module",
    "function",
    "builtin_function_or_method",
    "instance",
    "_Feature"
   ],
   "window_display": false
  }
 },
 "nbformat": 4,
 "nbformat_minor": 2
}
